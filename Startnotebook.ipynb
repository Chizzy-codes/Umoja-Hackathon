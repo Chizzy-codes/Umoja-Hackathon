{
 "cells": [
  {
   "cell_type": "markdown",
   "metadata": {},
   "source": [
    "# Import libraries "
   ]
  },
  {
   "cell_type": "code",
   "execution_count": 313,
   "metadata": {},
   "outputs": [],
   "source": [
    "import pandas as pd\n",
    "import numpy as np\n",
    "import datetime\n",
    "\n",
    "import seaborn as sns\n",
    "import matplotlib.pyplot as plt\n",
    "\n",
    "from sklearn.model_selection import train_test_split"
   ]
  },
  {
   "cell_type": "markdown",
   "metadata": {},
   "source": [
    "# Read data "
   ]
  },
  {
   "cell_type": "code",
   "execution_count": 314,
   "metadata": {},
   "outputs": [],
   "source": [
    "train = pd.read_csv('Train.csv')\n",
    "test = pd.read_csv('Test.csv')\n",
    "ss = pd.read_csv('SampleSubmission.csv')\n",
    "variable_def = pd.read_csv('VariableDefinitions.csv')"
   ]
  },
  {
   "cell_type": "markdown",
   "metadata": {},
   "source": [
    "# Simple EDA"
   ]
  },
  {
   "cell_type": "code",
   "execution_count": 315,
   "metadata": {},
   "outputs": [
    {
     "data": {
      "text/html": [
       "<div>\n",
       "<style scoped>\n",
       "    .dataframe tbody tr th:only-of-type {\n",
       "        vertical-align: middle;\n",
       "    }\n",
       "\n",
       "    .dataframe tbody tr th {\n",
       "        vertical-align: top;\n",
       "    }\n",
       "\n",
       "    .dataframe thead th {\n",
       "        text-align: right;\n",
       "    }\n",
       "</style>\n",
       "<table border=\"1\" class=\"dataframe\">\n",
       "  <thead>\n",
       "    <tr style=\"text-align: right;\">\n",
       "      <th></th>\n",
       "      <th>ID</th>\n",
       "      <th>Policy Start Date</th>\n",
       "      <th>Policy End Date</th>\n",
       "      <th>Gender</th>\n",
       "      <th>Age</th>\n",
       "      <th>First Transaction Date</th>\n",
       "      <th>No_Pol</th>\n",
       "      <th>Car_Category</th>\n",
       "      <th>Subject_Car_Colour</th>\n",
       "      <th>Subject_Car_Make</th>\n",
       "      <th>LGA_Name</th>\n",
       "      <th>State</th>\n",
       "      <th>ProductName</th>\n",
       "      <th>target</th>\n",
       "    </tr>\n",
       "  </thead>\n",
       "  <tbody>\n",
       "    <tr>\n",
       "      <th>0</th>\n",
       "      <td>0040R73</td>\n",
       "      <td>2010-05-14</td>\n",
       "      <td>2011-05-13</td>\n",
       "      <td>Male</td>\n",
       "      <td>30</td>\n",
       "      <td>2010-05-14</td>\n",
       "      <td>1</td>\n",
       "      <td>Saloon</td>\n",
       "      <td>Black</td>\n",
       "      <td>TOYOTA</td>\n",
       "      <td>NaN</td>\n",
       "      <td>NaN</td>\n",
       "      <td>Car Classic</td>\n",
       "      <td>0</td>\n",
       "    </tr>\n",
       "    <tr>\n",
       "      <th>1</th>\n",
       "      <td>0046BNK</td>\n",
       "      <td>2010-11-29</td>\n",
       "      <td>2011-11-28</td>\n",
       "      <td>Female</td>\n",
       "      <td>79</td>\n",
       "      <td>2010-11-29</td>\n",
       "      <td>1</td>\n",
       "      <td>JEEP</td>\n",
       "      <td>Grey</td>\n",
       "      <td>TOYOTA</td>\n",
       "      <td>NaN</td>\n",
       "      <td>NaN</td>\n",
       "      <td>Car Classic</td>\n",
       "      <td>1</td>\n",
       "    </tr>\n",
       "    <tr>\n",
       "      <th>2</th>\n",
       "      <td>005QMC3</td>\n",
       "      <td>2010-03-21</td>\n",
       "      <td>2011-03-20</td>\n",
       "      <td>Male</td>\n",
       "      <td>43</td>\n",
       "      <td>2010-03-21</td>\n",
       "      <td>1</td>\n",
       "      <td>Saloon</td>\n",
       "      <td>Red</td>\n",
       "      <td>TOYOTA</td>\n",
       "      <td>NaN</td>\n",
       "      <td>NaN</td>\n",
       "      <td>Car Classic</td>\n",
       "      <td>0</td>\n",
       "    </tr>\n",
       "    <tr>\n",
       "      <th>3</th>\n",
       "      <td>0079OHW</td>\n",
       "      <td>2010-08-21</td>\n",
       "      <td>2011-08-20</td>\n",
       "      <td>Male</td>\n",
       "      <td>2</td>\n",
       "      <td>2010-08-21</td>\n",
       "      <td>1</td>\n",
       "      <td>NaN</td>\n",
       "      <td>NaN</td>\n",
       "      <td>NaN</td>\n",
       "      <td>NaN</td>\n",
       "      <td>NaN</td>\n",
       "      <td>CarSafe</td>\n",
       "      <td>0</td>\n",
       "    </tr>\n",
       "    <tr>\n",
       "      <th>4</th>\n",
       "      <td>00BRP63</td>\n",
       "      <td>2010-08-29</td>\n",
       "      <td>2010-12-31</td>\n",
       "      <td>Entity</td>\n",
       "      <td>20</td>\n",
       "      <td>2010-08-29</td>\n",
       "      <td>3</td>\n",
       "      <td>NaN</td>\n",
       "      <td>NaN</td>\n",
       "      <td>NaN</td>\n",
       "      <td>Lagos</td>\n",
       "      <td>Lagos</td>\n",
       "      <td>Muuve</td>\n",
       "      <td>1</td>\n",
       "    </tr>\n",
       "  </tbody>\n",
       "</table>\n",
       "</div>"
      ],
      "text/plain": [
       "        ID Policy Start Date Policy End Date  Gender  Age  \\\n",
       "0  0040R73        2010-05-14      2011-05-13    Male   30   \n",
       "1  0046BNK        2010-11-29      2011-11-28  Female   79   \n",
       "2  005QMC3        2010-03-21      2011-03-20    Male   43   \n",
       "3  0079OHW        2010-08-21      2011-08-20    Male    2   \n",
       "4  00BRP63        2010-08-29      2010-12-31  Entity   20   \n",
       "\n",
       "  First Transaction Date  No_Pol Car_Category Subject_Car_Colour  \\\n",
       "0             2010-05-14       1       Saloon              Black   \n",
       "1             2010-11-29       1         JEEP               Grey   \n",
       "2             2010-03-21       1       Saloon                Red   \n",
       "3             2010-08-21       1          NaN                NaN   \n",
       "4             2010-08-29       3          NaN                NaN   \n",
       "\n",
       "  Subject_Car_Make LGA_Name  State  ProductName  target  \n",
       "0           TOYOTA      NaN    NaN  Car Classic       0  \n",
       "1           TOYOTA      NaN    NaN  Car Classic       1  \n",
       "2           TOYOTA      NaN    NaN  Car Classic       0  \n",
       "3              NaN      NaN    NaN      CarSafe       0  \n",
       "4              NaN    Lagos  Lagos        Muuve       1  "
      ]
     },
     "execution_count": 315,
     "metadata": {},
     "output_type": "execute_result"
    }
   ],
   "source": [
    "train.head()"
   ]
  },
  {
   "cell_type": "code",
   "execution_count": 316,
   "metadata": {},
   "outputs": [
    {
     "data": {
      "text/html": [
       "<div>\n",
       "<style scoped>\n",
       "    .dataframe tbody tr th:only-of-type {\n",
       "        vertical-align: middle;\n",
       "    }\n",
       "\n",
       "    .dataframe tbody tr th {\n",
       "        vertical-align: top;\n",
       "    }\n",
       "\n",
       "    .dataframe thead th {\n",
       "        text-align: right;\n",
       "    }\n",
       "</style>\n",
       "<table border=\"1\" class=\"dataframe\">\n",
       "  <thead>\n",
       "    <tr style=\"text-align: right;\">\n",
       "      <th></th>\n",
       "      <th>ID</th>\n",
       "      <th>Policy Start Date</th>\n",
       "      <th>Policy End Date</th>\n",
       "      <th>Gender</th>\n",
       "      <th>Age</th>\n",
       "      <th>First Transaction Date</th>\n",
       "      <th>No_Pol</th>\n",
       "      <th>Car_Category</th>\n",
       "      <th>Subject_Car_Colour</th>\n",
       "      <th>Subject_Car_Make</th>\n",
       "      <th>LGA_Name</th>\n",
       "      <th>State</th>\n",
       "      <th>ProductName</th>\n",
       "    </tr>\n",
       "  </thead>\n",
       "  <tbody>\n",
       "    <tr>\n",
       "      <th>0</th>\n",
       "      <td>009D84L</td>\n",
       "      <td>2010-04-24</td>\n",
       "      <td>2011-03-27</td>\n",
       "      <td>NO GENDER</td>\n",
       "      <td>25</td>\n",
       "      <td>2010-04-24</td>\n",
       "      <td>1</td>\n",
       "      <td>NaN</td>\n",
       "      <td>As Attached</td>\n",
       "      <td>Iveco</td>\n",
       "      <td>Victoria Island</td>\n",
       "      <td>Lagos</td>\n",
       "      <td>CVTP</td>\n",
       "    </tr>\n",
       "    <tr>\n",
       "      <th>1</th>\n",
       "      <td>01DO2EQ</td>\n",
       "      <td>2010-01-01</td>\n",
       "      <td>2010-12-31</td>\n",
       "      <td>NaN</td>\n",
       "      <td>120</td>\n",
       "      <td>2010-01-01</td>\n",
       "      <td>4</td>\n",
       "      <td>NaN</td>\n",
       "      <td>As Attached</td>\n",
       "      <td>TOYOTA</td>\n",
       "      <td>Victoria Island</td>\n",
       "      <td>Lagos</td>\n",
       "      <td>Muuve</td>\n",
       "    </tr>\n",
       "    <tr>\n",
       "      <th>2</th>\n",
       "      <td>01QM0NU</td>\n",
       "      <td>2010-10-23</td>\n",
       "      <td>2011-10-22</td>\n",
       "      <td>Female</td>\n",
       "      <td>46</td>\n",
       "      <td>2010-10-23</td>\n",
       "      <td>1</td>\n",
       "      <td>NaN</td>\n",
       "      <td>NaN</td>\n",
       "      <td>Ford</td>\n",
       "      <td>Abuja Municipal</td>\n",
       "      <td>Abuja-Municipal</td>\n",
       "      <td>Car Classic</td>\n",
       "    </tr>\n",
       "    <tr>\n",
       "      <th>3</th>\n",
       "      <td>024NJLZ</td>\n",
       "      <td>2010-10-14</td>\n",
       "      <td>2011-10-13</td>\n",
       "      <td>Male</td>\n",
       "      <td>32</td>\n",
       "      <td>2010-10-14</td>\n",
       "      <td>1</td>\n",
       "      <td>NaN</td>\n",
       "      <td>NaN</td>\n",
       "      <td>NaN</td>\n",
       "      <td>Kosofe</td>\n",
       "      <td>Benue</td>\n",
       "      <td>Car Classic</td>\n",
       "    </tr>\n",
       "    <tr>\n",
       "      <th>4</th>\n",
       "      <td>02BYET3</td>\n",
       "      <td>2010-09-16</td>\n",
       "      <td>2010-12-31</td>\n",
       "      <td>NaN</td>\n",
       "      <td>120</td>\n",
       "      <td>2010-09-16</td>\n",
       "      <td>4</td>\n",
       "      <td>NaN</td>\n",
       "      <td>NaN</td>\n",
       "      <td>TOYOTA</td>\n",
       "      <td>Victoria Island</td>\n",
       "      <td>Lagos</td>\n",
       "      <td>Muuve</td>\n",
       "    </tr>\n",
       "  </tbody>\n",
       "</table>\n",
       "</div>"
      ],
      "text/plain": [
       "        ID Policy Start Date Policy End Date     Gender  Age  \\\n",
       "0  009D84L        2010-04-24      2011-03-27  NO GENDER   25   \n",
       "1  01DO2EQ        2010-01-01      2010-12-31        NaN  120   \n",
       "2  01QM0NU        2010-10-23      2011-10-22     Female   46   \n",
       "3  024NJLZ        2010-10-14      2011-10-13       Male   32   \n",
       "4  02BYET3        2010-09-16      2010-12-31        NaN  120   \n",
       "\n",
       "  First Transaction Date  No_Pol Car_Category Subject_Car_Colour  \\\n",
       "0             2010-04-24       1          NaN        As Attached   \n",
       "1             2010-01-01       4          NaN        As Attached   \n",
       "2             2010-10-23       1          NaN                NaN   \n",
       "3             2010-10-14       1          NaN                NaN   \n",
       "4             2010-09-16       4          NaN                NaN   \n",
       "\n",
       "  Subject_Car_Make         LGA_Name            State  ProductName  \n",
       "0            Iveco  Victoria Island            Lagos         CVTP  \n",
       "1           TOYOTA  Victoria Island            Lagos        Muuve  \n",
       "2             Ford  Abuja Municipal  Abuja-Municipal  Car Classic  \n",
       "3              NaN           Kosofe            Benue  Car Classic  \n",
       "4           TOYOTA  Victoria Island            Lagos        Muuve  "
      ]
     },
     "execution_count": 316,
     "metadata": {},
     "output_type": "execute_result"
    }
   ],
   "source": [
    "test.head()"
   ]
  },
  {
   "cell_type": "code",
   "execution_count": 317,
   "metadata": {},
   "outputs": [
    {
     "data": {
      "text/html": [
       "<div>\n",
       "<style scoped>\n",
       "    .dataframe tbody tr th:only-of-type {\n",
       "        vertical-align: middle;\n",
       "    }\n",
       "\n",
       "    .dataframe tbody tr th {\n",
       "        vertical-align: top;\n",
       "    }\n",
       "\n",
       "    .dataframe thead th {\n",
       "        text-align: right;\n",
       "    }\n",
       "</style>\n",
       "<table border=\"1\" class=\"dataframe\">\n",
       "  <thead>\n",
       "    <tr style=\"text-align: right;\">\n",
       "      <th></th>\n",
       "      <th>ID</th>\n",
       "      <th>target</th>\n",
       "    </tr>\n",
       "  </thead>\n",
       "  <tbody>\n",
       "    <tr>\n",
       "      <th>0</th>\n",
       "      <td>009D84L</td>\n",
       "      <td>0</td>\n",
       "    </tr>\n",
       "    <tr>\n",
       "      <th>1</th>\n",
       "      <td>01DO2EQ</td>\n",
       "      <td>0</td>\n",
       "    </tr>\n",
       "    <tr>\n",
       "      <th>2</th>\n",
       "      <td>01QM0NU</td>\n",
       "      <td>0</td>\n",
       "    </tr>\n",
       "    <tr>\n",
       "      <th>3</th>\n",
       "      <td>024NJLZ</td>\n",
       "      <td>0</td>\n",
       "    </tr>\n",
       "    <tr>\n",
       "      <th>4</th>\n",
       "      <td>02BYET3</td>\n",
       "      <td>0</td>\n",
       "    </tr>\n",
       "  </tbody>\n",
       "</table>\n",
       "</div>"
      ],
      "text/plain": [
       "        ID  target\n",
       "0  009D84L       0\n",
       "1  01DO2EQ       0\n",
       "2  01QM0NU       0\n",
       "3  024NJLZ       0\n",
       "4  02BYET3       0"
      ]
     },
     "execution_count": 317,
     "metadata": {},
     "output_type": "execute_result"
    }
   ],
   "source": [
    "ss.head()"
   ]
  },
  {
   "cell_type": "code",
   "execution_count": 318,
   "metadata": {},
   "outputs": [
    {
     "data": {
      "text/html": [
       "<div>\n",
       "<style scoped>\n",
       "    .dataframe tbody tr th:only-of-type {\n",
       "        vertical-align: middle;\n",
       "    }\n",
       "\n",
       "    .dataframe tbody tr th {\n",
       "        vertical-align: top;\n",
       "    }\n",
       "\n",
       "    .dataframe thead th {\n",
       "        text-align: right;\n",
       "    }\n",
       "</style>\n",
       "<table border=\"1\" class=\"dataframe\">\n",
       "  <thead>\n",
       "    <tr style=\"text-align: right;\">\n",
       "      <th></th>\n",
       "      <th>ID</th>\n",
       "      <th>Unique ID for the customer</th>\n",
       "    </tr>\n",
       "  </thead>\n",
       "  <tbody>\n",
       "    <tr>\n",
       "      <th>0</th>\n",
       "      <td>Policy Start Date</td>\n",
       "      <td>Date policy started</td>\n",
       "    </tr>\n",
       "    <tr>\n",
       "      <th>1</th>\n",
       "      <td>Policy End Date</td>\n",
       "      <td>Date policy ended</td>\n",
       "    </tr>\n",
       "    <tr>\n",
       "      <th>2</th>\n",
       "      <td>Gender</td>\n",
       "      <td>Gender of the customer</td>\n",
       "    </tr>\n",
       "    <tr>\n",
       "      <th>3</th>\n",
       "      <td>Age</td>\n",
       "      <td>Age of the customer</td>\n",
       "    </tr>\n",
       "    <tr>\n",
       "      <th>4</th>\n",
       "      <td>ProductName</td>\n",
       "      <td>Name of Insurance policy</td>\n",
       "    </tr>\n",
       "    <tr>\n",
       "      <th>5</th>\n",
       "      <td>First Transaction Date</td>\n",
       "      <td>First date payment was made</td>\n",
       "    </tr>\n",
       "    <tr>\n",
       "      <th>6</th>\n",
       "      <td>No_Pol</td>\n",
       "      <td>Number of policies the customer has</td>\n",
       "    </tr>\n",
       "    <tr>\n",
       "      <th>7</th>\n",
       "      <td>Car_Category</td>\n",
       "      <td>Type of car</td>\n",
       "    </tr>\n",
       "    <tr>\n",
       "      <th>8</th>\n",
       "      <td>Subject_Car_Colour</td>\n",
       "      <td>Car colour</td>\n",
       "    </tr>\n",
       "    <tr>\n",
       "      <th>9</th>\n",
       "      <td>Subject_Car_Make</td>\n",
       "      <td>Car make</td>\n",
       "    </tr>\n",
       "    <tr>\n",
       "      <th>10</th>\n",
       "      <td>LGA_Name</td>\n",
       "      <td>City where policy was purchased</td>\n",
       "    </tr>\n",
       "    <tr>\n",
       "      <th>11</th>\n",
       "      <td>State</td>\n",
       "      <td>State where policy was purchased</td>\n",
       "    </tr>\n",
       "    <tr>\n",
       "      <th>12</th>\n",
       "      <td>No_of_claims_3_mon_period</td>\n",
       "      <td>Wether the customer claimed within a 3 month p...</td>\n",
       "    </tr>\n",
       "  </tbody>\n",
       "</table>\n",
       "</div>"
      ],
      "text/plain": [
       "                           ID  \\\n",
       "0           Policy Start Date   \n",
       "1             Policy End Date   \n",
       "2                      Gender   \n",
       "3                         Age   \n",
       "4                 ProductName   \n",
       "5      First Transaction Date   \n",
       "6                      No_Pol   \n",
       "7                Car_Category   \n",
       "8          Subject_Car_Colour   \n",
       "9            Subject_Car_Make   \n",
       "10                   LGA_Name   \n",
       "11                      State   \n",
       "12  No_of_claims_3_mon_period   \n",
       "\n",
       "                           Unique ID for the customer  \n",
       "0                                 Date policy started  \n",
       "1                                   Date policy ended  \n",
       "2                              Gender of the customer  \n",
       "3                                 Age of the customer  \n",
       "4                            Name of Insurance policy  \n",
       "5                         First date payment was made  \n",
       "6                 Number of policies the customer has  \n",
       "7                                         Type of car  \n",
       "8                                          Car colour  \n",
       "9                                            Car make  \n",
       "10                    City where policy was purchased  \n",
       "11                   State where policy was purchased  \n",
       "12  Wether the customer claimed within a 3 month p...  "
      ]
     },
     "execution_count": 318,
     "metadata": {},
     "output_type": "execute_result"
    }
   ],
   "source": [
    "variable_def"
   ]
  },
  {
   "cell_type": "code",
   "execution_count": 319,
   "metadata": {},
   "outputs": [
    {
     "name": "stdout",
     "output_type": "stream",
     "text": [
      "Train shape: (12079, 14) \n",
      "Test shape: (5177, 13) \n",
      "samplesubmission shape: (5177, 2)\n"
     ]
    }
   ],
   "source": [
    "print('Train shape:',train.shape,'\\nTest shape:', test.shape, '\\nsamplesubmission shape:',ss.shape)"
   ]
  },
  {
   "cell_type": "code",
   "execution_count": 320,
   "metadata": {},
   "outputs": [
    {
     "name": "stdout",
     "output_type": "stream",
     "text": [
      "<class 'pandas.core.frame.DataFrame'>\n",
      "RangeIndex: 12079 entries, 0 to 12078\n",
      "Data columns (total 14 columns):\n",
      " #   Column                  Non-Null Count  Dtype \n",
      "---  ------                  --------------  ----- \n",
      " 0   ID                      12079 non-null  object\n",
      " 1   Policy Start Date       12079 non-null  object\n",
      " 2   Policy End Date         12079 non-null  object\n",
      " 3   Gender                  11720 non-null  object\n",
      " 4   Age                     12079 non-null  int64 \n",
      " 5   First Transaction Date  12079 non-null  object\n",
      " 6   No_Pol                  12079 non-null  int64 \n",
      " 7   Car_Category            8341 non-null   object\n",
      " 8   Subject_Car_Colour      5117 non-null   object\n",
      " 9   Subject_Car_Make        9603 non-null   object\n",
      " 10  LGA_Name                5603 non-null   object\n",
      " 11  State                   5591 non-null   object\n",
      " 12  ProductName             12079 non-null  object\n",
      " 13  target                  12079 non-null  int64 \n",
      "dtypes: int64(3), object(11)\n",
      "memory usage: 1.3+ MB\n"
     ]
    }
   ],
   "source": [
    "train.info()"
   ]
  },
  {
   "cell_type": "code",
   "execution_count": 321,
   "metadata": {},
   "outputs": [
    {
     "name": "stdout",
     "output_type": "stream",
     "text": [
      "<class 'pandas.core.frame.DataFrame'>\n",
      "RangeIndex: 5177 entries, 0 to 5176\n",
      "Data columns (total 13 columns):\n",
      " #   Column                  Non-Null Count  Dtype \n",
      "---  ------                  --------------  ----- \n",
      " 0   ID                      5177 non-null   object\n",
      " 1   Policy Start Date       5177 non-null   object\n",
      " 2   Policy End Date         5177 non-null   object\n",
      " 3   Gender                  5021 non-null   object\n",
      " 4   Age                     5177 non-null   int64 \n",
      " 5   First Transaction Date  5177 non-null   object\n",
      " 6   No_Pol                  5177 non-null   int64 \n",
      " 7   Car_Category            3539 non-null   object\n",
      " 8   Subject_Car_Colour      2172 non-null   object\n",
      " 9   Subject_Car_Make        4116 non-null   object\n",
      " 10  LGA_Name                2395 non-null   object\n",
      " 11  State                   2389 non-null   object\n",
      " 12  ProductName             5177 non-null   object\n",
      "dtypes: int64(2), object(11)\n",
      "memory usage: 525.9+ KB\n"
     ]
    }
   ],
   "source": [
    "test.info()"
   ]
  },
  {
   "cell_type": "markdown",
   "metadata": {},
   "source": [
    "# Since the ratio of categorical variables to numerical variable is high, consider combining both train and test for easy preproccessing "
   ]
  },
  {
   "cell_type": "code",
   "execution_count": 322,
   "metadata": {},
   "outputs": [
    {
     "name": "stdout",
     "output_type": "stream",
     "text": [
      "all_data size is : (17256, 14)\n"
     ]
    }
   ],
   "source": [
    "# join train and test together\n",
    "ntrain = train.shape[0]\n",
    "ntest = test.shape[0]\n",
    "\n",
    "all_data = pd.concat((train, test)).reset_index(drop=True)\n",
    "print(\"all_data size is : {}\".format(all_data.shape))"
   ]
  },
  {
   "cell_type": "code",
   "execution_count": 324,
   "metadata": {},
   "outputs": [
    {
     "data": {
      "text/html": [
       "<div>\n",
       "<style scoped>\n",
       "    .dataframe tbody tr th:only-of-type {\n",
       "        vertical-align: middle;\n",
       "    }\n",
       "\n",
       "    .dataframe tbody tr th {\n",
       "        vertical-align: top;\n",
       "    }\n",
       "\n",
       "    .dataframe thead th {\n",
       "        text-align: right;\n",
       "    }\n",
       "</style>\n",
       "<table border=\"1\" class=\"dataframe\">\n",
       "  <thead>\n",
       "    <tr style=\"text-align: right;\">\n",
       "      <th></th>\n",
       "      <th>ID</th>\n",
       "      <th>Policy Start Date</th>\n",
       "      <th>Policy End Date</th>\n",
       "      <th>Gender</th>\n",
       "      <th>Age</th>\n",
       "      <th>First Transaction Date</th>\n",
       "      <th>No_Pol</th>\n",
       "      <th>Car_Category</th>\n",
       "      <th>Subject_Car_Colour</th>\n",
       "      <th>Subject_Car_Make</th>\n",
       "      <th>LGA_Name</th>\n",
       "      <th>State</th>\n",
       "      <th>ProductName</th>\n",
       "      <th>target</th>\n",
       "    </tr>\n",
       "  </thead>\n",
       "  <tbody>\n",
       "    <tr>\n",
       "      <th>17251</th>\n",
       "      <td>ZYXX5AF</td>\n",
       "      <td>2010-07-18</td>\n",
       "      <td>2011-07-17</td>\n",
       "      <td>Male</td>\n",
       "      <td>48</td>\n",
       "      <td>2010-07-18</td>\n",
       "      <td>1</td>\n",
       "      <td>Saloon</td>\n",
       "      <td>NaN</td>\n",
       "      <td>Honda</td>\n",
       "      <td>NaN</td>\n",
       "      <td>NaN</td>\n",
       "      <td>CarSafe</td>\n",
       "      <td>NaN</td>\n",
       "    </tr>\n",
       "    <tr>\n",
       "      <th>17252</th>\n",
       "      <td>ZYYOZ5L</td>\n",
       "      <td>2010-12-04</td>\n",
       "      <td>2011-12-03</td>\n",
       "      <td>NaN</td>\n",
       "      <td>50</td>\n",
       "      <td>2010-12-04</td>\n",
       "      <td>1</td>\n",
       "      <td>NaN</td>\n",
       "      <td>NaN</td>\n",
       "      <td>NaN</td>\n",
       "      <td>Victoria Island</td>\n",
       "      <td>Lagos</td>\n",
       "      <td>Car Classic</td>\n",
       "      <td>NaN</td>\n",
       "    </tr>\n",
       "    <tr>\n",
       "      <th>17253</th>\n",
       "      <td>ZZ1GTKD</td>\n",
       "      <td>2010-09-24</td>\n",
       "      <td>2011-09-23</td>\n",
       "      <td>Male</td>\n",
       "      <td>1</td>\n",
       "      <td>2010-09-24</td>\n",
       "      <td>1</td>\n",
       "      <td>NaN</td>\n",
       "      <td>NaN</td>\n",
       "      <td>NaN</td>\n",
       "      <td>NaN</td>\n",
       "      <td>NaN</td>\n",
       "      <td>CarSafe</td>\n",
       "      <td>NaN</td>\n",
       "    </tr>\n",
       "    <tr>\n",
       "      <th>17254</th>\n",
       "      <td>ZZDXQSI</td>\n",
       "      <td>2010-07-17</td>\n",
       "      <td>2011-07-16</td>\n",
       "      <td>Female</td>\n",
       "      <td>52</td>\n",
       "      <td>2010-07-17</td>\n",
       "      <td>1</td>\n",
       "      <td>Saloon</td>\n",
       "      <td>Grey</td>\n",
       "      <td>TOYOTA</td>\n",
       "      <td>NaN</td>\n",
       "      <td>NaN</td>\n",
       "      <td>Car Classic</td>\n",
       "      <td>NaN</td>\n",
       "    </tr>\n",
       "    <tr>\n",
       "      <th>17255</th>\n",
       "      <td>ZZYTLV1</td>\n",
       "      <td>2010-07-17</td>\n",
       "      <td>2011-07-16</td>\n",
       "      <td>Male</td>\n",
       "      <td>68</td>\n",
       "      <td>2010-07-17</td>\n",
       "      <td>1</td>\n",
       "      <td>Saloon</td>\n",
       "      <td>NaN</td>\n",
       "      <td>Peugeot</td>\n",
       "      <td>NaN</td>\n",
       "      <td>NaN</td>\n",
       "      <td>CarSafe</td>\n",
       "      <td>NaN</td>\n",
       "    </tr>\n",
       "  </tbody>\n",
       "</table>\n",
       "</div>"
      ],
      "text/plain": [
       "            ID Policy Start Date Policy End Date  Gender  Age  \\\n",
       "17251  ZYXX5AF        2010-07-18      2011-07-17    Male   48   \n",
       "17252  ZYYOZ5L        2010-12-04      2011-12-03     NaN   50   \n",
       "17253  ZZ1GTKD        2010-09-24      2011-09-23    Male    1   \n",
       "17254  ZZDXQSI        2010-07-17      2011-07-16  Female   52   \n",
       "17255  ZZYTLV1        2010-07-17      2011-07-16    Male   68   \n",
       "\n",
       "      First Transaction Date  No_Pol Car_Category Subject_Car_Colour  \\\n",
       "17251             2010-07-18       1       Saloon                NaN   \n",
       "17252             2010-12-04       1          NaN                NaN   \n",
       "17253             2010-09-24       1          NaN                NaN   \n",
       "17254             2010-07-17       1       Saloon               Grey   \n",
       "17255             2010-07-17       1       Saloon                NaN   \n",
       "\n",
       "      Subject_Car_Make         LGA_Name  State  ProductName  target  \n",
       "17251            Honda              NaN    NaN      CarSafe     NaN  \n",
       "17252              NaN  Victoria Island  Lagos  Car Classic     NaN  \n",
       "17253              NaN              NaN    NaN      CarSafe     NaN  \n",
       "17254           TOYOTA              NaN    NaN  Car Classic     NaN  \n",
       "17255          Peugeot              NaN    NaN      CarSafe     NaN  "
      ]
     },
     "execution_count": 324,
     "metadata": {},
     "output_type": "execute_result"
    }
   ],
   "source": [
    "all_data.tail()"
   ]
  },
  {
   "cell_type": "code",
   "execution_count": 325,
   "metadata": {},
   "outputs": [
    {
     "data": {
      "text/plain": [
       "['ID',\n",
       " 'Gender',\n",
       " 'No_Pol',\n",
       " 'Car_Category',\n",
       " 'Subject_Car_Colour',\n",
       " 'Subject_Car_Make',\n",
       " 'LGA_Name',\n",
       " 'State',\n",
       " 'ProductName']"
      ]
     },
     "execution_count": 325,
     "metadata": {},
     "output_type": "execute_result"
    }
   ],
   "source": [
    "date_col = ['Policy Start Date','Policy End Date','First Transaction Date']\n",
    "num_col = ['Age']\n",
    "cat_col = [col for col in test.columns if col not in date_col+num_col]\n",
    "cat_col"
   ]
  },
  {
   "cell_type": "code",
   "execution_count": 326,
   "metadata": {},
   "outputs": [],
   "source": [
    "cat_col.remove('ID')"
   ]
  },
  {
   "cell_type": "code",
   "execution_count": 327,
   "metadata": {},
   "outputs": [
    {
     "data": {
      "text/html": [
       "<div>\n",
       "<style scoped>\n",
       "    .dataframe tbody tr th:only-of-type {\n",
       "        vertical-align: middle;\n",
       "    }\n",
       "\n",
       "    .dataframe tbody tr th {\n",
       "        vertical-align: top;\n",
       "    }\n",
       "\n",
       "    .dataframe thead th {\n",
       "        text-align: right;\n",
       "    }\n",
       "</style>\n",
       "<table border=\"1\" class=\"dataframe\">\n",
       "  <thead>\n",
       "    <tr style=\"text-align: right;\">\n",
       "      <th></th>\n",
       "      <th>Age</th>\n",
       "      <th>No_Pol</th>\n",
       "      <th>target</th>\n",
       "    </tr>\n",
       "  </thead>\n",
       "  <tbody>\n",
       "    <tr>\n",
       "      <th>count</th>\n",
       "      <td>12079.000000</td>\n",
       "      <td>12079.000000</td>\n",
       "      <td>12079.000000</td>\n",
       "    </tr>\n",
       "    <tr>\n",
       "      <th>mean</th>\n",
       "      <td>42.234539</td>\n",
       "      <td>1.307227</td>\n",
       "      <td>0.120457</td>\n",
       "    </tr>\n",
       "    <tr>\n",
       "      <th>std</th>\n",
       "      <td>97.492565</td>\n",
       "      <td>0.733085</td>\n",
       "      <td>0.325509</td>\n",
       "    </tr>\n",
       "    <tr>\n",
       "      <th>min</th>\n",
       "      <td>-6099.000000</td>\n",
       "      <td>1.000000</td>\n",
       "      <td>0.000000</td>\n",
       "    </tr>\n",
       "    <tr>\n",
       "      <th>25%</th>\n",
       "      <td>35.000000</td>\n",
       "      <td>1.000000</td>\n",
       "      <td>0.000000</td>\n",
       "    </tr>\n",
       "    <tr>\n",
       "      <th>50%</th>\n",
       "      <td>41.000000</td>\n",
       "      <td>1.000000</td>\n",
       "      <td>0.000000</td>\n",
       "    </tr>\n",
       "    <tr>\n",
       "      <th>75%</th>\n",
       "      <td>50.000000</td>\n",
       "      <td>1.000000</td>\n",
       "      <td>0.000000</td>\n",
       "    </tr>\n",
       "    <tr>\n",
       "      <th>max</th>\n",
       "      <td>320.000000</td>\n",
       "      <td>10.000000</td>\n",
       "      <td>1.000000</td>\n",
       "    </tr>\n",
       "  </tbody>\n",
       "</table>\n",
       "</div>"
      ],
      "text/plain": [
       "                Age        No_Pol        target\n",
       "count  12079.000000  12079.000000  12079.000000\n",
       "mean      42.234539      1.307227      0.120457\n",
       "std       97.492565      0.733085      0.325509\n",
       "min    -6099.000000      1.000000      0.000000\n",
       "25%       35.000000      1.000000      0.000000\n",
       "50%       41.000000      1.000000      0.000000\n",
       "75%       50.000000      1.000000      0.000000\n",
       "max      320.000000     10.000000      1.000000"
      ]
     },
     "execution_count": 327,
     "metadata": {},
     "output_type": "execute_result"
    }
   ],
   "source": [
    "train.describe()"
   ]
  },
  {
   "cell_type": "code",
   "execution_count": 328,
   "metadata": {},
   "outputs": [
    {
     "data": {
      "text/html": [
       "<div>\n",
       "<style scoped>\n",
       "    .dataframe tbody tr th:only-of-type {\n",
       "        vertical-align: middle;\n",
       "    }\n",
       "\n",
       "    .dataframe tbody tr th {\n",
       "        vertical-align: top;\n",
       "    }\n",
       "\n",
       "    .dataframe thead th {\n",
       "        text-align: right;\n",
       "    }\n",
       "</style>\n",
       "<table border=\"1\" class=\"dataframe\">\n",
       "  <thead>\n",
       "    <tr style=\"text-align: right;\">\n",
       "      <th></th>\n",
       "      <th>Age</th>\n",
       "      <th>No_Pol</th>\n",
       "    </tr>\n",
       "  </thead>\n",
       "  <tbody>\n",
       "    <tr>\n",
       "      <th>count</th>\n",
       "      <td>5177.000000</td>\n",
       "      <td>5177.000000</td>\n",
       "    </tr>\n",
       "    <tr>\n",
       "      <th>mean</th>\n",
       "      <td>43.710257</td>\n",
       "      <td>1.308287</td>\n",
       "    </tr>\n",
       "    <tr>\n",
       "      <th>std</th>\n",
       "      <td>22.439018</td>\n",
       "      <td>0.712004</td>\n",
       "    </tr>\n",
       "    <tr>\n",
       "      <th>min</th>\n",
       "      <td>-76.000000</td>\n",
       "      <td>1.000000</td>\n",
       "    </tr>\n",
       "    <tr>\n",
       "      <th>25%</th>\n",
       "      <td>34.000000</td>\n",
       "      <td>1.000000</td>\n",
       "    </tr>\n",
       "    <tr>\n",
       "      <th>50%</th>\n",
       "      <td>40.000000</td>\n",
       "      <td>1.000000</td>\n",
       "    </tr>\n",
       "    <tr>\n",
       "      <th>75%</th>\n",
       "      <td>50.000000</td>\n",
       "      <td>1.000000</td>\n",
       "    </tr>\n",
       "    <tr>\n",
       "      <th>max</th>\n",
       "      <td>320.000000</td>\n",
       "      <td>10.000000</td>\n",
       "    </tr>\n",
       "  </tbody>\n",
       "</table>\n",
       "</div>"
      ],
      "text/plain": [
       "               Age       No_Pol\n",
       "count  5177.000000  5177.000000\n",
       "mean     43.710257     1.308287\n",
       "std      22.439018     0.712004\n",
       "min     -76.000000     1.000000\n",
       "25%      34.000000     1.000000\n",
       "50%      40.000000     1.000000\n",
       "75%      50.000000     1.000000\n",
       "max     320.000000    10.000000"
      ]
     },
     "execution_count": 328,
     "metadata": {},
     "output_type": "execute_result"
    }
   ],
   "source": [
    "test.describe()"
   ]
  },
  {
   "cell_type": "code",
   "execution_count": 329,
   "metadata": {},
   "outputs": [
    {
     "data": {
      "text/plain": [
       "<matplotlib.axes._subplots.AxesSubplot at 0x7f8894902fd0>"
      ]
     },
     "execution_count": 329,
     "metadata": {},
     "output_type": "execute_result"
    },
    {
     "data": {
      "image/png": "[encoded data removed]",
      "text/plain": [
       "<Figure size 432x288 with 1 Axes>"
      ]
     },
     "metadata": {
      "needs_background": "light"
     },
     "output_type": "display_data"
    }
   ],
   "source": [
    "sns.countplot(train.target)"
   ]
  },
  {
   "cell_type": "markdown",
   "metadata": {},
   "source": [
    "The dataset is is skewed towards class 0, consider balancing the dataset "
   ]
  },
  {
   "cell_type": "code",
   "execution_count": 330,
   "metadata": {},
   "outputs": [
    {
     "name": "stdout",
     "output_type": "stream",
     "text": [
      "Are There Missing value in train? : True\n",
      "ID                         0.000000\n",
      "Policy Start Date          0.000000\n",
      "Policy End Date            0.000000\n",
      "Gender                     2.972100\n",
      "Age                        0.000000\n",
      "First Transaction Date     0.000000\n",
      "No_Pol                     0.000000\n",
      "Car_Category              30.946270\n",
      "Subject_Car_Colour        57.637222\n",
      "Subject_Car_Make          20.498386\n",
      "LGA_Name                  53.613710\n",
      "State                     53.713056\n",
      "ProductName                0.000000\n",
      "target                     0.000000\n",
      "dtype: float64\n"
     ]
    }
   ],
   "source": [
    "print(\"Are There Missing value in train? :\",train.isnull().any().any())\n",
    "print((train.isnull().sum()/train.shape[0])*100)"
   ]
  },
  {
   "cell_type": "code",
   "execution_count": 331,
   "metadata": {},
   "outputs": [
    {
     "name": "stdout",
     "output_type": "stream",
     "text": [
      "Are There Missing value in test? : True\n",
      "ID                         0.000000\n",
      "Policy Start Date          0.000000\n",
      "Policy End Date            0.000000\n",
      "Gender                     3.013328\n",
      "Age                        0.000000\n",
      "First Transaction Date     0.000000\n",
      "No_Pol                     0.000000\n",
      "Car_Category              31.639946\n",
      "Subject_Car_Colour        58.045200\n",
      "Subject_Car_Make          20.494495\n",
      "LGA_Name                  53.737686\n",
      "State                     53.853583\n",
      "ProductName                0.000000\n",
      "dtype: float64\n"
     ]
    }
   ],
   "source": [
    "print(\"Are There Missing value in test? :\",test.isnull().any().any())\n",
    "print((test.isnull().sum()/test.shape[0])*100)"
   ]
  },
  {
   "cell_type": "markdown",
   "metadata": {},
   "source": [
    "Remember to handle the missing values "
   ]
  },
  {
   "cell_type": "code",
   "execution_count": 332,
   "metadata": {},
   "outputs": [
    {
     "data": {
      "image/png": "[encoded data removed]",
      "text/plain": [
       "<Figure size 576x576 with 2 Axes>"
      ]
     },
     "metadata": {
      "needs_background": "light"
     },
     "output_type": "display_data"
    }
   ],
   "source": [
    "f,ax=plt.subplots(figsize=(8,8))\n",
    "sns.heatmap(train.corr(),annot=True,linewidth=.5,fmt='.1f',ax=ax)\n",
    "plt.show()"
   ]
  },
  {
   "cell_type": "markdown",
   "metadata": {},
   "source": [
    "### Correlation might not be a best measure for this dataset since there are more categorical features"
   ]
  },
  {
   "cell_type": "code",
   "execution_count": 335,
   "metadata": {},
   "outputs": [
    {
     "data": {
      "text/html": [
       "<div>\n",
       "<style scoped>\n",
       "    .dataframe tbody tr th:only-of-type {\n",
       "        vertical-align: middle;\n",
       "    }\n",
       "\n",
       "    .dataframe tbody tr th {\n",
       "        vertical-align: top;\n",
       "    }\n",
       "\n",
       "    .dataframe thead th {\n",
       "        text-align: right;\n",
       "    }\n",
       "</style>\n",
       "<table border=\"1\" class=\"dataframe\">\n",
       "  <thead>\n",
       "    <tr style=\"text-align: right;\">\n",
       "      <th></th>\n",
       "      <th>ID</th>\n",
       "      <th>Policy Start Date</th>\n",
       "      <th>Policy End Date</th>\n",
       "      <th>Gender</th>\n",
       "      <th>Age</th>\n",
       "      <th>First Transaction Date</th>\n",
       "      <th>No_Pol</th>\n",
       "      <th>Car_Category</th>\n",
       "      <th>Subject_Car_Colour</th>\n",
       "      <th>Subject_Car_Make</th>\n",
       "      <th>LGA_Name</th>\n",
       "      <th>State</th>\n",
       "      <th>ProductName</th>\n",
       "      <th>target</th>\n",
       "    </tr>\n",
       "  </thead>\n",
       "  <tbody>\n",
       "    <tr>\n",
       "      <th>0</th>\n",
       "      <td>0040R73</td>\n",
       "      <td>2010-05-14</td>\n",
       "      <td>2011-05-13</td>\n",
       "      <td>Male</td>\n",
       "      <td>30</td>\n",
       "      <td>2010-05-14</td>\n",
       "      <td>1</td>\n",
       "      <td>Saloon</td>\n",
       "      <td>Black</td>\n",
       "      <td>TOYOTA</td>\n",
       "      <td>NaN</td>\n",
       "      <td>NaN</td>\n",
       "      <td>Car Classic</td>\n",
       "      <td>0.0</td>\n",
       "    </tr>\n",
       "    <tr>\n",
       "      <th>1</th>\n",
       "      <td>0046BNK</td>\n",
       "      <td>2010-11-29</td>\n",
       "      <td>2011-11-28</td>\n",
       "      <td>Female</td>\n",
       "      <td>79</td>\n",
       "      <td>2010-11-29</td>\n",
       "      <td>1</td>\n",
       "      <td>JEEP</td>\n",
       "      <td>Grey</td>\n",
       "      <td>TOYOTA</td>\n",
       "      <td>NaN</td>\n",
       "      <td>NaN</td>\n",
       "      <td>Car Classic</td>\n",
       "      <td>1.0</td>\n",
       "    </tr>\n",
       "    <tr>\n",
       "      <th>2</th>\n",
       "      <td>005QMC3</td>\n",
       "      <td>2010-03-21</td>\n",
       "      <td>2011-03-20</td>\n",
       "      <td>Male</td>\n",
       "      <td>43</td>\n",
       "      <td>2010-03-21</td>\n",
       "      <td>1</td>\n",
       "      <td>Saloon</td>\n",
       "      <td>Red</td>\n",
       "      <td>TOYOTA</td>\n",
       "      <td>NaN</td>\n",
       "      <td>NaN</td>\n",
       "      <td>Car Classic</td>\n",
       "      <td>0.0</td>\n",
       "    </tr>\n",
       "    <tr>\n",
       "      <th>3</th>\n",
       "      <td>0079OHW</td>\n",
       "      <td>2010-08-21</td>\n",
       "      <td>2011-08-20</td>\n",
       "      <td>Male</td>\n",
       "      <td>2</td>\n",
       "      <td>2010-08-21</td>\n",
       "      <td>1</td>\n",
       "      <td>NaN</td>\n",
       "      <td>NaN</td>\n",
       "      <td>NaN</td>\n",
       "      <td>NaN</td>\n",
       "      <td>NaN</td>\n",
       "      <td>CarSafe</td>\n",
       "      <td>0.0</td>\n",
       "    </tr>\n",
       "    <tr>\n",
       "      <th>4</th>\n",
       "      <td>00BRP63</td>\n",
       "      <td>2010-08-29</td>\n",
       "      <td>2010-12-31</td>\n",
       "      <td>Entity</td>\n",
       "      <td>20</td>\n",
       "      <td>2010-08-29</td>\n",
       "      <td>3</td>\n",
       "      <td>NaN</td>\n",
       "      <td>NaN</td>\n",
       "      <td>NaN</td>\n",
       "      <td>Lagos</td>\n",
       "      <td>Lagos</td>\n",
       "      <td>Muuve</td>\n",
       "      <td>1.0</td>\n",
       "    </tr>\n",
       "  </tbody>\n",
       "</table>\n",
       "</div>"
      ],
      "text/plain": [
       "        ID Policy Start Date Policy End Date  Gender  Age  \\\n",
       "0  0040R73        2010-05-14      2011-05-13    Male   30   \n",
       "1  0046BNK        2010-11-29      2011-11-28  Female   79   \n",
       "2  005QMC3        2010-03-21      2011-03-20    Male   43   \n",
       "3  0079OHW        2010-08-21      2011-08-20    Male    2   \n",
       "4  00BRP63        2010-08-29      2010-12-31  Entity   20   \n",
       "\n",
       "  First Transaction Date  No_Pol Car_Category Subject_Car_Colour  \\\n",
       "0             2010-05-14       1       Saloon              Black   \n",
       "1             2010-11-29       1         JEEP               Grey   \n",
       "2             2010-03-21       1       Saloon                Red   \n",
       "3             2010-08-21       1          NaN                NaN   \n",
       "4             2010-08-29       3          NaN                NaN   \n",
       "\n",
       "  Subject_Car_Make LGA_Name  State  ProductName  target  \n",
       "0           TOYOTA      NaN    NaN  Car Classic     0.0  \n",
       "1           TOYOTA      NaN    NaN  Car Classic     1.0  \n",
       "2           TOYOTA      NaN    NaN  Car Classic     0.0  \n",
       "3              NaN      NaN    NaN      CarSafe     0.0  \n",
       "4              NaN    Lagos  Lagos        Muuve     1.0  "
      ]
     },
     "execution_count": 335,
     "metadata": {},
     "output_type": "execute_result"
    }
   ],
   "source": [
    "all_data.head()"
   ]
  },
  {
   "cell_type": "code",
   "execution_count": 339,
   "metadata": {},
   "outputs": [],
   "source": [
    "def check_categorical_relationship(cat_col,y_col,df):\n",
    "    for feat in cat_col:\n",
    "        plt.figure(figsize=(20,5))\n",
    "        sns.barplot(df[feat],df[y_col])\n",
    "        plt.show()\n",
    "        print(\"\\n \\n \\n \")"
   ]
  },
  {
   "cell_type": "code",
   "execution_count": 340,
   "metadata": {},
   "outputs": [
    {
     "data": {
      "image/png": "[encoded data removed]",
      "text/plain": [
       "<Figure size 1440x360 with 1 Axes>"
      ]
     },
     "metadata": {
      "needs_background": "light"
     },
     "output_type": "display_data"
    },
    {
     "name": "stdout",
     "output_type": "stream",
     "text": [
      "\n",
      " \n",
      " \n",
      " \n"
     ]
    },
    {
     "data": {
      "image/png": "[encoded data removed]",
      "text/plain": [
       "<Figure size 1440x360 with 1 Axes>"
      ]
     },
     "metadata": {
      "needs_background": "light"
     },
     "output_type": "display_data"
    },
    {
     "name": "stdout",
     "output_type": "stream",
     "text": [
      "\n",
      " \n",
      " \n",
      " \n"
     ]
    },
    {
     "data": {
      "image/png": "[encoded data removed]",
      "text/plain": [
       "<Figure size 1440x360 with 1 Axes>"
      ]
     },
     "metadata": {
      "needs_background": "light"
     },
     "output_type": "display_data"
    },
    {
     "name": "stdout",
     "output_type": "stream",
     "text": [
      "\n",
      " \n",
      " \n",
      " \n"
     ]
    },
    {
     "data": {
      "image/png": "[encoded data removed]",
      "text/plain": [
       "<Figure size 1440x360 with 1 Axes>"
      ]
     },
     "metadata": {
      "needs_background": "light"
     },
     "output_type": "display_data"
    },
    {
     "name": "stdout",
     "output_type": "stream",
     "text": [
      "\n",
      " \n",
      " \n",
      " \n"
     ]
    },
    {
     "data": {
      "image/png": "[encoded data removed]",
      "text/plain": [
       "<Figure size 1440x360 with 1 Axes>"
      ]
     },
     "metadata": {
      "needs_background": "light"
     },
     "output_type": "display_data"
    },
    {
     "name": "stdout",
     "output_type": "stream",
     "text": [
      "\n",
      " \n",
      " \n",
      " \n"
     ]
    },
    {
     "data": {
      "image/png": "[encoded data removed]",
      "text/plain": [
       "<Figure size 1440x360 with 1 Axes>"
      ]
     },
     "metadata": {
      "needs_background": "light"
     },
     "output_type": "display_data"
    },
    {
     "name": "stdout",
     "output_type": "stream",
     "text": [
      "\n",
      " \n",
      " \n",
      " \n"
     ]
    },
    {
     "data": {
      "image/png": "[encoded data removed]",
      "text/plain": [
       "<Figure size 1440x360 with 1 Axes>"
      ]
     },
     "metadata": {
      "needs_background": "light"
     },
     "output_type": "display_data"
    },
    {
     "name": "stdout",
     "output_type": "stream",
     "text": [
      "\n",
      " \n",
      " \n",
      " \n"
     ]
    },
    {
     "data": {
      "image/png": "[encoded data removed]",
      "text/plain": [
       "<Figure size 1440x360 with 1 Axes>"
      ]
     },
     "metadata": {
      "needs_background": "light"
     },
     "output_type": "display_data"
    },
    {
     "name": "stdout",
     "output_type": "stream",
     "text": [
      "\n",
      " \n",
      " \n",
      " \n"
     ]
    }
   ],
   "source": [
    "check_categorical_relationship(cat_col,'Age',all_data)"
   ]
  },
  {
   "cell_type": "code",
   "execution_count": 341,
   "metadata": {},
   "outputs": [
    {
     "data": {
      "image/png": "[encoded data removed]",
      "text/plain": [
       "<Figure size 1440x360 with 1 Axes>"
      ]
     },
     "metadata": {
      "needs_background": "light"
     },
     "output_type": "display_data"
    },
    {
     "name": "stdout",
     "output_type": "stream",
     "text": [
      "\n",
      " \n",
      " \n",
      " \n"
     ]
    },
    {
     "data": {
      "image/png": "[encoded data removed]",
      "text/plain": [
       "<Figure size 1440x360 with 1 Axes>"
      ]
     },
     "metadata": {
      "needs_background": "light"
     },
     "output_type": "display_data"
    },
    {
     "name": "stdout",
     "output_type": "stream",
     "text": [
      "\n",
      " \n",
      " \n",
      " \n"
     ]
    },
    {
     "data": {
      "image/png": "[encoded data removed]",
      "text/plain": [
       "<Figure size 1440x360 with 1 Axes>"
      ]
     },
     "metadata": {
      "needs_background": "light"
     },
     "output_type": "display_data"
    },
    {
     "name": "stdout",
     "output_type": "stream",
     "text": [
      "\n",
      " \n",
      " \n",
      " \n"
     ]
    },
    {
     "data": {
      "image/png": "[encoded data removed]",
      "text/plain": [
       "<Figure size 1440x360 with 1 Axes>"
      ]
     },
     "metadata": {
      "needs_background": "light"
     },
     "output_type": "display_data"
    },
    {
     "name": "stdout",
     "output_type": "stream",
     "text": [
      "\n",
      " \n",
      " \n",
      " \n"
     ]
    },
    {
     "data": {
      "image/png": "[encoded data removed]",
      "text/plain": [
       "<Figure size 1440x360 with 1 Axes>"
      ]
     },
     "metadata": {
      "needs_background": "light"
     },
     "output_type": "display_data"
    },
    {
     "name": "stdout",
     "output_type": "stream",
     "text": [
      "\n",
      " \n",
      " \n",
      " \n"
     ]
    },
    {
     "data": {
      "image/png": "[encoded data removed]",
      "text/plain": [
       "<Figure size 1440x360 with 1 Axes>"
      ]
     },
     "metadata": {
      "needs_background": "light"
     },
     "output_type": "display_data"
    },
    {
     "name": "stdout",
     "output_type": "stream",
     "text": [
      "\n",
      " \n",
      " \n",
      " \n"
     ]
    },
    {
     "data": {
      "image/png": "[encoded data removed]",
      "text/plain": [
       "<Figure size 1440x360 with 1 Axes>"
      ]
     },
     "metadata": {
      "needs_background": "light"
     },
     "output_type": "display_data"
    },
    {
     "name": "stdout",
     "output_type": "stream",
     "text": [
      "\n",
      " \n",
      " \n",
      " \n"
     ]
    },
    {
     "data": {
      "image/png": "[encoded data removed]",
      "text/plain": [
       "<Figure size 1440x360 with 1 Axes>"
      ]
     },
     "metadata": {
      "needs_background": "light"
     },
     "output_type": "display_data"
    },
    {
     "name": "stdout",
     "output_type": "stream",
     "text": [
      "\n",
      " \n",
      " \n",
      " \n"
     ]
    }
   ],
   "source": [
    "check_categorical_relationship(cat_col,'No_Pol',all_data)"
   ]
  },
  {
   "cell_type": "code",
   "execution_count": 342,
   "metadata": {},
   "outputs": [
    {
     "data": {
      "text/plain": [
       "<matplotlib.axes._subplots.AxesSubplot at 0x7f8897b54dc0>"
      ]
     },
     "execution_count": 342,
     "metadata": {},
     "output_type": "execute_result"
    },
    {
     "data": {
      "image/png": "[encoded data removed]",
      "text/plain": [
       "<Figure size 432x288 with 1 Axes>"
      ]
     },
     "metadata": {
      "needs_background": "light"
     },
     "output_type": "display_data"
    }
   ],
   "source": [
    "# Gender distribution \n",
    "sns.countplot(all_data.Gender)"
   ]
  },
  {
   "cell_type": "code",
   "execution_count": 343,
   "metadata": {},
   "outputs": [
    {
     "data": {
      "text/plain": [
       "array(['Male', 'Female', 'Entity', 'Joint Gender', nan, 'NO GENDER',\n",
       "       'NOT STATED', 'SEX'], dtype=object)"
      ]
     },
     "execution_count": 343,
     "metadata": {},
     "output_type": "execute_result"
    }
   ],
   "source": [
    "all_data.Gender.unique()"
   ]
  },
  {
   "cell_type": "markdown",
   "metadata": {},
   "source": [
    "# Basic Data preprocessing "
   ]
  },
  {
   "cell_type": "code",
   "execution_count": 344,
   "metadata": {},
   "outputs": [
    {
     "data": {
      "text/html": [
       "<div>\n",
       "<style scoped>\n",
       "    .dataframe tbody tr th:only-of-type {\n",
       "        vertical-align: middle;\n",
       "    }\n",
       "\n",
       "    .dataframe tbody tr th {\n",
       "        vertical-align: top;\n",
       "    }\n",
       "\n",
       "    .dataframe thead th {\n",
       "        text-align: right;\n",
       "    }\n",
       "</style>\n",
       "<table border=\"1\" class=\"dataframe\">\n",
       "  <thead>\n",
       "    <tr style=\"text-align: right;\">\n",
       "      <th></th>\n",
       "      <th>ID</th>\n",
       "      <th>Policy Start Date</th>\n",
       "      <th>Policy End Date</th>\n",
       "      <th>Gender</th>\n",
       "      <th>Age</th>\n",
       "      <th>First Transaction Date</th>\n",
       "      <th>No_Pol</th>\n",
       "      <th>Car_Category</th>\n",
       "      <th>Subject_Car_Colour</th>\n",
       "      <th>Subject_Car_Make</th>\n",
       "      <th>LGA_Name</th>\n",
       "      <th>State</th>\n",
       "      <th>ProductName</th>\n",
       "      <th>target</th>\n",
       "    </tr>\n",
       "  </thead>\n",
       "  <tbody>\n",
       "    <tr>\n",
       "      <th>0</th>\n",
       "      <td>0040R73</td>\n",
       "      <td>2010-05-14</td>\n",
       "      <td>2011-05-13</td>\n",
       "      <td>Male</td>\n",
       "      <td>30</td>\n",
       "      <td>2010-05-14</td>\n",
       "      <td>1</td>\n",
       "      <td>Saloon</td>\n",
       "      <td>Black</td>\n",
       "      <td>TOYOTA</td>\n",
       "      <td>NaN</td>\n",
       "      <td>NaN</td>\n",
       "      <td>Car Classic</td>\n",
       "      <td>0</td>\n",
       "    </tr>\n",
       "    <tr>\n",
       "      <th>1</th>\n",
       "      <td>0046BNK</td>\n",
       "      <td>2010-11-29</td>\n",
       "      <td>2011-11-28</td>\n",
       "      <td>Female</td>\n",
       "      <td>79</td>\n",
       "      <td>2010-11-29</td>\n",
       "      <td>1</td>\n",
       "      <td>JEEP</td>\n",
       "      <td>Grey</td>\n",
       "      <td>TOYOTA</td>\n",
       "      <td>NaN</td>\n",
       "      <td>NaN</td>\n",
       "      <td>Car Classic</td>\n",
       "      <td>1</td>\n",
       "    </tr>\n",
       "    <tr>\n",
       "      <th>2</th>\n",
       "      <td>005QMC3</td>\n",
       "      <td>2010-03-21</td>\n",
       "      <td>2011-03-20</td>\n",
       "      <td>Male</td>\n",
       "      <td>43</td>\n",
       "      <td>2010-03-21</td>\n",
       "      <td>1</td>\n",
       "      <td>Saloon</td>\n",
       "      <td>Red</td>\n",
       "      <td>TOYOTA</td>\n",
       "      <td>NaN</td>\n",
       "      <td>NaN</td>\n",
       "      <td>Car Classic</td>\n",
       "      <td>0</td>\n",
       "    </tr>\n",
       "    <tr>\n",
       "      <th>3</th>\n",
       "      <td>0079OHW</td>\n",
       "      <td>2010-08-21</td>\n",
       "      <td>2011-08-20</td>\n",
       "      <td>Male</td>\n",
       "      <td>2</td>\n",
       "      <td>2010-08-21</td>\n",
       "      <td>1</td>\n",
       "      <td>NaN</td>\n",
       "      <td>NaN</td>\n",
       "      <td>NaN</td>\n",
       "      <td>NaN</td>\n",
       "      <td>NaN</td>\n",
       "      <td>CarSafe</td>\n",
       "      <td>0</td>\n",
       "    </tr>\n",
       "    <tr>\n",
       "      <th>4</th>\n",
       "      <td>00BRP63</td>\n",
       "      <td>2010-08-29</td>\n",
       "      <td>2010-12-31</td>\n",
       "      <td>Entity</td>\n",
       "      <td>20</td>\n",
       "      <td>2010-08-29</td>\n",
       "      <td>3</td>\n",
       "      <td>NaN</td>\n",
       "      <td>NaN</td>\n",
       "      <td>NaN</td>\n",
       "      <td>Lagos</td>\n",
       "      <td>Lagos</td>\n",
       "      <td>Muuve</td>\n",
       "      <td>1</td>\n",
       "    </tr>\n",
       "  </tbody>\n",
       "</table>\n",
       "</div>"
      ],
      "text/plain": [
       "        ID Policy Start Date Policy End Date  Gender  Age  \\\n",
       "0  0040R73        2010-05-14      2011-05-13    Male   30   \n",
       "1  0046BNK        2010-11-29      2011-11-28  Female   79   \n",
       "2  005QMC3        2010-03-21      2011-03-20    Male   43   \n",
       "3  0079OHW        2010-08-21      2011-08-20    Male    2   \n",
       "4  00BRP63        2010-08-29      2010-12-31  Entity   20   \n",
       "\n",
       "  First Transaction Date  No_Pol Car_Category Subject_Car_Colour  \\\n",
       "0             2010-05-14       1       Saloon              Black   \n",
       "1             2010-11-29       1         JEEP               Grey   \n",
       "2             2010-03-21       1       Saloon                Red   \n",
       "3             2010-08-21       1          NaN                NaN   \n",
       "4             2010-08-29       3          NaN                NaN   \n",
       "\n",
       "  Subject_Car_Make LGA_Name  State  ProductName  target  \n",
       "0           TOYOTA      NaN    NaN  Car Classic       0  \n",
       "1           TOYOTA      NaN    NaN  Car Classic       1  \n",
       "2           TOYOTA      NaN    NaN  Car Classic       0  \n",
       "3              NaN      NaN    NaN      CarSafe       0  \n",
       "4              NaN    Lagos  Lagos        Muuve       1  "
      ]
     },
     "execution_count": 344,
     "metadata": {},
     "output_type": "execute_result"
    }
   ],
   "source": [
    "train.head()"
   ]
  },
  {
   "cell_type": "markdown",
   "metadata": {},
   "source": [
    "### fill mising value"
   ]
  },
  {
   "cell_type": "code",
   "execution_count": 345,
   "metadata": {},
   "outputs": [
    {
     "data": {
      "text/html": [
       "<div>\n",
       "<style scoped>\n",
       "    .dataframe tbody tr th:only-of-type {\n",
       "        vertical-align: middle;\n",
       "    }\n",
       "\n",
       "    .dataframe tbody tr th {\n",
       "        vertical-align: top;\n",
       "    }\n",
       "\n",
       "    .dataframe thead th {\n",
       "        text-align: right;\n",
       "    }\n",
       "</style>\n",
       "<table border=\"1\" class=\"dataframe\">\n",
       "  <thead>\n",
       "    <tr style=\"text-align: right;\">\n",
       "      <th></th>\n",
       "      <th>ID</th>\n",
       "      <th>Policy Start Date</th>\n",
       "      <th>Policy End Date</th>\n",
       "      <th>Gender</th>\n",
       "      <th>Age</th>\n",
       "      <th>First Transaction Date</th>\n",
       "      <th>No_Pol</th>\n",
       "      <th>Car_Category</th>\n",
       "      <th>Subject_Car_Colour</th>\n",
       "      <th>Subject_Car_Make</th>\n",
       "      <th>LGA_Name</th>\n",
       "      <th>State</th>\n",
       "      <th>ProductName</th>\n",
       "      <th>target</th>\n",
       "    </tr>\n",
       "  </thead>\n",
       "  <tbody>\n",
       "    <tr>\n",
       "      <th>0</th>\n",
       "      <td>0040R73</td>\n",
       "      <td>2010-05-14</td>\n",
       "      <td>2011-05-13</td>\n",
       "      <td>Male</td>\n",
       "      <td>30</td>\n",
       "      <td>2010-05-14</td>\n",
       "      <td>1</td>\n",
       "      <td>Saloon</td>\n",
       "      <td>Black</td>\n",
       "      <td>TOYOTA</td>\n",
       "      <td>9999</td>\n",
       "      <td>9999</td>\n",
       "      <td>Car Classic</td>\n",
       "      <td>0.0</td>\n",
       "    </tr>\n",
       "    <tr>\n",
       "      <th>1</th>\n",
       "      <td>0046BNK</td>\n",
       "      <td>2010-11-29</td>\n",
       "      <td>2011-11-28</td>\n",
       "      <td>Female</td>\n",
       "      <td>79</td>\n",
       "      <td>2010-11-29</td>\n",
       "      <td>1</td>\n",
       "      <td>JEEP</td>\n",
       "      <td>Grey</td>\n",
       "      <td>TOYOTA</td>\n",
       "      <td>9999</td>\n",
       "      <td>9999</td>\n",
       "      <td>Car Classic</td>\n",
       "      <td>1.0</td>\n",
       "    </tr>\n",
       "    <tr>\n",
       "      <th>2</th>\n",
       "      <td>005QMC3</td>\n",
       "      <td>2010-03-21</td>\n",
       "      <td>2011-03-20</td>\n",
       "      <td>Male</td>\n",
       "      <td>43</td>\n",
       "      <td>2010-03-21</td>\n",
       "      <td>1</td>\n",
       "      <td>Saloon</td>\n",
       "      <td>Red</td>\n",
       "      <td>TOYOTA</td>\n",
       "      <td>9999</td>\n",
       "      <td>9999</td>\n",
       "      <td>Car Classic</td>\n",
       "      <td>0.0</td>\n",
       "    </tr>\n",
       "    <tr>\n",
       "      <th>3</th>\n",
       "      <td>0079OHW</td>\n",
       "      <td>2010-08-21</td>\n",
       "      <td>2011-08-20</td>\n",
       "      <td>Male</td>\n",
       "      <td>2</td>\n",
       "      <td>2010-08-21</td>\n",
       "      <td>1</td>\n",
       "      <td>9999</td>\n",
       "      <td>9999</td>\n",
       "      <td>9999</td>\n",
       "      <td>9999</td>\n",
       "      <td>9999</td>\n",
       "      <td>CarSafe</td>\n",
       "      <td>0.0</td>\n",
       "    </tr>\n",
       "    <tr>\n",
       "      <th>4</th>\n",
       "      <td>00BRP63</td>\n",
       "      <td>2010-08-29</td>\n",
       "      <td>2010-12-31</td>\n",
       "      <td>Entity</td>\n",
       "      <td>20</td>\n",
       "      <td>2010-08-29</td>\n",
       "      <td>3</td>\n",
       "      <td>9999</td>\n",
       "      <td>9999</td>\n",
       "      <td>9999</td>\n",
       "      <td>Lagos</td>\n",
       "      <td>Lagos</td>\n",
       "      <td>Muuve</td>\n",
       "      <td>1.0</td>\n",
       "    </tr>\n",
       "  </tbody>\n",
       "</table>\n",
       "</div>"
      ],
      "text/plain": [
       "        ID Policy Start Date Policy End Date  Gender  Age  \\\n",
       "0  0040R73        2010-05-14      2011-05-13    Male   30   \n",
       "1  0046BNK        2010-11-29      2011-11-28  Female   79   \n",
       "2  005QMC3        2010-03-21      2011-03-20    Male   43   \n",
       "3  0079OHW        2010-08-21      2011-08-20    Male    2   \n",
       "4  00BRP63        2010-08-29      2010-12-31  Entity   20   \n",
       "\n",
       "  First Transaction Date  No_Pol Car_Category Subject_Car_Colour  \\\n",
       "0             2010-05-14       1       Saloon              Black   \n",
       "1             2010-11-29       1         JEEP               Grey   \n",
       "2             2010-03-21       1       Saloon                Red   \n",
       "3             2010-08-21       1         9999               9999   \n",
       "4             2010-08-29       3         9999               9999   \n",
       "\n",
       "  Subject_Car_Make LGA_Name  State  ProductName  target  \n",
       "0           TOYOTA     9999   9999  Car Classic     0.0  \n",
       "1           TOYOTA     9999   9999  Car Classic     1.0  \n",
       "2           TOYOTA     9999   9999  Car Classic     0.0  \n",
       "3             9999     9999   9999      CarSafe     0.0  \n",
       "4             9999    Lagos  Lagos        Muuve     1.0  "
      ]
     },
     "execution_count": 345,
     "metadata": {},
     "output_type": "execute_result"
    }
   ],
   "source": [
    "all_data = all_data.fillna(9999)\n",
    "all_data.head()"
   ]
  },
  {
   "cell_type": "code",
   "execution_count": 346,
   "metadata": {},
   "outputs": [
    {
     "name": "stdout",
     "output_type": "stream",
     "text": [
      "Are There still Missing value in data? : False\n",
      "ID                        0.0\n",
      "Policy Start Date         0.0\n",
      "Policy End Date           0.0\n",
      "Gender                    0.0\n",
      "Age                       0.0\n",
      "First Transaction Date    0.0\n",
      "No_Pol                    0.0\n",
      "Car_Category              0.0\n",
      "Subject_Car_Colour        0.0\n",
      "Subject_Car_Make          0.0\n",
      "LGA_Name                  0.0\n",
      "State                     0.0\n",
      "ProductName               0.0\n",
      "target                    0.0\n",
      "dtype: float64\n"
     ]
    }
   ],
   "source": [
    "print(\"Are There still Missing value in data? :\",all_data.isnull().any().any())\n",
    "print((all_data.isnull().sum()/all_data.shape[0])*100)"
   ]
  },
  {
   "cell_type": "markdown",
   "metadata": {},
   "source": [
    "### date features"
   ]
  },
  {
   "cell_type": "code",
   "execution_count": 347,
   "metadata": {},
   "outputs": [
    {
     "data": {
      "text/plain": [
       "['Policy Start Date', 'Policy End Date', 'First Transaction Date']"
      ]
     },
     "execution_count": 347,
     "metadata": {},
     "output_type": "execute_result"
    }
   ],
   "source": [
    "date_col"
   ]
  },
  {
   "cell_type": "code",
   "execution_count": 348,
   "metadata": {},
   "outputs": [],
   "source": [
    "for feat in date_col:\n",
    "    all_data[feat] = pd.to_datetime(all_data[feat])"
   ]
  },
  {
   "cell_type": "code",
   "execution_count": 349,
   "metadata": {},
   "outputs": [
    {
     "name": "stdout",
     "output_type": "stream",
     "text": [
      "<class 'pandas.core.frame.DataFrame'>\n",
      "RangeIndex: 17256 entries, 0 to 17255\n",
      "Data columns (total 14 columns):\n",
      " #   Column                  Non-Null Count  Dtype         \n",
      "---  ------                  --------------  -----         \n",
      " 0   ID                      17256 non-null  object        \n",
      " 1   Policy Start Date       17256 non-null  datetime64[ns]\n",
      " 2   Policy End Date         17256 non-null  datetime64[ns]\n",
      " 3   Gender                  17256 non-null  object        \n",
      " 4   Age                     17256 non-null  int64         \n",
      " 5   First Transaction Date  17256 non-null  datetime64[ns]\n",
      " 6   No_Pol                  17256 non-null  int64         \n",
      " 7   Car_Category            17256 non-null  object        \n",
      " 8   Subject_Car_Colour      17256 non-null  object        \n",
      " 9   Subject_Car_Make        17256 non-null  object        \n",
      " 10  LGA_Name                17256 non-null  object        \n",
      " 11  State                   17256 non-null  object        \n",
      " 12  ProductName             17256 non-null  object        \n",
      " 13  target                  17256 non-null  float64       \n",
      "dtypes: datetime64[ns](3), float64(1), int64(2), object(8)\n",
      "memory usage: 1.8+ MB\n"
     ]
    }
   ],
   "source": [
    "all_data.info()"
   ]
  },
  {
   "cell_type": "code",
   "execution_count": 350,
   "metadata": {},
   "outputs": [
    {
     "data": {
      "text/html": [
       "<div>\n",
       "<style scoped>\n",
       "    .dataframe tbody tr th:only-of-type {\n",
       "        vertical-align: middle;\n",
       "    }\n",
       "\n",
       "    .dataframe tbody tr th {\n",
       "        vertical-align: top;\n",
       "    }\n",
       "\n",
       "    .dataframe thead th {\n",
       "        text-align: right;\n",
       "    }\n",
       "</style>\n",
       "<table border=\"1\" class=\"dataframe\">\n",
       "  <thead>\n",
       "    <tr style=\"text-align: right;\">\n",
       "      <th></th>\n",
       "      <th>ID</th>\n",
       "      <th>Policy Start Date</th>\n",
       "      <th>Policy End Date</th>\n",
       "      <th>Gender</th>\n",
       "      <th>Age</th>\n",
       "      <th>First Transaction Date</th>\n",
       "      <th>No_Pol</th>\n",
       "      <th>Car_Category</th>\n",
       "      <th>Subject_Car_Colour</th>\n",
       "      <th>Subject_Car_Make</th>\n",
       "      <th>LGA_Name</th>\n",
       "      <th>State</th>\n",
       "      <th>ProductName</th>\n",
       "      <th>target</th>\n",
       "    </tr>\n",
       "  </thead>\n",
       "  <tbody>\n",
       "    <tr>\n",
       "      <th>0</th>\n",
       "      <td>0040R73</td>\n",
       "      <td>2010-05-14</td>\n",
       "      <td>2011-05-13</td>\n",
       "      <td>Male</td>\n",
       "      <td>30</td>\n",
       "      <td>2010-05-14</td>\n",
       "      <td>1</td>\n",
       "      <td>Saloon</td>\n",
       "      <td>Black</td>\n",
       "      <td>TOYOTA</td>\n",
       "      <td>9999</td>\n",
       "      <td>9999</td>\n",
       "      <td>Car Classic</td>\n",
       "      <td>0.0</td>\n",
       "    </tr>\n",
       "    <tr>\n",
       "      <th>1</th>\n",
       "      <td>0046BNK</td>\n",
       "      <td>2010-11-29</td>\n",
       "      <td>2011-11-28</td>\n",
       "      <td>Female</td>\n",
       "      <td>79</td>\n",
       "      <td>2010-11-29</td>\n",
       "      <td>1</td>\n",
       "      <td>JEEP</td>\n",
       "      <td>Grey</td>\n",
       "      <td>TOYOTA</td>\n",
       "      <td>9999</td>\n",
       "      <td>9999</td>\n",
       "      <td>Car Classic</td>\n",
       "      <td>1.0</td>\n",
       "    </tr>\n",
       "    <tr>\n",
       "      <th>2</th>\n",
       "      <td>005QMC3</td>\n",
       "      <td>2010-03-21</td>\n",
       "      <td>2011-03-20</td>\n",
       "      <td>Male</td>\n",
       "      <td>43</td>\n",
       "      <td>2010-03-21</td>\n",
       "      <td>1</td>\n",
       "      <td>Saloon</td>\n",
       "      <td>Red</td>\n",
       "      <td>TOYOTA</td>\n",
       "      <td>9999</td>\n",
       "      <td>9999</td>\n",
       "      <td>Car Classic</td>\n",
       "      <td>0.0</td>\n",
       "    </tr>\n",
       "    <tr>\n",
       "      <th>3</th>\n",
       "      <td>0079OHW</td>\n",
       "      <td>2010-08-21</td>\n",
       "      <td>2011-08-20</td>\n",
       "      <td>Male</td>\n",
       "      <td>2</td>\n",
       "      <td>2010-08-21</td>\n",
       "      <td>1</td>\n",
       "      <td>9999</td>\n",
       "      <td>9999</td>\n",
       "      <td>9999</td>\n",
       "      <td>9999</td>\n",
       "      <td>9999</td>\n",
       "      <td>CarSafe</td>\n",
       "      <td>0.0</td>\n",
       "    </tr>\n",
       "    <tr>\n",
       "      <th>4</th>\n",
       "      <td>00BRP63</td>\n",
       "      <td>2010-08-29</td>\n",
       "      <td>2010-12-31</td>\n",
       "      <td>Entity</td>\n",
       "      <td>20</td>\n",
       "      <td>2010-08-29</td>\n",
       "      <td>3</td>\n",
       "      <td>9999</td>\n",
       "      <td>9999</td>\n",
       "      <td>9999</td>\n",
       "      <td>Lagos</td>\n",
       "      <td>Lagos</td>\n",
       "      <td>Muuve</td>\n",
       "      <td>1.0</td>\n",
       "    </tr>\n",
       "  </tbody>\n",
       "</table>\n",
       "</div>"
      ],
      "text/plain": [
       "        ID Policy Start Date Policy End Date  Gender  Age  \\\n",
       "0  0040R73        2010-05-14      2011-05-13    Male   30   \n",
       "1  0046BNK        2010-11-29      2011-11-28  Female   79   \n",
       "2  005QMC3        2010-03-21      2011-03-20    Male   43   \n",
       "3  0079OHW        2010-08-21      2011-08-20    Male    2   \n",
       "4  00BRP63        2010-08-29      2010-12-31  Entity   20   \n",
       "\n",
       "  First Transaction Date  No_Pol Car_Category Subject_Car_Colour  \\\n",
       "0             2010-05-14       1       Saloon              Black   \n",
       "1             2010-11-29       1         JEEP               Grey   \n",
       "2             2010-03-21       1       Saloon                Red   \n",
       "3             2010-08-21       1         9999               9999   \n",
       "4             2010-08-29       3         9999               9999   \n",
       "\n",
       "  Subject_Car_Make LGA_Name  State  ProductName  target  \n",
       "0           TOYOTA     9999   9999  Car Classic     0.0  \n",
       "1           TOYOTA     9999   9999  Car Classic     1.0  \n",
       "2           TOYOTA     9999   9999  Car Classic     0.0  \n",
       "3             9999     9999   9999      CarSafe     0.0  \n",
       "4             9999    Lagos  Lagos        Muuve     1.0  "
      ]
     },
     "execution_count": 350,
     "metadata": {},
     "output_type": "execute_result"
    }
   ],
   "source": [
    "all_data.head()"
   ]
  },
  {
   "cell_type": "code",
   "execution_count": 351,
   "metadata": {},
   "outputs": [],
   "source": [
    "def extract_date_info(df,cols,):\n",
    "    for feat in cols:\n",
    "        df[feat +'_year'] = df[feat].dt.quarter\n",
    "        df[feat +'_day'] = df[feat].dt.day\n",
    "        df[feat +'_month'] = df[feat].dt.month\n",
    "        df[feat +'_quarter'] = df[feat].dt.quarter\n",
    "    df.drop(columns=date_col,axis=1,inplace=True)"
   ]
  },
  {
   "cell_type": "code",
   "execution_count": 352,
   "metadata": {},
   "outputs": [],
   "source": [
    "extract_date_info(all_data,date_col)"
   ]
  },
  {
   "cell_type": "code",
   "execution_count": 353,
   "metadata": {},
   "outputs": [
    {
     "data": {
      "text/html": [
       "<div>\n",
       "<style scoped>\n",
       "    .dataframe tbody tr th:only-of-type {\n",
       "        vertical-align: middle;\n",
       "    }\n",
       "\n",
       "    .dataframe tbody tr th {\n",
       "        vertical-align: top;\n",
       "    }\n",
       "\n",
       "    .dataframe thead th {\n",
       "        text-align: right;\n",
       "    }\n",
       "</style>\n",
       "<table border=\"1\" class=\"dataframe\">\n",
       "  <thead>\n",
       "    <tr style=\"text-align: right;\">\n",
       "      <th></th>\n",
       "      <th>ID</th>\n",
       "      <th>Gender</th>\n",
       "      <th>Age</th>\n",
       "      <th>No_Pol</th>\n",
       "      <th>Car_Category</th>\n",
       "      <th>Subject_Car_Colour</th>\n",
       "      <th>Subject_Car_Make</th>\n",
       "      <th>LGA_Name</th>\n",
       "      <th>State</th>\n",
       "      <th>ProductName</th>\n",
       "      <th>...</th>\n",
       "      <th>Policy Start Date_month</th>\n",
       "      <th>Policy Start Date_quarter</th>\n",
       "      <th>Policy End Date_year</th>\n",
       "      <th>Policy End Date_day</th>\n",
       "      <th>Policy End Date_month</th>\n",
       "      <th>Policy End Date_quarter</th>\n",
       "      <th>First Transaction Date_year</th>\n",
       "      <th>First Transaction Date_day</th>\n",
       "      <th>First Transaction Date_month</th>\n",
       "      <th>First Transaction Date_quarter</th>\n",
       "    </tr>\n",
       "  </thead>\n",
       "  <tbody>\n",
       "    <tr>\n",
       "      <th>0</th>\n",
       "      <td>0040R73</td>\n",
       "      <td>Male</td>\n",
       "      <td>30</td>\n",
       "      <td>1</td>\n",
       "      <td>Saloon</td>\n",
       "      <td>Black</td>\n",
       "      <td>TOYOTA</td>\n",
       "      <td>9999</td>\n",
       "      <td>9999</td>\n",
       "      <td>Car Classic</td>\n",
       "      <td>...</td>\n",
       "      <td>5</td>\n",
       "      <td>2</td>\n",
       "      <td>2</td>\n",
       "      <td>13</td>\n",
       "      <td>5</td>\n",
       "      <td>2</td>\n",
       "      <td>2</td>\n",
       "      <td>14</td>\n",
       "      <td>5</td>\n",
       "      <td>2</td>\n",
       "    </tr>\n",
       "    <tr>\n",
       "      <th>1</th>\n",
       "      <td>0046BNK</td>\n",
       "      <td>Female</td>\n",
       "      <td>79</td>\n",
       "      <td>1</td>\n",
       "      <td>JEEP</td>\n",
       "      <td>Grey</td>\n",
       "      <td>TOYOTA</td>\n",
       "      <td>9999</td>\n",
       "      <td>9999</td>\n",
       "      <td>Car Classic</td>\n",
       "      <td>...</td>\n",
       "      <td>11</td>\n",
       "      <td>4</td>\n",
       "      <td>4</td>\n",
       "      <td>28</td>\n",
       "      <td>11</td>\n",
       "      <td>4</td>\n",
       "      <td>4</td>\n",
       "      <td>29</td>\n",
       "      <td>11</td>\n",
       "      <td>4</td>\n",
       "    </tr>\n",
       "    <tr>\n",
       "      <th>2</th>\n",
       "      <td>005QMC3</td>\n",
       "      <td>Male</td>\n",
       "      <td>43</td>\n",
       "      <td>1</td>\n",
       "      <td>Saloon</td>\n",
       "      <td>Red</td>\n",
       "      <td>TOYOTA</td>\n",
       "      <td>9999</td>\n",
       "      <td>9999</td>\n",
       "      <td>Car Classic</td>\n",
       "      <td>...</td>\n",
       "      <td>3</td>\n",
       "      <td>1</td>\n",
       "      <td>1</td>\n",
       "      <td>20</td>\n",
       "      <td>3</td>\n",
       "      <td>1</td>\n",
       "      <td>1</td>\n",
       "      <td>21</td>\n",
       "      <td>3</td>\n",
       "      <td>1</td>\n",
       "    </tr>\n",
       "    <tr>\n",
       "      <th>3</th>\n",
       "      <td>0079OHW</td>\n",
       "      <td>Male</td>\n",
       "      <td>2</td>\n",
       "      <td>1</td>\n",
       "      <td>9999</td>\n",
       "      <td>9999</td>\n",
       "      <td>9999</td>\n",
       "      <td>9999</td>\n",
       "      <td>9999</td>\n",
       "      <td>CarSafe</td>\n",
       "      <td>...</td>\n",
       "      <td>8</td>\n",
       "      <td>3</td>\n",
       "      <td>3</td>\n",
       "      <td>20</td>\n",
       "      <td>8</td>\n",
       "      <td>3</td>\n",
       "      <td>3</td>\n",
       "      <td>21</td>\n",
       "      <td>8</td>\n",
       "      <td>3</td>\n",
       "    </tr>\n",
       "    <tr>\n",
       "      <th>4</th>\n",
       "      <td>00BRP63</td>\n",
       "      <td>Entity</td>\n",
       "      <td>20</td>\n",
       "      <td>3</td>\n",
       "      <td>9999</td>\n",
       "      <td>9999</td>\n",
       "      <td>9999</td>\n",
       "      <td>Lagos</td>\n",
       "      <td>Lagos</td>\n",
       "      <td>Muuve</td>\n",
       "      <td>...</td>\n",
       "      <td>8</td>\n",
       "      <td>3</td>\n",
       "      <td>4</td>\n",
       "      <td>31</td>\n",
       "      <td>12</td>\n",
       "      <td>4</td>\n",
       "      <td>3</td>\n",
       "      <td>29</td>\n",
       "      <td>8</td>\n",
       "      <td>3</td>\n",
       "    </tr>\n",
       "  </tbody>\n",
       "</table>\n",
       "<p>5 rows × 23 columns</p>\n",
       "</div>"
      ],
      "text/plain": [
       "        ID  Gender  Age  No_Pol Car_Category Subject_Car_Colour  \\\n",
       "0  0040R73    Male   30       1       Saloon              Black   \n",
       "1  0046BNK  Female   79       1         JEEP               Grey   \n",
       "2  005QMC3    Male   43       1       Saloon                Red   \n",
       "3  0079OHW    Male    2       1         9999               9999   \n",
       "4  00BRP63  Entity   20       3         9999               9999   \n",
       "\n",
       "  Subject_Car_Make LGA_Name  State  ProductName  ...  Policy Start Date_month  \\\n",
       "0           TOYOTA     9999   9999  Car Classic  ...                        5   \n",
       "1           TOYOTA     9999   9999  Car Classic  ...                       11   \n",
       "2           TOYOTA     9999   9999  Car Classic  ...                        3   \n",
       "3             9999     9999   9999      CarSafe  ...                        8   \n",
       "4             9999    Lagos  Lagos        Muuve  ...                        8   \n",
       "\n",
       "   Policy Start Date_quarter  Policy End Date_year  Policy End Date_day  \\\n",
       "0                          2                     2                   13   \n",
       "1                          4                     4                   28   \n",
       "2                          1                     1                   20   \n",
       "3                          3                     3                   20   \n",
       "4                          3                     4                   31   \n",
       "\n",
       "   Policy End Date_month  Policy End Date_quarter  \\\n",
       "0                      5                        2   \n",
       "1                     11                        4   \n",
       "2                      3                        1   \n",
       "3                      8                        3   \n",
       "4                     12                        4   \n",
       "\n",
       "   First Transaction Date_year  First Transaction Date_day  \\\n",
       "0                            2                          14   \n",
       "1                            4                          29   \n",
       "2                            1                          21   \n",
       "3                            3                          21   \n",
       "4                            3                          29   \n",
       "\n",
       "   First Transaction Date_month  First Transaction Date_quarter  \n",
       "0                             5                               2  \n",
       "1                            11                               4  \n",
       "2                             3                               1  \n",
       "3                             8                               3  \n",
       "4                             8                               3  \n",
       "\n",
       "[5 rows x 23 columns]"
      ]
     },
     "execution_count": 353,
     "metadata": {},
     "output_type": "execute_result"
    }
   ],
   "source": [
    "all_data.head()"
   ]
  },
  {
   "cell_type": "code",
   "execution_count": 354,
   "metadata": {},
   "outputs": [
    {
     "data": {
      "text/plain": [
       "array(['Male', 'Female', 'Entity', 'Joint Gender', 9999, 'NO GENDER',\n",
       "       'NOT STATED', 'SEX'], dtype=object)"
      ]
     },
     "execution_count": 354,
     "metadata": {},
     "output_type": "execute_result"
    }
   ],
   "source": [
    "all_data.Gender.unique()"
   ]
  },
  {
   "cell_type": "code",
   "execution_count": 355,
   "metadata": {},
   "outputs": [],
   "source": [
    "mapper = {\"Male\":\"M\",\"Female\":'F','Entity':'O','Joint Gender':'O',9999:'O','NO GENDER':'O','NOT STATED':'O','SEX':'O' }"
   ]
  },
  {
   "cell_type": "code",
   "execution_count": 356,
   "metadata": {},
   "outputs": [],
   "source": [
    "all_data.Gender = all_data.Gender.map(mapper)"
   ]
  },
  {
   "cell_type": "code",
   "execution_count": 357,
   "metadata": {},
   "outputs": [
    {
     "data": {
      "text/plain": [
       "array(['M', 'F', 'O'], dtype=object)"
      ]
     },
     "execution_count": 357,
     "metadata": {},
     "output_type": "execute_result"
    }
   ],
   "source": [
    "all_data.Gender.unique()"
   ]
  },
  {
   "cell_type": "code",
   "execution_count": 358,
   "metadata": {},
   "outputs": [],
   "source": [
    "# pd.get_dummies(all_data)"
   ]
  },
  {
   "cell_type": "markdown",
   "metadata": {},
   "source": [
    "# Creat Base model "
   ]
  },
  {
   "cell_type": "code",
   "execution_count": 359,
   "metadata": {},
   "outputs": [],
   "source": [
    "all_data.target = all_data.target.astype(int)"
   ]
  },
  {
   "cell_type": "code",
   "execution_count": 360,
   "metadata": {},
   "outputs": [],
   "source": [
    "all_data.drop(columns=['ID'],inplace=True)"
   ]
  },
  {
   "cell_type": "code",
   "execution_count": 361,
   "metadata": {},
   "outputs": [],
   "source": [
    "#Get the new dataset\n",
    "train_n = all_data[:ntrain]\n",
    "test_n = all_data[ntrain:]"
   ]
  },
  {
   "cell_type": "code",
   "execution_count": 362,
   "metadata": {},
   "outputs": [
    {
     "name": "stderr",
     "output_type": "stream",
     "text": [
      "/opt/anaconda3/lib/python3.8/site-packages/pandas/core/frame.py:3990: SettingWithCopyWarning: \n",
      "A value is trying to be set on a copy of a slice from a DataFrame\n",
      "\n",
      "See the caveats in the documentation: https://pandas.pydata.org/pandas-docs/stable/user_guide/indexing.html#returning-a-view-versus-a-copy\n",
      "  return super().drop(\n"
     ]
    }
   ],
   "source": [
    "test_n.drop(\"target\",axis = 1,inplace = True)"
   ]
  },
  {
   "cell_type": "code",
   "execution_count": 363,
   "metadata": {},
   "outputs": [],
   "source": [
    "X= train_n.drop(columns=['target'])\n",
    "y= train_n.target"
   ]
  },
  {
   "cell_type": "code",
   "execution_count": 364,
   "metadata": {},
   "outputs": [],
   "source": [
    "X_train, X_test, y_train, y_test = train_test_split(X,y,test_size=0.33, random_state=42,)"
   ]
  },
  {
   "cell_type": "code",
   "execution_count": 365,
   "metadata": {},
   "outputs": [
    {
     "data": {
      "text/plain": [
       "Index(['Gender', 'Age', 'No_Pol', 'Car_Category', 'Subject_Car_Colour',\n",
       "       'Subject_Car_Make', 'LGA_Name', 'State', 'ProductName',\n",
       "       'Policy Start Date_year', 'Policy Start Date_day',\n",
       "       'Policy Start Date_month', 'Policy Start Date_quarter',\n",
       "       'Policy End Date_year', 'Policy End Date_day', 'Policy End Date_month',\n",
       "       'Policy End Date_quarter', 'First Transaction Date_year',\n",
       "       'First Transaction Date_day', 'First Transaction Date_month',\n",
       "       'First Transaction Date_quarter'],\n",
       "      dtype='object')"
      ]
     },
     "execution_count": 365,
     "metadata": {},
     "output_type": "execute_result"
    }
   ],
   "source": [
    "test_n.columns"
   ]
  },
  {
   "cell_type": "code",
   "execution_count": 366,
   "metadata": {},
   "outputs": [],
   "source": [
    "categorical_feat = ['Gender', 'Age', 'No_Pol', 'Car_Category', 'Subject_Car_Colour',\n",
    "       'Subject_Car_Make', 'LGA_Name', 'State', 'ProductName']"
   ]
  },
  {
   "cell_type": "code",
   "execution_count": 367,
   "metadata": {},
   "outputs": [
    {
     "data": {
      "text/plain": [
       "['Gender',\n",
       " 'Age',\n",
       " 'No_Pol',\n",
       " 'Car_Category',\n",
       " 'Subject_Car_Colour',\n",
       " 'Subject_Car_Make',\n",
       " 'LGA_Name',\n",
       " 'State',\n",
       " 'ProductName']"
      ]
     },
     "execution_count": 367,
     "metadata": {},
     "output_type": "execute_result"
    }
   ],
   "source": [
    "categorical_feat"
   ]
  },
  {
   "cell_type": "code",
   "execution_count": 368,
   "metadata": {},
   "outputs": [],
   "source": [
    "from catboost import CatBoostClassifier\n",
    "import catboost\n",
    "model = CatBoostClassifier(cat_features=categorical_feat,verbose=50)"
   ]
  },
  {
   "cell_type": "code",
   "execution_count": 369,
   "metadata": {},
   "outputs": [
    {
     "name": "stdout",
     "output_type": "stream",
     "text": [
      "Learning rate set to 0.025158\n",
      "0:\tlearn: 0.6672531\ttotal: 18.2ms\tremaining: 18.2s\n",
      "50:\tlearn: 0.3333817\ttotal: 449ms\tremaining: 8.36s\n",
      "100:\tlearn: 0.2964793\ttotal: 908ms\tremaining: 8.08s\n",
      "150:\tlearn: 0.2838312\ttotal: 1.37s\tremaining: 7.72s\n",
      "200:\tlearn: 0.2773295\ttotal: 1.85s\tremaining: 7.35s\n",
      "250:\tlearn: 0.2721512\ttotal: 2.48s\tremaining: 7.42s\n",
      "300:\tlearn: 0.2671586\ttotal: 3.08s\tremaining: 7.14s\n",
      "350:\tlearn: 0.2629035\ttotal: 3.61s\tremaining: 6.67s\n",
      "400:\tlearn: 0.2590596\ttotal: 4.21s\tremaining: 6.29s\n",
      "450:\tlearn: 0.2553651\ttotal: 4.71s\tremaining: 5.74s\n",
      "500:\tlearn: 0.2515452\ttotal: 5.29s\tremaining: 5.27s\n",
      "550:\tlearn: 0.2482252\ttotal: 5.93s\tremaining: 4.83s\n",
      "600:\tlearn: 0.2451244\ttotal: 6.42s\tremaining: 4.26s\n",
      "650:\tlearn: 0.2422278\ttotal: 6.98s\tremaining: 3.74s\n",
      "700:\tlearn: 0.2391465\ttotal: 7.46s\tremaining: 3.18s\n",
      "750:\tlearn: 0.2357152\ttotal: 8.02s\tremaining: 2.66s\n",
      "800:\tlearn: 0.2325917\ttotal: 8.51s\tremaining: 2.11s\n",
      "850:\tlearn: 0.2295895\ttotal: 9s\tremaining: 1.57s\n",
      "900:\tlearn: 0.2263294\ttotal: 9.52s\tremaining: 1.04s\n",
      "950:\tlearn: 0.2231082\ttotal: 10.1s\tremaining: 522ms\n",
      "999:\tlearn: 0.2200396\ttotal: 10.6s\tremaining: 0us\n"
     ]
    },
    {
     "data": {
      "text/plain": [
       "<catboost.core.CatBoostClassifier at 0x7f88f70a7b20>"
      ]
     },
     "execution_count": 369,
     "metadata": {},
     "output_type": "execute_result"
    }
   ],
   "source": [
    "model.fit(X_train,y_train)"
   ]
  },
  {
   "cell_type": "code",
   "execution_count": 296,
   "metadata": {},
   "outputs": [],
   "source": [
    "y_pred = model.predict(X_train)"
   ]
  },
  {
   "cell_type": "code",
   "execution_count": 297,
   "metadata": {},
   "outputs": [],
   "source": [
    "from sklearn.metrics import classification_report"
   ]
  },
  {
   "cell_type": "code",
   "execution_count": 298,
   "metadata": {},
   "outputs": [
    {
     "name": "stdout",
     "output_type": "stream",
     "text": [
      "*************** Classification report on training set ********************\n",
      "              precision    recall  f1-score   support\n",
      "\n",
      "     class 0       0.90      0.99      0.94      7110\n",
      "     class 1       0.73      0.17      0.27       982\n",
      "\n",
      "    accuracy                           0.89      8092\n",
      "   macro avg       0.81      0.58      0.61      8092\n",
      "weighted avg       0.88      0.89      0.86      8092\n",
      "\n"
     ]
    }
   ],
   "source": [
    "target_names = ['class 0', 'class 1']\n",
    "print('*************** Classification report on training set ********************')\n",
    "print(classification_report(y_train, y_pred, target_names=target_names))"
   ]
  },
  {
   "cell_type": "code",
   "execution_count": 299,
   "metadata": {},
   "outputs": [
    {
     "name": "stdout",
     "output_type": "stream",
     "text": [
      "*************** Classification report on testing set ********************\n",
      "              precision    recall  f1-score   support\n",
      "\n",
      "     class 0       0.89      0.99      0.94      3514\n",
      "     class 1       0.60      0.12      0.20       473\n",
      "\n",
      "    accuracy                           0.89      3987\n",
      "   macro avg       0.75      0.55      0.57      3987\n",
      "weighted avg       0.86      0.89      0.85      3987\n",
      "\n"
     ]
    }
   ],
   "source": [
    "print('*************** Classification report on testing set ********************')\n",
    "print(classification_report(y_test, model.predict(X_test), target_names=target_names))"
   ]
  },
  {
   "cell_type": "markdown",
   "metadata": {},
   "source": [
    "### Train on full train dataset"
   ]
  },
  {
   "cell_type": "code",
   "execution_count": 300,
   "metadata": {},
   "outputs": [
    {
     "name": "stdout",
     "output_type": "stream",
     "text": [
      "Learning rate set to 0.029851\n",
      "0:\tlearn: 0.6709212\ttotal: 22.4ms\tremaining: 22.4s\n",
      "50:\tlearn: 0.3224438\ttotal: 634ms\tremaining: 11.8s\n",
      "100:\tlearn: 0.2885096\ttotal: 1.7s\tremaining: 15.1s\n",
      "150:\tlearn: 0.2793904\ttotal: 2.71s\tremaining: 15.3s\n",
      "200:\tlearn: 0.2733042\ttotal: 3.56s\tremaining: 14.1s\n",
      "250:\tlearn: 0.2687850\ttotal: 4.47s\tremaining: 13.4s\n",
      "300:\tlearn: 0.2649334\ttotal: 5.37s\tremaining: 12.5s\n",
      "350:\tlearn: 0.2615520\ttotal: 6.21s\tremaining: 11.5s\n",
      "400:\tlearn: 0.2575390\ttotal: 7.08s\tremaining: 10.6s\n",
      "450:\tlearn: 0.2542236\ttotal: 7.94s\tremaining: 9.67s\n",
      "500:\tlearn: 0.2512264\ttotal: 8.9s\tremaining: 8.86s\n",
      "550:\tlearn: 0.2470561\ttotal: 9.91s\tremaining: 8.08s\n",
      "600:\tlearn: 0.2438768\ttotal: 10.7s\tremaining: 7.13s\n",
      "650:\tlearn: 0.2409194\ttotal: 11.8s\tremaining: 6.33s\n",
      "700:\tlearn: 0.2379106\ttotal: 12.7s\tremaining: 5.42s\n",
      "750:\tlearn: 0.2351184\ttotal: 13.7s\tremaining: 4.55s\n",
      "800:\tlearn: 0.2323654\ttotal: 14.7s\tremaining: 3.64s\n",
      "850:\tlearn: 0.2300332\ttotal: 15.6s\tremaining: 2.73s\n",
      "900:\tlearn: 0.2281375\ttotal: 16.4s\tremaining: 1.81s\n",
      "950:\tlearn: 0.2255888\ttotal: 17.4s\tremaining: 898ms\n",
      "999:\tlearn: 0.2232852\ttotal: 18.3s\tremaining: 0us\n"
     ]
    },
    {
     "data": {
      "text/plain": [
       "<catboost.core.CatBoostClassifier at 0x7f890fd115e0>"
      ]
     },
     "execution_count": 300,
     "metadata": {},
     "output_type": "execute_result"
    }
   ],
   "source": [
    "model.fit(X,y)"
   ]
  },
  {
   "cell_type": "markdown",
   "metadata": {},
   "source": [
    "# First submission file"
   ]
  },
  {
   "cell_type": "code",
   "execution_count": 302,
   "metadata": {},
   "outputs": [
    {
     "data": {
      "text/plain": [
       "{True}"
      ]
     },
     "execution_count": 302,
     "metadata": {},
     "output_type": "execute_result"
    }
   ],
   "source": [
    "set(test.ID == ss.ID)"
   ]
  },
  {
   "cell_type": "code",
   "execution_count": 304,
   "metadata": {},
   "outputs": [],
   "source": [
    "prediction = model.predict(test_n)"
   ]
  },
  {
   "cell_type": "code",
   "execution_count": 310,
   "metadata": {},
   "outputs": [
    {
     "data": {
      "text/plain": [
       "<matplotlib.axes._subplots.AxesSubplot at 0x7f88f9062d30>"
      ]
     },
     "execution_count": 310,
     "metadata": {},
     "output_type": "execute_result"
    },
    {
     "data": {
      "image/png": "[encoded data removed]",
      "text/plain": [
       "<Figure size 432x288 with 1 Axes>"
      ]
     },
     "metadata": {
      "needs_background": "light"
     },
     "output_type": "display_data"
    }
   ],
   "source": [
    "sns.countplot(prediction)"
   ]
  },
  {
   "cell_type": "code",
   "execution_count": 305,
   "metadata": {},
   "outputs": [
    {
     "data": {
      "text/html": [
       "<div>\n",
       "<style scoped>\n",
       "    .dataframe tbody tr th:only-of-type {\n",
       "        vertical-align: middle;\n",
       "    }\n",
       "\n",
       "    .dataframe tbody tr th {\n",
       "        vertical-align: top;\n",
       "    }\n",
       "\n",
       "    .dataframe thead th {\n",
       "        text-align: right;\n",
       "    }\n",
       "</style>\n",
       "<table border=\"1\" class=\"dataframe\">\n",
       "  <thead>\n",
       "    <tr style=\"text-align: right;\">\n",
       "      <th></th>\n",
       "      <th>ID</th>\n",
       "      <th>target</th>\n",
       "    </tr>\n",
       "  </thead>\n",
       "  <tbody>\n",
       "    <tr>\n",
       "      <th>0</th>\n",
       "      <td>009D84L</td>\n",
       "      <td>0</td>\n",
       "    </tr>\n",
       "    <tr>\n",
       "      <th>1</th>\n",
       "      <td>01DO2EQ</td>\n",
       "      <td>0</td>\n",
       "    </tr>\n",
       "    <tr>\n",
       "      <th>2</th>\n",
       "      <td>01QM0NU</td>\n",
       "      <td>0</td>\n",
       "    </tr>\n",
       "    <tr>\n",
       "      <th>3</th>\n",
       "      <td>024NJLZ</td>\n",
       "      <td>0</td>\n",
       "    </tr>\n",
       "    <tr>\n",
       "      <th>4</th>\n",
       "      <td>02BYET3</td>\n",
       "      <td>0</td>\n",
       "    </tr>\n",
       "  </tbody>\n",
       "</table>\n",
       "</div>"
      ],
      "text/plain": [
       "        ID  target\n",
       "0  009D84L       0\n",
       "1  01DO2EQ       0\n",
       "2  01QM0NU       0\n",
       "3  024NJLZ       0\n",
       "4  02BYET3       0"
      ]
     },
     "execution_count": 305,
     "metadata": {},
     "output_type": "execute_result"
    }
   ],
   "source": [
    "ss.head()"
   ]
  },
  {
   "cell_type": "code",
   "execution_count": 307,
   "metadata": {},
   "outputs": [],
   "source": [
    "sub_file = ss.copy()"
   ]
  },
  {
   "cell_type": "code",
   "execution_count": 308,
   "metadata": {},
   "outputs": [],
   "source": [
    "sub_file.target = prediction"
   ]
  },
  {
   "cell_type": "code",
   "execution_count": 309,
   "metadata": {},
   "outputs": [],
   "source": [
    "sub_file.to_csv('base_model_pred_file.csv',index=False)"
   ]
  },
  {
   "cell_type": "markdown",
   "metadata": {},
   "source": [
    "# Improving on model performance tips"
   ]
  },
  {
   "cell_type": "markdown",
   "metadata": {},
   "source": [
    "- Deep EDA and domain knowledge sourcing\n",
    "- Re-group Categorical features \n",
    "- Feature Engineering \n",
    "- Dataset balancing\n",
    "- Hyperparameter tunning with gridsearch\n",
    "- Ensembling of models \n",
    "- Cross-validation to avoid over fitting and under-fitting"
   ]
  },
  {
   "cell_type": "markdown",
   "metadata": {},
   "source": [
    "# ******************* GOOD LUCK!!! ***************************"
   ]
  }
 ],
 "metadata": {
  "kernelspec": {
   "display_name": "Python 3",
   "language": "python",
   "name": "python3"
  },
  "language_info": {
   "codemirror_mode": {
    "name": "ipython",
    "version": 3
   },
   "file_extension": ".py",
   "mimetype": "text/x-python",
   "name": "python",
   "nbconvert_exporter": "python",
   "pygments_lexer": "ipython3",
   "version": "3.7.3"
  }
 },
 "nbformat": 4,
 "nbformat_minor": 4
}
