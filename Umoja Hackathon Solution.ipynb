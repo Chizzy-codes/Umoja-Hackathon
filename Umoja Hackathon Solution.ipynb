{
 "cells": [
  {
   "cell_type": "code",
   "execution_count": null,
   "metadata": {},
   "outputs": [],
   "source": []
  },
  {
   "cell_type": "markdown",
   "metadata": {},
   "source": [
    "# Importing the needed libraries"
   ]
  },
  {
   "cell_type": "code",
   "execution_count": 1,
   "metadata": {
    "ExecuteTime": {
     "end_time": "2020-11-28T18:41:59.837036Z",
     "start_time": "2020-11-28T18:41:56.163584Z"
    }
   },
   "outputs": [],
   "source": [
    "import pandas as pd\n",
    "import numpy as np\n",
    "import seaborn as sns\n",
    "import matplotlib.pyplot as plt\n",
    "\n",
    "%matplotlib inline\n",
    "sns.set()"
   ]
  },
  {
   "cell_type": "markdown",
   "metadata": {},
   "source": [
    "# Importing the data"
   ]
  },
  {
   "cell_type": "code",
   "execution_count": 2,
   "metadata": {
    "ExecuteTime": {
     "end_time": "2020-11-28T18:41:59.964503Z",
     "start_time": "2020-11-28T18:41:59.837036Z"
    }
   },
   "outputs": [],
   "source": [
    "train = pd.read_csv('Train.csv')\n",
    "test = pd.read_csv('Test.csv')\n",
    "submit = pd.read_csv('SampleSubmission.csv')\n",
    "variable = pd.read_csv('VariableDefinitions.csv')"
   ]
  },
  {
   "cell_type": "code",
   "execution_count": 3,
   "metadata": {
    "ExecuteTime": {
     "end_time": "2020-11-28T18:41:59.996503Z",
     "start_time": "2020-11-28T18:41:59.964503Z"
    },
    "scrolled": true
   },
   "outputs": [
    {
     "name": "stdout",
     "output_type": "stream",
     "text": [
      "<class 'pandas.core.frame.DataFrame'>\n",
      "RangeIndex: 12079 entries, 0 to 12078\n",
      "Data columns (total 14 columns):\n",
      "ID                        12079 non-null object\n",
      "Policy Start Date         12079 non-null object\n",
      "Policy End Date           12079 non-null object\n",
      "Gender                    11720 non-null object\n",
      "Age                       12079 non-null int64\n",
      "First Transaction Date    12079 non-null object\n",
      "No_Pol                    12079 non-null int64\n",
      "Car_Category              8341 non-null object\n",
      "Subject_Car_Colour        5117 non-null object\n",
      "Subject_Car_Make          9603 non-null object\n",
      "LGA_Name                  5603 non-null object\n",
      "State                     5591 non-null object\n",
      "ProductName               12079 non-null object\n",
      "target                    12079 non-null int64\n",
      "dtypes: int64(3), object(11)\n",
      "memory usage: 1.3+ MB\n"
     ]
    }
   ],
   "source": [
    "train.info()"
   ]
  },
  {
   "cell_type": "code",
   "execution_count": 4,
   "metadata": {
    "ExecuteTime": {
     "end_time": "2020-11-28T18:42:00.076506Z",
     "start_time": "2020-11-28T18:41:59.996503Z"
    },
    "scrolled": true
   },
   "outputs": [
    {
     "name": "stdout",
     "output_type": "stream",
     "text": [
      "<class 'pandas.core.frame.DataFrame'>\n",
      "RangeIndex: 5177 entries, 0 to 5176\n",
      "Data columns (total 13 columns):\n",
      "ID                        5177 non-null object\n",
      "Policy Start Date         5177 non-null object\n",
      "Policy End Date           5177 non-null object\n",
      "Gender                    5021 non-null object\n",
      "Age                       5177 non-null int64\n",
      "First Transaction Date    5177 non-null object\n",
      "No_Pol                    5177 non-null int64\n",
      "Car_Category              3539 non-null object\n",
      "Subject_Car_Colour        2172 non-null object\n",
      "Subject_Car_Make          4116 non-null object\n",
      "LGA_Name                  2395 non-null object\n",
      "State                     2389 non-null object\n",
      "ProductName               5177 non-null object\n",
      "dtypes: int64(2), object(11)\n",
      "memory usage: 525.9+ KB\n"
     ]
    }
   ],
   "source": [
    "test.info()"
   ]
  },
  {
   "cell_type": "code",
   "execution_count": 5,
   "metadata": {
    "ExecuteTime": {
     "end_time": "2020-11-28T18:42:00.204548Z",
     "start_time": "2020-11-28T18:42:00.076506Z"
    }
   },
   "outputs": [
    {
     "data": {
      "text/html": [
       "<div>\n",
       "<style scoped>\n",
       "    .dataframe tbody tr th:only-of-type {\n",
       "        vertical-align: middle;\n",
       "    }\n",
       "\n",
       "    .dataframe tbody tr th {\n",
       "        vertical-align: top;\n",
       "    }\n",
       "\n",
       "    .dataframe thead th {\n",
       "        text-align: right;\n",
       "    }\n",
       "</style>\n",
       "<table border=\"1\" class=\"dataframe\">\n",
       "  <thead>\n",
       "    <tr style=\"text-align: right;\">\n",
       "      <th></th>\n",
       "      <th>ID</th>\n",
       "      <th>Policy Start Date</th>\n",
       "      <th>Policy End Date</th>\n",
       "      <th>Gender</th>\n",
       "      <th>Age</th>\n",
       "      <th>First Transaction Date</th>\n",
       "      <th>No_Pol</th>\n",
       "      <th>Car_Category</th>\n",
       "      <th>Subject_Car_Colour</th>\n",
       "      <th>Subject_Car_Make</th>\n",
       "      <th>LGA_Name</th>\n",
       "      <th>State</th>\n",
       "      <th>ProductName</th>\n",
       "      <th>target</th>\n",
       "    </tr>\n",
       "  </thead>\n",
       "  <tbody>\n",
       "    <tr>\n",
       "      <th>0</th>\n",
       "      <td>0040R73</td>\n",
       "      <td>2010-05-14</td>\n",
       "      <td>2011-05-13</td>\n",
       "      <td>Male</td>\n",
       "      <td>30</td>\n",
       "      <td>2010-05-14</td>\n",
       "      <td>1</td>\n",
       "      <td>Saloon</td>\n",
       "      <td>Black</td>\n",
       "      <td>TOYOTA</td>\n",
       "      <td>NaN</td>\n",
       "      <td>NaN</td>\n",
       "      <td>Car Classic</td>\n",
       "      <td>0</td>\n",
       "    </tr>\n",
       "    <tr>\n",
       "      <th>1</th>\n",
       "      <td>0046BNK</td>\n",
       "      <td>2010-11-29</td>\n",
       "      <td>2011-11-28</td>\n",
       "      <td>Female</td>\n",
       "      <td>79</td>\n",
       "      <td>2010-11-29</td>\n",
       "      <td>1</td>\n",
       "      <td>JEEP</td>\n",
       "      <td>Grey</td>\n",
       "      <td>TOYOTA</td>\n",
       "      <td>NaN</td>\n",
       "      <td>NaN</td>\n",
       "      <td>Car Classic</td>\n",
       "      <td>1</td>\n",
       "    </tr>\n",
       "    <tr>\n",
       "      <th>2</th>\n",
       "      <td>005QMC3</td>\n",
       "      <td>2010-03-21</td>\n",
       "      <td>2011-03-20</td>\n",
       "      <td>Male</td>\n",
       "      <td>43</td>\n",
       "      <td>2010-03-21</td>\n",
       "      <td>1</td>\n",
       "      <td>Saloon</td>\n",
       "      <td>Red</td>\n",
       "      <td>TOYOTA</td>\n",
       "      <td>NaN</td>\n",
       "      <td>NaN</td>\n",
       "      <td>Car Classic</td>\n",
       "      <td>0</td>\n",
       "    </tr>\n",
       "    <tr>\n",
       "      <th>3</th>\n",
       "      <td>0079OHW</td>\n",
       "      <td>2010-08-21</td>\n",
       "      <td>2011-08-20</td>\n",
       "      <td>Male</td>\n",
       "      <td>2</td>\n",
       "      <td>2010-08-21</td>\n",
       "      <td>1</td>\n",
       "      <td>NaN</td>\n",
       "      <td>NaN</td>\n",
       "      <td>NaN</td>\n",
       "      <td>NaN</td>\n",
       "      <td>NaN</td>\n",
       "      <td>CarSafe</td>\n",
       "      <td>0</td>\n",
       "    </tr>\n",
       "    <tr>\n",
       "      <th>4</th>\n",
       "      <td>00BRP63</td>\n",
       "      <td>2010-08-29</td>\n",
       "      <td>2010-12-31</td>\n",
       "      <td>Entity</td>\n",
       "      <td>20</td>\n",
       "      <td>2010-08-29</td>\n",
       "      <td>3</td>\n",
       "      <td>NaN</td>\n",
       "      <td>NaN</td>\n",
       "      <td>NaN</td>\n",
       "      <td>Lagos</td>\n",
       "      <td>Lagos</td>\n",
       "      <td>Muuve</td>\n",
       "      <td>1</td>\n",
       "    </tr>\n",
       "  </tbody>\n",
       "</table>\n",
       "</div>"
      ],
      "text/plain": [
       "        ID Policy Start Date Policy End Date  Gender  Age  \\\n",
       "0  0040R73        2010-05-14      2011-05-13    Male   30   \n",
       "1  0046BNK        2010-11-29      2011-11-28  Female   79   \n",
       "2  005QMC3        2010-03-21      2011-03-20    Male   43   \n",
       "3  0079OHW        2010-08-21      2011-08-20    Male    2   \n",
       "4  00BRP63        2010-08-29      2010-12-31  Entity   20   \n",
       "\n",
       "  First Transaction Date  No_Pol Car_Category Subject_Car_Colour  \\\n",
       "0             2010-05-14       1       Saloon              Black   \n",
       "1             2010-11-29       1         JEEP               Grey   \n",
       "2             2010-03-21       1       Saloon                Red   \n",
       "3             2010-08-21       1          NaN                NaN   \n",
       "4             2010-08-29       3          NaN                NaN   \n",
       "\n",
       "  Subject_Car_Make LGA_Name  State  ProductName  target  \n",
       "0           TOYOTA      NaN    NaN  Car Classic       0  \n",
       "1           TOYOTA      NaN    NaN  Car Classic       1  \n",
       "2           TOYOTA      NaN    NaN  Car Classic       0  \n",
       "3              NaN      NaN    NaN      CarSafe       0  \n",
       "4              NaN    Lagos  Lagos        Muuve       1  "
      ]
     },
     "execution_count": 5,
     "metadata": {},
     "output_type": "execute_result"
    }
   ],
   "source": [
    "train.head()"
   ]
  },
  {
   "cell_type": "code",
   "execution_count": 6,
   "metadata": {
    "ExecuteTime": {
     "end_time": "2020-11-28T18:42:00.300511Z",
     "start_time": "2020-11-28T18:42:00.204548Z"
    }
   },
   "outputs": [
    {
     "data": {
      "text/html": [
       "<div>\n",
       "<style scoped>\n",
       "    .dataframe tbody tr th:only-of-type {\n",
       "        vertical-align: middle;\n",
       "    }\n",
       "\n",
       "    .dataframe tbody tr th {\n",
       "        vertical-align: top;\n",
       "    }\n",
       "\n",
       "    .dataframe thead th {\n",
       "        text-align: right;\n",
       "    }\n",
       "</style>\n",
       "<table border=\"1\" class=\"dataframe\">\n",
       "  <thead>\n",
       "    <tr style=\"text-align: right;\">\n",
       "      <th></th>\n",
       "      <th>ID</th>\n",
       "      <th>target</th>\n",
       "    </tr>\n",
       "  </thead>\n",
       "  <tbody>\n",
       "    <tr>\n",
       "      <th>0</th>\n",
       "      <td>009D84L</td>\n",
       "      <td>0</td>\n",
       "    </tr>\n",
       "    <tr>\n",
       "      <th>1</th>\n",
       "      <td>01DO2EQ</td>\n",
       "      <td>0</td>\n",
       "    </tr>\n",
       "    <tr>\n",
       "      <th>2</th>\n",
       "      <td>01QM0NU</td>\n",
       "      <td>0</td>\n",
       "    </tr>\n",
       "    <tr>\n",
       "      <th>3</th>\n",
       "      <td>024NJLZ</td>\n",
       "      <td>0</td>\n",
       "    </tr>\n",
       "    <tr>\n",
       "      <th>4</th>\n",
       "      <td>02BYET3</td>\n",
       "      <td>0</td>\n",
       "    </tr>\n",
       "  </tbody>\n",
       "</table>\n",
       "</div>"
      ],
      "text/plain": [
       "        ID  target\n",
       "0  009D84L       0\n",
       "1  01DO2EQ       0\n",
       "2  01QM0NU       0\n",
       "3  024NJLZ       0\n",
       "4  02BYET3       0"
      ]
     },
     "execution_count": 6,
     "metadata": {},
     "output_type": "execute_result"
    }
   ],
   "source": [
    "submit.head()"
   ]
  },
  {
   "cell_type": "code",
   "execution_count": 7,
   "metadata": {
    "ExecuteTime": {
     "end_time": "2020-11-28T18:42:00.388515Z",
     "start_time": "2020-11-28T18:42:00.300511Z"
    }
   },
   "outputs": [
    {
     "data": {
      "text/html": [
       "<div>\n",
       "<style scoped>\n",
       "    .dataframe tbody tr th:only-of-type {\n",
       "        vertical-align: middle;\n",
       "    }\n",
       "\n",
       "    .dataframe tbody tr th {\n",
       "        vertical-align: top;\n",
       "    }\n",
       "\n",
       "    .dataframe thead th {\n",
       "        text-align: right;\n",
       "    }\n",
       "</style>\n",
       "<table border=\"1\" class=\"dataframe\">\n",
       "  <thead>\n",
       "    <tr style=\"text-align: right;\">\n",
       "      <th></th>\n",
       "      <th>ID</th>\n",
       "      <th>Unique ID for the customer</th>\n",
       "    </tr>\n",
       "  </thead>\n",
       "  <tbody>\n",
       "    <tr>\n",
       "      <th>0</th>\n",
       "      <td>Policy Start Date</td>\n",
       "      <td>Date policy started</td>\n",
       "    </tr>\n",
       "    <tr>\n",
       "      <th>1</th>\n",
       "      <td>Policy End Date</td>\n",
       "      <td>Date policy ended</td>\n",
       "    </tr>\n",
       "    <tr>\n",
       "      <th>2</th>\n",
       "      <td>Gender</td>\n",
       "      <td>Gender of the customer</td>\n",
       "    </tr>\n",
       "    <tr>\n",
       "      <th>3</th>\n",
       "      <td>Age</td>\n",
       "      <td>Age of the customer</td>\n",
       "    </tr>\n",
       "    <tr>\n",
       "      <th>4</th>\n",
       "      <td>ProductName</td>\n",
       "      <td>Name of Insurance policy</td>\n",
       "    </tr>\n",
       "    <tr>\n",
       "      <th>5</th>\n",
       "      <td>First Transaction Date</td>\n",
       "      <td>First date payment was made</td>\n",
       "    </tr>\n",
       "    <tr>\n",
       "      <th>6</th>\n",
       "      <td>No_Pol</td>\n",
       "      <td>Number of policies the customer has</td>\n",
       "    </tr>\n",
       "    <tr>\n",
       "      <th>7</th>\n",
       "      <td>Car_Category</td>\n",
       "      <td>Type of car</td>\n",
       "    </tr>\n",
       "    <tr>\n",
       "      <th>8</th>\n",
       "      <td>Subject_Car_Colour</td>\n",
       "      <td>Car colour</td>\n",
       "    </tr>\n",
       "    <tr>\n",
       "      <th>9</th>\n",
       "      <td>Subject_Car_Make</td>\n",
       "      <td>Car make</td>\n",
       "    </tr>\n",
       "    <tr>\n",
       "      <th>10</th>\n",
       "      <td>LGA_Name</td>\n",
       "      <td>City where policy was purchased</td>\n",
       "    </tr>\n",
       "    <tr>\n",
       "      <th>11</th>\n",
       "      <td>State</td>\n",
       "      <td>State where policy was purchased</td>\n",
       "    </tr>\n",
       "    <tr>\n",
       "      <th>12</th>\n",
       "      <td>No_of_claims_3_mon_period</td>\n",
       "      <td>Wether the customer claimed within a 3 month p...</td>\n",
       "    </tr>\n",
       "  </tbody>\n",
       "</table>\n",
       "</div>"
      ],
      "text/plain": [
       "                           ID  \\\n",
       "0           Policy Start Date   \n",
       "1             Policy End Date   \n",
       "2                      Gender   \n",
       "3                         Age   \n",
       "4                 ProductName   \n",
       "5      First Transaction Date   \n",
       "6                      No_Pol   \n",
       "7                Car_Category   \n",
       "8          Subject_Car_Colour   \n",
       "9            Subject_Car_Make   \n",
       "10                   LGA_Name   \n",
       "11                      State   \n",
       "12  No_of_claims_3_mon_period   \n",
       "\n",
       "                           Unique ID for the customer  \n",
       "0                                 Date policy started  \n",
       "1                                   Date policy ended  \n",
       "2                              Gender of the customer  \n",
       "3                                 Age of the customer  \n",
       "4                            Name of Insurance policy  \n",
       "5                         First date payment was made  \n",
       "6                 Number of policies the customer has  \n",
       "7                                         Type of car  \n",
       "8                                          Car colour  \n",
       "9                                            Car make  \n",
       "10                    City where policy was purchased  \n",
       "11                   State where policy was purchased  \n",
       "12  Wether the customer claimed within a 3 month p...  "
      ]
     },
     "execution_count": 7,
     "metadata": {},
     "output_type": "execute_result"
    }
   ],
   "source": [
    "variable"
   ]
  },
  {
   "cell_type": "markdown",
   "metadata": {
    "ExecuteTime": {
     "end_time": "2020-11-28T09:54:16.820080Z",
     "start_time": "2020-11-28T09:54:16.796098Z"
    }
   },
   "source": [
    "## Combining the test and train data"
   ]
  },
  {
   "cell_type": "code",
   "execution_count": 8,
   "metadata": {
    "ExecuteTime": {
     "end_time": "2020-11-28T18:42:00.492508Z",
     "start_time": "2020-11-28T18:42:00.388515Z"
    }
   },
   "outputs": [
    {
     "name": "stderr",
     "output_type": "stream",
     "text": [
      "C:\\Users\\Chizurum_Olorondu\\anaconda3\\envs\\tf_gpu\\lib\\site-packages\\ipykernel_launcher.py:1: FutureWarning: Sorting because non-concatenation axis is not aligned. A future version\n",
      "of pandas will change to not sort by default.\n",
      "\n",
      "To accept the future behavior, pass 'sort=False'.\n",
      "\n",
      "To retain the current behavior and silence the warning, pass 'sort=True'.\n",
      "\n",
      "  \"\"\"Entry point for launching an IPython kernel.\n"
     ]
    }
   ],
   "source": [
    "data = pd.concat([train, test], axis=0).reset_index(drop=True)"
   ]
  },
  {
   "cell_type": "code",
   "execution_count": 9,
   "metadata": {
    "ExecuteTime": {
     "end_time": "2020-11-28T18:42:00.620508Z",
     "start_time": "2020-11-28T18:42:00.500503Z"
    },
    "scrolled": false
   },
   "outputs": [
    {
     "name": "stdout",
     "output_type": "stream",
     "text": [
      "<class 'pandas.core.frame.DataFrame'>\n",
      "RangeIndex: 17256 entries, 0 to 17255\n",
      "Data columns (total 14 columns):\n",
      "Age                       17256 non-null int64\n",
      "Car_Category              11880 non-null object\n",
      "First Transaction Date    17256 non-null object\n",
      "Gender                    16741 non-null object\n",
      "ID                        17256 non-null object\n",
      "LGA_Name                  7998 non-null object\n",
      "No_Pol                    17256 non-null int64\n",
      "Policy End Date           17256 non-null object\n",
      "Policy Start Date         17256 non-null object\n",
      "ProductName               17256 non-null object\n",
      "State                     7980 non-null object\n",
      "Subject_Car_Colour        7289 non-null object\n",
      "Subject_Car_Make          13719 non-null object\n",
      "target                    12079 non-null float64\n",
      "dtypes: float64(1), int64(2), object(11)\n",
      "memory usage: 1.8+ MB\n"
     ]
    }
   ],
   "source": [
    "data.info()"
   ]
  },
  {
   "cell_type": "code",
   "execution_count": 10,
   "metadata": {
    "ExecuteTime": {
     "end_time": "2020-11-28T18:42:00.708506Z",
     "start_time": "2020-11-28T18:42:00.628546Z"
    },
    "scrolled": false
   },
   "outputs": [
    {
     "data": {
      "text/html": [
       "<div>\n",
       "<style scoped>\n",
       "    .dataframe tbody tr th:only-of-type {\n",
       "        vertical-align: middle;\n",
       "    }\n",
       "\n",
       "    .dataframe tbody tr th {\n",
       "        vertical-align: top;\n",
       "    }\n",
       "\n",
       "    .dataframe thead th {\n",
       "        text-align: right;\n",
       "    }\n",
       "</style>\n",
       "<table border=\"1\" class=\"dataframe\">\n",
       "  <thead>\n",
       "    <tr style=\"text-align: right;\">\n",
       "      <th></th>\n",
       "      <th>Age</th>\n",
       "      <th>Car_Category</th>\n",
       "      <th>First Transaction Date</th>\n",
       "      <th>Gender</th>\n",
       "      <th>ID</th>\n",
       "      <th>LGA_Name</th>\n",
       "      <th>No_Pol</th>\n",
       "      <th>Policy End Date</th>\n",
       "      <th>Policy Start Date</th>\n",
       "      <th>ProductName</th>\n",
       "      <th>State</th>\n",
       "      <th>Subject_Car_Colour</th>\n",
       "      <th>Subject_Car_Make</th>\n",
       "      <th>target</th>\n",
       "    </tr>\n",
       "  </thead>\n",
       "  <tbody>\n",
       "    <tr>\n",
       "      <th>0</th>\n",
       "      <td>30</td>\n",
       "      <td>Saloon</td>\n",
       "      <td>2010-05-14</td>\n",
       "      <td>Male</td>\n",
       "      <td>0040R73</td>\n",
       "      <td>NaN</td>\n",
       "      <td>1</td>\n",
       "      <td>2011-05-13</td>\n",
       "      <td>2010-05-14</td>\n",
       "      <td>Car Classic</td>\n",
       "      <td>NaN</td>\n",
       "      <td>Black</td>\n",
       "      <td>TOYOTA</td>\n",
       "      <td>0.0</td>\n",
       "    </tr>\n",
       "    <tr>\n",
       "      <th>1</th>\n",
       "      <td>79</td>\n",
       "      <td>JEEP</td>\n",
       "      <td>2010-11-29</td>\n",
       "      <td>Female</td>\n",
       "      <td>0046BNK</td>\n",
       "      <td>NaN</td>\n",
       "      <td>1</td>\n",
       "      <td>2011-11-28</td>\n",
       "      <td>2010-11-29</td>\n",
       "      <td>Car Classic</td>\n",
       "      <td>NaN</td>\n",
       "      <td>Grey</td>\n",
       "      <td>TOYOTA</td>\n",
       "      <td>1.0</td>\n",
       "    </tr>\n",
       "    <tr>\n",
       "      <th>2</th>\n",
       "      <td>43</td>\n",
       "      <td>Saloon</td>\n",
       "      <td>2010-03-21</td>\n",
       "      <td>Male</td>\n",
       "      <td>005QMC3</td>\n",
       "      <td>NaN</td>\n",
       "      <td>1</td>\n",
       "      <td>2011-03-20</td>\n",
       "      <td>2010-03-21</td>\n",
       "      <td>Car Classic</td>\n",
       "      <td>NaN</td>\n",
       "      <td>Red</td>\n",
       "      <td>TOYOTA</td>\n",
       "      <td>0.0</td>\n",
       "    </tr>\n",
       "    <tr>\n",
       "      <th>3</th>\n",
       "      <td>2</td>\n",
       "      <td>NaN</td>\n",
       "      <td>2010-08-21</td>\n",
       "      <td>Male</td>\n",
       "      <td>0079OHW</td>\n",
       "      <td>NaN</td>\n",
       "      <td>1</td>\n",
       "      <td>2011-08-20</td>\n",
       "      <td>2010-08-21</td>\n",
       "      <td>CarSafe</td>\n",
       "      <td>NaN</td>\n",
       "      <td>NaN</td>\n",
       "      <td>NaN</td>\n",
       "      <td>0.0</td>\n",
       "    </tr>\n",
       "    <tr>\n",
       "      <th>4</th>\n",
       "      <td>20</td>\n",
       "      <td>NaN</td>\n",
       "      <td>2010-08-29</td>\n",
       "      <td>Entity</td>\n",
       "      <td>00BRP63</td>\n",
       "      <td>Lagos</td>\n",
       "      <td>3</td>\n",
       "      <td>2010-12-31</td>\n",
       "      <td>2010-08-29</td>\n",
       "      <td>Muuve</td>\n",
       "      <td>Lagos</td>\n",
       "      <td>NaN</td>\n",
       "      <td>NaN</td>\n",
       "      <td>1.0</td>\n",
       "    </tr>\n",
       "    <tr>\n",
       "      <th>5</th>\n",
       "      <td>37</td>\n",
       "      <td>NaN</td>\n",
       "      <td>2010-10-21</td>\n",
       "      <td>Male</td>\n",
       "      <td>00D3EF6</td>\n",
       "      <td>NaN</td>\n",
       "      <td>2</td>\n",
       "      <td>2011-10-20</td>\n",
       "      <td>2010-10-21</td>\n",
       "      <td>Car Classic</td>\n",
       "      <td>NaN</td>\n",
       "      <td>NaN</td>\n",
       "      <td>NaN</td>\n",
       "      <td>0.0</td>\n",
       "    </tr>\n",
       "    <tr>\n",
       "      <th>6</th>\n",
       "      <td>40</td>\n",
       "      <td>NaN</td>\n",
       "      <td>2010-08-02</td>\n",
       "      <td>Female</td>\n",
       "      <td>00HHZ8Y</td>\n",
       "      <td>Ikeja</td>\n",
       "      <td>3</td>\n",
       "      <td>2011-08-01</td>\n",
       "      <td>2010-08-02</td>\n",
       "      <td>CVTP</td>\n",
       "      <td>Lagos</td>\n",
       "      <td>NaN</td>\n",
       "      <td>NaN</td>\n",
       "      <td>0.0</td>\n",
       "    </tr>\n",
       "    <tr>\n",
       "      <th>7</th>\n",
       "      <td>43</td>\n",
       "      <td>Saloon</td>\n",
       "      <td>2010-09-12</td>\n",
       "      <td>Male</td>\n",
       "      <td>00M1X6U</td>\n",
       "      <td>NaN</td>\n",
       "      <td>1</td>\n",
       "      <td>2011-09-11</td>\n",
       "      <td>2010-09-12</td>\n",
       "      <td>CarSafe</td>\n",
       "      <td>NaN</td>\n",
       "      <td>NaN</td>\n",
       "      <td>TOYOTA</td>\n",
       "      <td>0.0</td>\n",
       "    </tr>\n",
       "    <tr>\n",
       "      <th>8</th>\n",
       "      <td>71</td>\n",
       "      <td>JEEP</td>\n",
       "      <td>2010-07-06</td>\n",
       "      <td>Female</td>\n",
       "      <td>00N7XT1</td>\n",
       "      <td>Badagry</td>\n",
       "      <td>2</td>\n",
       "      <td>2011-07-05</td>\n",
       "      <td>2010-07-06</td>\n",
       "      <td>Car Classic</td>\n",
       "      <td>Benue</td>\n",
       "      <td>Black</td>\n",
       "      <td>REXTON</td>\n",
       "      <td>0.0</td>\n",
       "    </tr>\n",
       "    <tr>\n",
       "      <th>9</th>\n",
       "      <td>58</td>\n",
       "      <td>NaN</td>\n",
       "      <td>2010-12-18</td>\n",
       "      <td>Female</td>\n",
       "      <td>00QF156</td>\n",
       "      <td>Eti-Osa</td>\n",
       "      <td>1</td>\n",
       "      <td>2011-12-17</td>\n",
       "      <td>2010-12-18</td>\n",
       "      <td>Car Classic</td>\n",
       "      <td>Eti-Osa</td>\n",
       "      <td>NaN</td>\n",
       "      <td>NaN</td>\n",
       "      <td>0.0</td>\n",
       "    </tr>\n",
       "  </tbody>\n",
       "</table>\n",
       "</div>"
      ],
      "text/plain": [
       "   Age Car_Category First Transaction Date  Gender       ID LGA_Name  No_Pol  \\\n",
       "0   30       Saloon             2010-05-14    Male  0040R73      NaN       1   \n",
       "1   79         JEEP             2010-11-29  Female  0046BNK      NaN       1   \n",
       "2   43       Saloon             2010-03-21    Male  005QMC3      NaN       1   \n",
       "3    2          NaN             2010-08-21    Male  0079OHW      NaN       1   \n",
       "4   20          NaN             2010-08-29  Entity  00BRP63    Lagos       3   \n",
       "5   37          NaN             2010-10-21    Male  00D3EF6      NaN       2   \n",
       "6   40          NaN             2010-08-02  Female  00HHZ8Y    Ikeja       3   \n",
       "7   43       Saloon             2010-09-12    Male  00M1X6U      NaN       1   \n",
       "8   71         JEEP             2010-07-06  Female  00N7XT1  Badagry       2   \n",
       "9   58          NaN             2010-12-18  Female  00QF156  Eti-Osa       1   \n",
       "\n",
       "  Policy End Date Policy Start Date  ProductName    State Subject_Car_Colour  \\\n",
       "0      2011-05-13        2010-05-14  Car Classic      NaN              Black   \n",
       "1      2011-11-28        2010-11-29  Car Classic      NaN               Grey   \n",
       "2      2011-03-20        2010-03-21  Car Classic      NaN                Red   \n",
       "3      2011-08-20        2010-08-21      CarSafe      NaN                NaN   \n",
       "4      2010-12-31        2010-08-29        Muuve    Lagos                NaN   \n",
       "5      2011-10-20        2010-10-21  Car Classic      NaN                NaN   \n",
       "6      2011-08-01        2010-08-02         CVTP    Lagos                NaN   \n",
       "7      2011-09-11        2010-09-12      CarSafe      NaN                NaN   \n",
       "8      2011-07-05        2010-07-06  Car Classic    Benue              Black   \n",
       "9      2011-12-17        2010-12-18  Car Classic  Eti-Osa                NaN   \n",
       "\n",
       "  Subject_Car_Make  target  \n",
       "0           TOYOTA     0.0  \n",
       "1           TOYOTA     1.0  \n",
       "2           TOYOTA     0.0  \n",
       "3              NaN     0.0  \n",
       "4              NaN     1.0  \n",
       "5              NaN     0.0  \n",
       "6              NaN     0.0  \n",
       "7           TOYOTA     0.0  \n",
       "8           REXTON     0.0  \n",
       "9              NaN     0.0  "
      ]
     },
     "execution_count": 10,
     "metadata": {},
     "output_type": "execute_result"
    }
   ],
   "source": [
    "data.head(10)"
   ]
  },
  {
   "cell_type": "code",
   "execution_count": 11,
   "metadata": {
    "ExecuteTime": {
     "end_time": "2020-11-28T18:42:00.788510Z",
     "start_time": "2020-11-28T18:42:00.708506Z"
    }
   },
   "outputs": [
    {
     "data": {
      "text/plain": [
       "Age                          0\n",
       "Car_Category              5376\n",
       "First Transaction Date       0\n",
       "Gender                     515\n",
       "ID                           0\n",
       "LGA_Name                  9258\n",
       "No_Pol                       0\n",
       "Policy End Date              0\n",
       "Policy Start Date            0\n",
       "ProductName                  0\n",
       "State                     9276\n",
       "Subject_Car_Colour        9967\n",
       "Subject_Car_Make          3537\n",
       "target                    5177\n",
       "dtype: int64"
      ]
     },
     "execution_count": 11,
     "metadata": {},
     "output_type": "execute_result"
    }
   ],
   "source": [
    "data.isna().sum()"
   ]
  },
  {
   "cell_type": "code",
   "execution_count": 12,
   "metadata": {
    "ExecuteTime": {
     "end_time": "2020-11-28T18:42:00.868507Z",
     "start_time": "2020-11-28T18:42:00.788510Z"
    }
   },
   "outputs": [
    {
     "data": {
      "text/plain": [
       "Saloon                     8612\n",
       "JEEP                       2868\n",
       "Truck                       135\n",
       "Bus                          66\n",
       "Mini Bus                     55\n",
       "Pick Up                      45\n",
       "Motorcycle                   24\n",
       "Sedan                        19\n",
       "Mini Van                     18\n",
       "Wagon                        13\n",
       "Shape Of Vehicle Chasis       8\n",
       "Station 4 Wheel               7\n",
       "Van                           5\n",
       "Pick Up > 3 Tons              3\n",
       "CAMRY CAR HIRE                1\n",
       "Tipper Truck                  1\n",
       "Name: Car_Category, dtype: int64"
      ]
     },
     "execution_count": 12,
     "metadata": {},
     "output_type": "execute_result"
    }
   ],
   "source": [
    "data['Car_Category'].value_counts()\n"
   ]
  },
  {
   "cell_type": "code",
   "execution_count": null,
   "metadata": {},
   "outputs": [],
   "source": []
  },
  {
   "cell_type": "code",
   "execution_count": 13,
   "metadata": {
    "ExecuteTime": {
     "end_time": "2020-11-28T18:42:00.964508Z",
     "start_time": "2020-11-28T18:42:00.868507Z"
    }
   },
   "outputs": [
    {
     "data": {
      "text/plain": [
       "Car Classic         9264\n",
       "CarSafe             5385\n",
       "Customized Motor     786\n",
       "CVTP                 681\n",
       "Car Plus             672\n",
       "CarFlex              253\n",
       "Muuve                148\n",
       "Motor Cycle           61\n",
       "Car Vintage            6\n",
       "Name: ProductName, dtype: int64"
      ]
     },
     "execution_count": 13,
     "metadata": {},
     "output_type": "execute_result"
    }
   ],
   "source": [
    "data['ProductName'].value_counts()"
   ]
  },
  {
   "cell_type": "markdown",
   "metadata": {
    "ExecuteTime": {
     "end_time": "2020-11-28T10:03:58.241816Z",
     "start_time": "2020-11-28T10:03:58.217805Z"
    }
   },
   "source": [
    "## Identifying the various column types"
   ]
  },
  {
   "cell_type": "code",
   "execution_count": 14,
   "metadata": {
    "ExecuteTime": {
     "end_time": "2020-11-28T18:42:01.044503Z",
     "start_time": "2020-11-28T18:42:00.964508Z"
    }
   },
   "outputs": [],
   "source": [
    "date_col = ['Policy Start Date','Policy End Date','First Transaction Date']\n",
    "num_col = ['Age']\n",
    "cat_col = [col for col in test.columns if col not in date_col+num_col]"
   ]
  },
  {
   "cell_type": "code",
   "execution_count": 15,
   "metadata": {
    "ExecuteTime": {
     "end_time": "2020-11-28T18:42:01.124500Z",
     "start_time": "2020-11-28T18:42:01.044503Z"
    }
   },
   "outputs": [
    {
     "data": {
      "text/plain": [
       "['ID',\n",
       " 'Gender',\n",
       " 'No_Pol',\n",
       " 'Car_Category',\n",
       " 'Subject_Car_Colour',\n",
       " 'Subject_Car_Make',\n",
       " 'LGA_Name',\n",
       " 'State',\n",
       " 'ProductName']"
      ]
     },
     "execution_count": 15,
     "metadata": {},
     "output_type": "execute_result"
    }
   ],
   "source": [
    "cat_col"
   ]
  },
  {
   "cell_type": "code",
   "execution_count": 16,
   "metadata": {
    "ExecuteTime": {
     "end_time": "2020-11-28T18:42:01.236505Z",
     "start_time": "2020-11-28T18:42:01.124500Z"
    }
   },
   "outputs": [],
   "source": [
    "one = list(data['Policy Start Date'])\n",
    "two = list(data['First Transaction Date'])\n",
    "\n",
    "check = []\n",
    "\n",
    "for x in range(len(one)):\n",
    "    check.append((one[x], two[x]))"
   ]
  },
  {
   "cell_type": "code",
   "execution_count": 17,
   "metadata": {
    "ExecuteTime": {
     "end_time": "2020-11-28T18:42:01.332516Z",
     "start_time": "2020-11-28T18:42:01.236505Z"
    }
   },
   "outputs": [],
   "source": [
    "check2 = []\n",
    "for x in check:\n",
    "    if x[0] != x[1]:\n",
    "        check2.append(x[0])"
   ]
  },
  {
   "cell_type": "code",
   "execution_count": 18,
   "metadata": {
    "ExecuteTime": {
     "end_time": "2020-11-28T18:42:01.428517Z",
     "start_time": "2020-11-28T18:42:01.340556Z"
    }
   },
   "outputs": [
    {
     "data": {
      "text/plain": [
       "0"
      ]
     },
     "execution_count": 18,
     "metadata": {},
     "output_type": "execute_result"
    }
   ],
   "source": [
    "len(check2)"
   ]
  },
  {
   "cell_type": "markdown",
   "metadata": {},
   "source": [
    "### This means that the Policy start date and First transactional date are equal so we should drop one of them"
   ]
  },
  {
   "cell_type": "code",
   "execution_count": 19,
   "metadata": {
    "ExecuteTime": {
     "end_time": "2020-11-28T18:42:01.524516Z",
     "start_time": "2020-11-28T18:42:01.436515Z"
    }
   },
   "outputs": [
    {
     "data": {
      "text/plain": [
       "Saloon                     8612\n",
       "JEEP                       2868\n",
       "Truck                       135\n",
       "Bus                          66\n",
       "Mini Bus                     55\n",
       "Pick Up                      45\n",
       "Motorcycle                   24\n",
       "Sedan                        19\n",
       "Mini Van                     18\n",
       "Wagon                        13\n",
       "Shape Of Vehicle Chasis       8\n",
       "Station 4 Wheel               7\n",
       "Van                           5\n",
       "Pick Up > 3 Tons              3\n",
       "CAMRY CAR HIRE                1\n",
       "Tipper Truck                  1\n",
       "Name: Car_Category, dtype: int64"
      ]
     },
     "execution_count": 19,
     "metadata": {},
     "output_type": "execute_result"
    }
   ],
   "source": [
    "data['Car_Category'].value_counts()"
   ]
  },
  {
   "cell_type": "code",
   "execution_count": 20,
   "metadata": {
    "ExecuteTime": {
     "end_time": "2020-11-28T18:42:01.732521Z",
     "start_time": "2020-11-28T18:42:01.524516Z"
    }
   },
   "outputs": [],
   "source": [
    "\n",
    "data['Car_Category'] = data['Car_Category'].fillna(value='Unknown')\n",
    "\n",
    "data['Gender'] = data['Gender'].fillna(value='NOT STATED')\n",
    "\n",
    "data['LGA_Name'] = data['LGA_Name'].fillna(value='Unknown')\n",
    "\n",
    "data['State'] = data['State'].fillna(value='Unknown')\n",
    "\n",
    "data['Subject_Car_Colour'] = data['Subject_Car_Colour'].fillna(value='Black')\n",
    "\n",
    "data['Subject_Car_Make'] = data['Subject_Car_Make'].fillna(value='Unknown')"
   ]
  },
  {
   "cell_type": "code",
   "execution_count": 21,
   "metadata": {
    "ExecuteTime": {
     "end_time": "2020-11-28T18:42:01.828502Z",
     "start_time": "2020-11-28T18:42:01.732521Z"
    }
   },
   "outputs": [
    {
     "data": {
      "text/plain": [
       "Age                          0\n",
       "Car_Category                 0\n",
       "First Transaction Date       0\n",
       "Gender                       0\n",
       "ID                           0\n",
       "LGA_Name                     0\n",
       "No_Pol                       0\n",
       "Policy End Date              0\n",
       "Policy Start Date            0\n",
       "ProductName                  0\n",
       "State                        0\n",
       "Subject_Car_Colour           0\n",
       "Subject_Car_Make             0\n",
       "target                    5177\n",
       "dtype: int64"
      ]
     },
     "execution_count": 21,
     "metadata": {},
     "output_type": "execute_result"
    }
   ],
   "source": [
    "data.isna().sum()"
   ]
  },
  {
   "cell_type": "code",
   "execution_count": 22,
   "metadata": {
    "ExecuteTime": {
     "end_time": "2020-11-28T18:42:01.900508Z",
     "start_time": "2020-11-28T18:42:01.828502Z"
    }
   },
   "outputs": [
    {
     "data": {
      "text/plain": [
       "Saloon                     8612\n",
       "Unknown                    5376\n",
       "JEEP                       2868\n",
       "Truck                       135\n",
       "Bus                          66\n",
       "Mini Bus                     55\n",
       "Pick Up                      45\n",
       "Motorcycle                   24\n",
       "Sedan                        19\n",
       "Mini Van                     18\n",
       "Wagon                        13\n",
       "Shape Of Vehicle Chasis       8\n",
       "Station 4 Wheel               7\n",
       "Van                           5\n",
       "Pick Up > 3 Tons              3\n",
       "CAMRY CAR HIRE                1\n",
       "Tipper Truck                  1\n",
       "Name: Car_Category, dtype: int64"
      ]
     },
     "execution_count": 22,
     "metadata": {},
     "output_type": "execute_result"
    }
   ],
   "source": [
    "data['Car_Category'].value_counts()"
   ]
  },
  {
   "cell_type": "code",
   "execution_count": 23,
   "metadata": {
    "ExecuteTime": {
     "end_time": "2020-11-28T18:42:02.004514Z",
     "start_time": "2020-11-28T18:42:01.900508Z"
    }
   },
   "outputs": [],
   "source": [
    "def convert(x):\n",
    "    \n",
    "\n",
    "    load = ['Tipper Truck', 'Pick Up > 3 Tons', 'Wagon', 'Van', 'Truck']\n",
    "    people = ['Saloon', 'Motorcycle', 'JEEP', 'Mini Van', 'CAMRY CAR HIRE', 'Sedan', 'Bus', 'Mini Bus']\n",
    "    both = ['Station 4 Wheel', 'Pick Up']\n",
    "    body = ['Shape Of Vehicle Chasis']\n",
    "    unknown = ['Unknown']\n",
    "    \n",
    "    if x in load:\n",
    "        return 1.0\n",
    "    elif x in people:\n",
    "        return 2.0\n",
    "    elif x in both:\n",
    "        return 3.0\n",
    "    elif x in body:\n",
    "        return 4.0\n",
    "    elif x in unknown:\n",
    "        return 0.0\n",
    "\n",
    "data['Cargo'] = data['Car_Category'].apply(convert)"
   ]
  },
  {
   "cell_type": "code",
   "execution_count": 24,
   "metadata": {
    "ExecuteTime": {
     "end_time": "2020-11-28T18:42:02.100502Z",
     "start_time": "2020-11-28T18:42:02.012508Z"
    }
   },
   "outputs": [],
   "source": [
    "def sizze(x):\n",
    "    \n",
    "    small = ['Motorcycle']\n",
    "    medium = ['Saloon', 'Sedan', 'Shape Of Vehicle Chasis', 'CAMRY CAR HIRE', ]\n",
    "    large = ['JEEP', 'Mini Van',  'Mini Bus', 'Pick Up', 'Wagon']\n",
    "    extra_large = ['Van', 'Truck', 'Pick Up > 3 Tons', 'Tipper Truck', 'Bus', 'Station 4 Wheel']\n",
    "    unknown = ['Unknown']\n",
    "    \n",
    "    if x in small:\n",
    "        return 1.0\n",
    "    if x in medium:\n",
    "        return 2.0\n",
    "    if x in large:\n",
    "        return 3.0\n",
    "    if x in extra_large:\n",
    "        return 4.0\n",
    "    \n",
    "    if x in unknown:\n",
    "        return 0.0\n",
    "    \n",
    "data['Size'] = data['Car_Category'].apply(sizze)"
   ]
  },
  {
   "cell_type": "code",
   "execution_count": 25,
   "metadata": {
    "ExecuteTime": {
     "end_time": "2020-11-28T18:42:02.212510Z",
     "start_time": "2020-11-28T18:42:02.108501Z"
    }
   },
   "outputs": [
    {
     "data": {
      "text/plain": [
       "0"
      ]
     },
     "execution_count": 25,
     "metadata": {},
     "output_type": "execute_result"
    }
   ],
   "source": [
    "data['Size'].isna().sum()"
   ]
  },
  {
   "cell_type": "code",
   "execution_count": 26,
   "metadata": {
    "ExecuteTime": {
     "end_time": "2020-11-28T18:42:02.308550Z",
     "start_time": "2020-11-28T18:42:02.212510Z"
    }
   },
   "outputs": [],
   "source": [
    "data = pd.get_dummies(data, columns=['ProductName'])"
   ]
  },
  {
   "cell_type": "markdown",
   "metadata": {
    "ExecuteTime": {
     "end_time": "2020-11-28T13:44:58.657993Z",
     "start_time": "2020-11-28T13:44:58.633996Z"
    }
   },
   "source": [
    "# Categorical Encoder"
   ]
  },
  {
   "cell_type": "code",
   "execution_count": 27,
   "metadata": {
    "ExecuteTime": {
     "end_time": "2020-11-28T18:42:02.388515Z",
     "start_time": "2020-11-28T18:42:02.308550Z"
    }
   },
   "outputs": [],
   "source": [
    "# data.drop(['ID, First Transaction Date'], axis=1, inplace=True)"
   ]
  },
  {
   "cell_type": "code",
   "execution_count": 28,
   "metadata": {
    "ExecuteTime": {
     "end_time": "2020-11-28T18:42:02.518129Z",
     "start_time": "2020-11-28T18:42:02.388515Z"
    }
   },
   "outputs": [],
   "source": [
    "from sklearn.preprocessing import LabelEncoder, OneHotEncoder"
   ]
  },
  {
   "cell_type": "code",
   "execution_count": 29,
   "metadata": {
    "ExecuteTime": {
     "end_time": "2020-11-28T18:42:02.558140Z",
     "start_time": "2020-11-28T18:42:02.518129Z"
    }
   },
   "outputs": [
    {
     "data": {
      "text/plain": [
       "['ID',\n",
       " 'Gender',\n",
       " 'No_Pol',\n",
       " 'Car_Category',\n",
       " 'Subject_Car_Colour',\n",
       " 'Subject_Car_Make',\n",
       " 'LGA_Name',\n",
       " 'State',\n",
       " 'ProductName']"
      ]
     },
     "execution_count": 29,
     "metadata": {},
     "output_type": "execute_result"
    }
   ],
   "source": [
    "cat_col"
   ]
  },
  {
   "cell_type": "code",
   "execution_count": 30,
   "metadata": {
    "ExecuteTime": {
     "end_time": "2020-11-28T18:42:02.710093Z",
     "start_time": "2020-11-28T18:42:02.558140Z"
    },
    "scrolled": true
   },
   "outputs": [],
   "source": [
    "cat_col = ['ID',\n",
    " 'Gender',\n",
    " 'No_Pol',\n",
    " 'Car_Category',\n",
    " 'Subject_Car_Colour',\n",
    " 'Subject_Car_Make',\n",
    " 'LGA_Name',\n",
    " 'State']\n",
    "\n",
    "encoder = LabelEncoder()\n",
    "\n",
    "for col in cat_col:\n",
    "    \n",
    "    data[col] = encoder.fit_transform(data[col])"
   ]
  },
  {
   "cell_type": "code",
   "execution_count": 31,
   "metadata": {
    "ExecuteTime": {
     "end_time": "2020-11-28T18:42:02.774130Z",
     "start_time": "2020-11-28T18:42:02.710093Z"
    }
   },
   "outputs": [
    {
     "name": "stdout",
     "output_type": "stream",
     "text": [
      "<class 'pandas.core.frame.DataFrame'>\n",
      "RangeIndex: 17256 entries, 0 to 17255\n",
      "Data columns (total 24 columns):\n",
      "Age                             17256 non-null int64\n",
      "Car_Category                    17256 non-null int32\n",
      "First Transaction Date          17256 non-null object\n",
      "Gender                          17256 non-null int32\n",
      "ID                              17256 non-null int32\n",
      "LGA_Name                        17256 non-null int32\n",
      "No_Pol                          17256 non-null int64\n",
      "Policy End Date                 17256 non-null object\n",
      "Policy Start Date               17256 non-null object\n",
      "State                           17256 non-null int32\n",
      "Subject_Car_Colour              17256 non-null int32\n",
      "Subject_Car_Make                17256 non-null int32\n",
      "target                          12079 non-null float64\n",
      "Cargo                           17256 non-null float64\n",
      "Size                            17256 non-null float64\n",
      "ProductName_CVTP                17256 non-null uint8\n",
      "ProductName_Car Classic         17256 non-null uint8\n",
      "ProductName_Car Plus            17256 non-null uint8\n",
      "ProductName_Car Vintage         17256 non-null uint8\n",
      "ProductName_CarFlex             17256 non-null uint8\n",
      "ProductName_CarSafe             17256 non-null uint8\n",
      "ProductName_Customized Motor    17256 non-null uint8\n",
      "ProductName_Motor Cycle         17256 non-null uint8\n",
      "ProductName_Muuve               17256 non-null uint8\n",
      "dtypes: float64(3), int32(7), int64(2), object(3), uint8(9)\n",
      "memory usage: 1.7+ MB\n"
     ]
    }
   ],
   "source": [
    "data.info()"
   ]
  },
  {
   "cell_type": "code",
   "execution_count": 32,
   "metadata": {
    "ExecuteTime": {
     "end_time": "2020-11-28T18:42:02.870137Z",
     "start_time": "2020-11-28T18:42:02.774130Z"
    }
   },
   "outputs": [],
   "source": [
    "# Convert to datatime features\n",
    "\n",
    "data['Policy Start Date'] = pd.to_datetime(data['Policy Start Date'])\n",
    "data['Policy End Date'] = pd.to_datetime(data['Policy End Date'])"
   ]
  },
  {
   "cell_type": "code",
   "execution_count": 33,
   "metadata": {
    "ExecuteTime": {
     "end_time": "2020-11-28T18:42:02.966093Z",
     "start_time": "2020-11-28T18:42:02.870137Z"
    }
   },
   "outputs": [
    {
     "name": "stdout",
     "output_type": "stream",
     "text": [
      "<class 'pandas.core.frame.DataFrame'>\n",
      "RangeIndex: 17256 entries, 0 to 17255\n",
      "Data columns (total 24 columns):\n",
      "Age                             17256 non-null int64\n",
      "Car_Category                    17256 non-null int32\n",
      "First Transaction Date          17256 non-null object\n",
      "Gender                          17256 non-null int32\n",
      "ID                              17256 non-null int32\n",
      "LGA_Name                        17256 non-null int32\n",
      "No_Pol                          17256 non-null int64\n",
      "Policy End Date                 17256 non-null datetime64[ns]\n",
      "Policy Start Date               17256 non-null datetime64[ns]\n",
      "State                           17256 non-null int32\n",
      "Subject_Car_Colour              17256 non-null int32\n",
      "Subject_Car_Make                17256 non-null int32\n",
      "target                          12079 non-null float64\n",
      "Cargo                           17256 non-null float64\n",
      "Size                            17256 non-null float64\n",
      "ProductName_CVTP                17256 non-null uint8\n",
      "ProductName_Car Classic         17256 non-null uint8\n",
      "ProductName_Car Plus            17256 non-null uint8\n",
      "ProductName_Car Vintage         17256 non-null uint8\n",
      "ProductName_CarFlex             17256 non-null uint8\n",
      "ProductName_CarSafe             17256 non-null uint8\n",
      "ProductName_Customized Motor    17256 non-null uint8\n",
      "ProductName_Motor Cycle         17256 non-null uint8\n",
      "ProductName_Muuve               17256 non-null uint8\n",
      "dtypes: datetime64[ns](2), float64(3), int32(7), int64(2), object(1), uint8(9)\n",
      "memory usage: 1.7+ MB\n"
     ]
    }
   ],
   "source": [
    "data.info()"
   ]
  },
  {
   "cell_type": "markdown",
   "metadata": {},
   "source": [
    "# Feature Engineering"
   ]
  },
  {
   "cell_type": "code",
   "execution_count": 34,
   "metadata": {
    "ExecuteTime": {
     "end_time": "2020-11-28T18:42:03.062155Z",
     "start_time": "2020-11-28T18:42:02.966093Z"
    }
   },
   "outputs": [],
   "source": [
    "# Start\n",
    "data['start day'] = data['Policy Start Date'].dt.day\n",
    "data['start month'] = data['Policy Start Date'].dt.month\n",
    "data['start year'] = data['Policy Start Date'].dt.year\n",
    "\n",
    "# End\n",
    "data['end day'] = data['Policy End Date'].dt.day\n",
    "data['end month'] = data['Policy End Date'].dt.month\n",
    "data['end year'] = data['Policy End Date'].dt.year"
   ]
  },
  {
   "cell_type": "code",
   "execution_count": 35,
   "metadata": {
    "ExecuteTime": {
     "end_time": "2020-11-28T18:42:03.126140Z",
     "start_time": "2020-11-28T18:42:03.062155Z"
    },
    "scrolled": true
   },
   "outputs": [
    {
     "data": {
      "text/plain": [
       "2011    16997\n",
       "2010      250\n",
       "2012        3\n",
       "2041        2\n",
       "2016        2\n",
       "2037        1\n",
       "2034        1\n",
       "Name: end year, dtype: int64"
      ]
     },
     "execution_count": 35,
     "metadata": {},
     "output_type": "execute_result"
    }
   ],
   "source": [
    "data['end year'].value_counts()"
   ]
  },
  {
   "cell_type": "code",
   "execution_count": 36,
   "metadata": {
    "ExecuteTime": {
     "end_time": "2020-11-28T18:42:03.334094Z",
     "start_time": "2020-11-28T18:42:03.126140Z"
    }
   },
   "outputs": [
    {
     "data": {
      "text/plain": [
       "2010    17241\n",
       "2009        7\n",
       "2006        2\n",
       "2003        2\n",
       "2007        1\n",
       "2005        1\n",
       "2002        1\n",
       "2001        1\n",
       "Name: start year, dtype: int64"
      ]
     },
     "execution_count": 36,
     "metadata": {},
     "output_type": "execute_result"
    }
   ],
   "source": [
    "data['start year'].value_counts()"
   ]
  },
  {
   "cell_type": "code",
   "execution_count": 37,
   "metadata": {
    "ExecuteTime": {
     "end_time": "2020-11-28T18:42:03.414089Z",
     "start_time": "2020-11-28T18:42:03.334094Z"
    }
   },
   "outputs": [],
   "source": [
    "# Caution\n",
    "\n",
    "data['day'] = data['end day'] - data['start day']\n",
    "data['month'] = data['end month'] - data['start month']\n",
    "data['year'] = data['end year'] - data['start year']\n",
    "\n",
    "#data.drop(['end day', 'end month', 'end year', 'start day', 'start year', 'start month'], axis=1, inplace=True)"
   ]
  },
  {
   "cell_type": "code",
   "execution_count": 38,
   "metadata": {
    "ExecuteTime": {
     "end_time": "2020-11-28T18:42:03.534134Z",
     "start_time": "2020-11-28T18:42:03.414089Z"
    }
   },
   "outputs": [
    {
     "data": {
      "text/html": [
       "<div>\n",
       "<style scoped>\n",
       "    .dataframe tbody tr th:only-of-type {\n",
       "        vertical-align: middle;\n",
       "    }\n",
       "\n",
       "    .dataframe tbody tr th {\n",
       "        vertical-align: top;\n",
       "    }\n",
       "\n",
       "    .dataframe thead th {\n",
       "        text-align: right;\n",
       "    }\n",
       "</style>\n",
       "<table border=\"1\" class=\"dataframe\">\n",
       "  <thead>\n",
       "    <tr style=\"text-align: right;\">\n",
       "      <th></th>\n",
       "      <th>Age</th>\n",
       "      <th>Car_Category</th>\n",
       "      <th>First Transaction Date</th>\n",
       "      <th>Gender</th>\n",
       "      <th>ID</th>\n",
       "      <th>LGA_Name</th>\n",
       "      <th>No_Pol</th>\n",
       "      <th>Policy End Date</th>\n",
       "      <th>Policy Start Date</th>\n",
       "      <th>State</th>\n",
       "      <th>...</th>\n",
       "      <th>ProductName_Muuve</th>\n",
       "      <th>start day</th>\n",
       "      <th>start month</th>\n",
       "      <th>start year</th>\n",
       "      <th>end day</th>\n",
       "      <th>end month</th>\n",
       "      <th>end year</th>\n",
       "      <th>day</th>\n",
       "      <th>month</th>\n",
       "      <th>year</th>\n",
       "    </tr>\n",
       "  </thead>\n",
       "  <tbody>\n",
       "    <tr>\n",
       "      <th>0</th>\n",
       "      <td>30</td>\n",
       "      <td>8</td>\n",
       "      <td>2010-05-14</td>\n",
       "      <td>3</td>\n",
       "      <td>0</td>\n",
       "      <td>255</td>\n",
       "      <td>0</td>\n",
       "      <td>2011-05-13</td>\n",
       "      <td>2010-05-14</td>\n",
       "      <td>110</td>\n",
       "      <td>...</td>\n",
       "      <td>0</td>\n",
       "      <td>14</td>\n",
       "      <td>5</td>\n",
       "      <td>2010</td>\n",
       "      <td>13</td>\n",
       "      <td>5</td>\n",
       "      <td>2011</td>\n",
       "      <td>-1</td>\n",
       "      <td>0</td>\n",
       "      <td>1</td>\n",
       "    </tr>\n",
       "    <tr>\n",
       "      <th>1</th>\n",
       "      <td>79</td>\n",
       "      <td>2</td>\n",
       "      <td>2010-11-29</td>\n",
       "      <td>1</td>\n",
       "      <td>1</td>\n",
       "      <td>255</td>\n",
       "      <td>0</td>\n",
       "      <td>2011-11-28</td>\n",
       "      <td>2010-11-29</td>\n",
       "      <td>110</td>\n",
       "      <td>...</td>\n",
       "      <td>0</td>\n",
       "      <td>29</td>\n",
       "      <td>11</td>\n",
       "      <td>2010</td>\n",
       "      <td>28</td>\n",
       "      <td>11</td>\n",
       "      <td>2011</td>\n",
       "      <td>-1</td>\n",
       "      <td>0</td>\n",
       "      <td>1</td>\n",
       "    </tr>\n",
       "    <tr>\n",
       "      <th>2</th>\n",
       "      <td>43</td>\n",
       "      <td>8</td>\n",
       "      <td>2010-03-21</td>\n",
       "      <td>3</td>\n",
       "      <td>2</td>\n",
       "      <td>255</td>\n",
       "      <td>0</td>\n",
       "      <td>2011-03-20</td>\n",
       "      <td>2010-03-21</td>\n",
       "      <td>110</td>\n",
       "      <td>...</td>\n",
       "      <td>0</td>\n",
       "      <td>21</td>\n",
       "      <td>3</td>\n",
       "      <td>2010</td>\n",
       "      <td>20</td>\n",
       "      <td>3</td>\n",
       "      <td>2011</td>\n",
       "      <td>-1</td>\n",
       "      <td>0</td>\n",
       "      <td>1</td>\n",
       "    </tr>\n",
       "    <tr>\n",
       "      <th>3</th>\n",
       "      <td>2</td>\n",
       "      <td>14</td>\n",
       "      <td>2010-08-21</td>\n",
       "      <td>3</td>\n",
       "      <td>3</td>\n",
       "      <td>255</td>\n",
       "      <td>0</td>\n",
       "      <td>2011-08-20</td>\n",
       "      <td>2010-08-21</td>\n",
       "      <td>110</td>\n",
       "      <td>...</td>\n",
       "      <td>0</td>\n",
       "      <td>21</td>\n",
       "      <td>8</td>\n",
       "      <td>2010</td>\n",
       "      <td>20</td>\n",
       "      <td>8</td>\n",
       "      <td>2011</td>\n",
       "      <td>-1</td>\n",
       "      <td>0</td>\n",
       "      <td>1</td>\n",
       "    </tr>\n",
       "    <tr>\n",
       "      <th>4</th>\n",
       "      <td>20</td>\n",
       "      <td>14</td>\n",
       "      <td>2010-08-29</td>\n",
       "      <td>0</td>\n",
       "      <td>5</td>\n",
       "      <td>165</td>\n",
       "      <td>2</td>\n",
       "      <td>2010-12-31</td>\n",
       "      <td>2010-08-29</td>\n",
       "      <td>74</td>\n",
       "      <td>...</td>\n",
       "      <td>1</td>\n",
       "      <td>29</td>\n",
       "      <td>8</td>\n",
       "      <td>2010</td>\n",
       "      <td>31</td>\n",
       "      <td>12</td>\n",
       "      <td>2010</td>\n",
       "      <td>2</td>\n",
       "      <td>4</td>\n",
       "      <td>0</td>\n",
       "    </tr>\n",
       "  </tbody>\n",
       "</table>\n",
       "<p>5 rows × 33 columns</p>\n",
       "</div>"
      ],
      "text/plain": [
       "   Age  Car_Category First Transaction Date  Gender  ID  LGA_Name  No_Pol  \\\n",
       "0   30             8             2010-05-14       3   0       255       0   \n",
       "1   79             2             2010-11-29       1   1       255       0   \n",
       "2   43             8             2010-03-21       3   2       255       0   \n",
       "3    2            14             2010-08-21       3   3       255       0   \n",
       "4   20            14             2010-08-29       0   5       165       2   \n",
       "\n",
       "  Policy End Date Policy Start Date  State  ...  ProductName_Muuve  start day  \\\n",
       "0      2011-05-13        2010-05-14    110  ...                  0         14   \n",
       "1      2011-11-28        2010-11-29    110  ...                  0         29   \n",
       "2      2011-03-20        2010-03-21    110  ...                  0         21   \n",
       "3      2011-08-20        2010-08-21    110  ...                  0         21   \n",
       "4      2010-12-31        2010-08-29     74  ...                  1         29   \n",
       "\n",
       "   start month  start year  end day  end month  end year  day  month  year  \n",
       "0            5        2010       13          5      2011   -1      0     1  \n",
       "1           11        2010       28         11      2011   -1      0     1  \n",
       "2            3        2010       20          3      2011   -1      0     1  \n",
       "3            8        2010       20          8      2011   -1      0     1  \n",
       "4            8        2010       31         12      2010    2      4     0  \n",
       "\n",
       "[5 rows x 33 columns]"
      ]
     },
     "execution_count": 38,
     "metadata": {},
     "output_type": "execute_result"
    }
   ],
   "source": [
    "data.head()"
   ]
  },
  {
   "cell_type": "code",
   "execution_count": 39,
   "metadata": {
    "ExecuteTime": {
     "end_time": "2020-11-28T18:42:03.614095Z",
     "start_time": "2020-11-28T18:42:03.534134Z"
    }
   },
   "outputs": [
    {
     "name": "stdout",
     "output_type": "stream",
     "text": [
      "<class 'pandas.core.frame.DataFrame'>\n",
      "RangeIndex: 17256 entries, 0 to 17255\n",
      "Data columns (total 33 columns):\n",
      "Age                             17256 non-null int64\n",
      "Car_Category                    17256 non-null int32\n",
      "First Transaction Date          17256 non-null object\n",
      "Gender                          17256 non-null int32\n",
      "ID                              17256 non-null int32\n",
      "LGA_Name                        17256 non-null int32\n",
      "No_Pol                          17256 non-null int64\n",
      "Policy End Date                 17256 non-null datetime64[ns]\n",
      "Policy Start Date               17256 non-null datetime64[ns]\n",
      "State                           17256 non-null int32\n",
      "Subject_Car_Colour              17256 non-null int32\n",
      "Subject_Car_Make                17256 non-null int32\n",
      "target                          12079 non-null float64\n",
      "Cargo                           17256 non-null float64\n",
      "Size                            17256 non-null float64\n",
      "ProductName_CVTP                17256 non-null uint8\n",
      "ProductName_Car Classic         17256 non-null uint8\n",
      "ProductName_Car Plus            17256 non-null uint8\n",
      "ProductName_Car Vintage         17256 non-null uint8\n",
      "ProductName_CarFlex             17256 non-null uint8\n",
      "ProductName_CarSafe             17256 non-null uint8\n",
      "ProductName_Customized Motor    17256 non-null uint8\n",
      "ProductName_Motor Cycle         17256 non-null uint8\n",
      "ProductName_Muuve               17256 non-null uint8\n",
      "start day                       17256 non-null int64\n",
      "start month                     17256 non-null int64\n",
      "start year                      17256 non-null int64\n",
      "end day                         17256 non-null int64\n",
      "end month                       17256 non-null int64\n",
      "end year                        17256 non-null int64\n",
      "day                             17256 non-null int64\n",
      "month                           17256 non-null int64\n",
      "year                            17256 non-null int64\n",
      "dtypes: datetime64[ns](2), float64(3), int32(7), int64(11), object(1), uint8(9)\n",
      "memory usage: 2.8+ MB\n"
     ]
    }
   ],
   "source": [
    "data.info()"
   ]
  },
  {
   "cell_type": "code",
   "execution_count": 40,
   "metadata": {
    "ExecuteTime": {
     "end_time": "2020-11-28T18:42:03.678096Z",
     "start_time": "2020-11-28T18:42:03.614095Z"
    }
   },
   "outputs": [],
   "source": [
    "data.drop(['First Transaction Date', 'Policy End Date', 'Policy Start Date', 'LGA_Name', 'ID'], axis=1, inplace=True)"
   ]
  },
  {
   "cell_type": "markdown",
   "metadata": {
    "ExecuteTime": {
     "end_time": "2020-11-28T14:55:12.470551Z",
     "start_time": "2020-11-28T14:55:12.448562Z"
    }
   },
   "source": [
    "# Exploratory Data Analysis"
   ]
  },
  {
   "cell_type": "code",
   "execution_count": 41,
   "metadata": {
    "ExecuteTime": {
     "end_time": "2020-11-28T18:42:10.704894Z",
     "start_time": "2020-11-28T18:42:03.678096Z"
    }
   },
   "outputs": [
    {
     "data": {
      "text/plain": [
       "<matplotlib.axes._subplots.AxesSubplot at 0x1aaf73371c8>"
      ]
     },
     "execution_count": 41,
     "metadata": {},
     "output_type": "execute_result"
    },
    {
     "data": {
      "image/png": "[encoded data removed]",
      "text/plain": [
       "<Figure size 1440x1080 with 2 Axes>"
      ]
     },
     "metadata": {
      "needs_background": "light"
     },
     "output_type": "display_data"
    }
   ],
   "source": [
    "plt.figure(figsize=(20,15))\n",
    "\n",
    "sns.heatmap(data.corr(), cmap='coolwarm', annot=True)"
   ]
  },
  {
   "cell_type": "code",
   "execution_count": 42,
   "metadata": {
    "ExecuteTime": {
     "end_time": "2020-11-28T18:42:10.784882Z",
     "start_time": "2020-11-28T18:42:10.704894Z"
    }
   },
   "outputs": [
    {
     "data": {
      "text/html": [
       "<div>\n",
       "<style scoped>\n",
       "    .dataframe tbody tr th:only-of-type {\n",
       "        vertical-align: middle;\n",
       "    }\n",
       "\n",
       "    .dataframe tbody tr th {\n",
       "        vertical-align: top;\n",
       "    }\n",
       "\n",
       "    .dataframe thead th {\n",
       "        text-align: right;\n",
       "    }\n",
       "</style>\n",
       "<table border=\"1\" class=\"dataframe\">\n",
       "  <thead>\n",
       "    <tr style=\"text-align: right;\">\n",
       "      <th></th>\n",
       "      <th>Age</th>\n",
       "      <th>Car_Category</th>\n",
       "      <th>Gender</th>\n",
       "      <th>No_Pol</th>\n",
       "      <th>State</th>\n",
       "      <th>Subject_Car_Colour</th>\n",
       "      <th>Subject_Car_Make</th>\n",
       "      <th>target</th>\n",
       "      <th>Cargo</th>\n",
       "      <th>Size</th>\n",
       "      <th>...</th>\n",
       "      <th>ProductName_Muuve</th>\n",
       "      <th>start day</th>\n",
       "      <th>start month</th>\n",
       "      <th>start year</th>\n",
       "      <th>end day</th>\n",
       "      <th>end month</th>\n",
       "      <th>end year</th>\n",
       "      <th>day</th>\n",
       "      <th>month</th>\n",
       "      <th>year</th>\n",
       "    </tr>\n",
       "  </thead>\n",
       "  <tbody>\n",
       "    <tr>\n",
       "      <th>0</th>\n",
       "      <td>30</td>\n",
       "      <td>8</td>\n",
       "      <td>3</td>\n",
       "      <td>0</td>\n",
       "      <td>110</td>\n",
       "      <td>4</td>\n",
       "      <td>68</td>\n",
       "      <td>0.0</td>\n",
       "      <td>2.0</td>\n",
       "      <td>2.0</td>\n",
       "      <td>...</td>\n",
       "      <td>0</td>\n",
       "      <td>14</td>\n",
       "      <td>5</td>\n",
       "      <td>2010</td>\n",
       "      <td>13</td>\n",
       "      <td>5</td>\n",
       "      <td>2011</td>\n",
       "      <td>-1</td>\n",
       "      <td>0</td>\n",
       "      <td>1</td>\n",
       "    </tr>\n",
       "    <tr>\n",
       "      <th>1</th>\n",
       "      <td>79</td>\n",
       "      <td>2</td>\n",
       "      <td>1</td>\n",
       "      <td>0</td>\n",
       "      <td>110</td>\n",
       "      <td>26</td>\n",
       "      <td>68</td>\n",
       "      <td>1.0</td>\n",
       "      <td>2.0</td>\n",
       "      <td>3.0</td>\n",
       "      <td>...</td>\n",
       "      <td>0</td>\n",
       "      <td>29</td>\n",
       "      <td>11</td>\n",
       "      <td>2010</td>\n",
       "      <td>28</td>\n",
       "      <td>11</td>\n",
       "      <td>2011</td>\n",
       "      <td>-1</td>\n",
       "      <td>0</td>\n",
       "      <td>1</td>\n",
       "    </tr>\n",
       "    <tr>\n",
       "      <th>2</th>\n",
       "      <td>43</td>\n",
       "      <td>8</td>\n",
       "      <td>3</td>\n",
       "      <td>0</td>\n",
       "      <td>110</td>\n",
       "      <td>32</td>\n",
       "      <td>68</td>\n",
       "      <td>0.0</td>\n",
       "      <td>2.0</td>\n",
       "      <td>2.0</td>\n",
       "      <td>...</td>\n",
       "      <td>0</td>\n",
       "      <td>21</td>\n",
       "      <td>3</td>\n",
       "      <td>2010</td>\n",
       "      <td>20</td>\n",
       "      <td>3</td>\n",
       "      <td>2011</td>\n",
       "      <td>-1</td>\n",
       "      <td>0</td>\n",
       "      <td>1</td>\n",
       "    </tr>\n",
       "    <tr>\n",
       "      <th>3</th>\n",
       "      <td>2</td>\n",
       "      <td>14</td>\n",
       "      <td>3</td>\n",
       "      <td>0</td>\n",
       "      <td>110</td>\n",
       "      <td>4</td>\n",
       "      <td>70</td>\n",
       "      <td>0.0</td>\n",
       "      <td>0.0</td>\n",
       "      <td>0.0</td>\n",
       "      <td>...</td>\n",
       "      <td>0</td>\n",
       "      <td>21</td>\n",
       "      <td>8</td>\n",
       "      <td>2010</td>\n",
       "      <td>20</td>\n",
       "      <td>8</td>\n",
       "      <td>2011</td>\n",
       "      <td>-1</td>\n",
       "      <td>0</td>\n",
       "      <td>1</td>\n",
       "    </tr>\n",
       "    <tr>\n",
       "      <th>4</th>\n",
       "      <td>20</td>\n",
       "      <td>14</td>\n",
       "      <td>0</td>\n",
       "      <td>2</td>\n",
       "      <td>74</td>\n",
       "      <td>4</td>\n",
       "      <td>70</td>\n",
       "      <td>1.0</td>\n",
       "      <td>0.0</td>\n",
       "      <td>0.0</td>\n",
       "      <td>...</td>\n",
       "      <td>1</td>\n",
       "      <td>29</td>\n",
       "      <td>8</td>\n",
       "      <td>2010</td>\n",
       "      <td>31</td>\n",
       "      <td>12</td>\n",
       "      <td>2010</td>\n",
       "      <td>2</td>\n",
       "      <td>4</td>\n",
       "      <td>0</td>\n",
       "    </tr>\n",
       "    <tr>\n",
       "      <th>5</th>\n",
       "      <td>37</td>\n",
       "      <td>14</td>\n",
       "      <td>3</td>\n",
       "      <td>1</td>\n",
       "      <td>110</td>\n",
       "      <td>4</td>\n",
       "      <td>70</td>\n",
       "      <td>0.0</td>\n",
       "      <td>0.0</td>\n",
       "      <td>0.0</td>\n",
       "      <td>...</td>\n",
       "      <td>0</td>\n",
       "      <td>21</td>\n",
       "      <td>10</td>\n",
       "      <td>2010</td>\n",
       "      <td>20</td>\n",
       "      <td>10</td>\n",
       "      <td>2011</td>\n",
       "      <td>-1</td>\n",
       "      <td>0</td>\n",
       "      <td>1</td>\n",
       "    </tr>\n",
       "    <tr>\n",
       "      <th>6</th>\n",
       "      <td>40</td>\n",
       "      <td>14</td>\n",
       "      <td>1</td>\n",
       "      <td>2</td>\n",
       "      <td>74</td>\n",
       "      <td>4</td>\n",
       "      <td>70</td>\n",
       "      <td>0.0</td>\n",
       "      <td>0.0</td>\n",
       "      <td>0.0</td>\n",
       "      <td>...</td>\n",
       "      <td>0</td>\n",
       "      <td>2</td>\n",
       "      <td>8</td>\n",
       "      <td>2010</td>\n",
       "      <td>1</td>\n",
       "      <td>8</td>\n",
       "      <td>2011</td>\n",
       "      <td>-1</td>\n",
       "      <td>0</td>\n",
       "      <td>1</td>\n",
       "    </tr>\n",
       "    <tr>\n",
       "      <th>7</th>\n",
       "      <td>43</td>\n",
       "      <td>8</td>\n",
       "      <td>3</td>\n",
       "      <td>0</td>\n",
       "      <td>110</td>\n",
       "      <td>4</td>\n",
       "      <td>68</td>\n",
       "      <td>0.0</td>\n",
       "      <td>2.0</td>\n",
       "      <td>2.0</td>\n",
       "      <td>...</td>\n",
       "      <td>0</td>\n",
       "      <td>12</td>\n",
       "      <td>9</td>\n",
       "      <td>2010</td>\n",
       "      <td>11</td>\n",
       "      <td>9</td>\n",
       "      <td>2011</td>\n",
       "      <td>-1</td>\n",
       "      <td>0</td>\n",
       "      <td>1</td>\n",
       "    </tr>\n",
       "    <tr>\n",
       "      <th>8</th>\n",
       "      <td>71</td>\n",
       "      <td>2</td>\n",
       "      <td>1</td>\n",
       "      <td>1</td>\n",
       "      <td>23</td>\n",
       "      <td>4</td>\n",
       "      <td>58</td>\n",
       "      <td>0.0</td>\n",
       "      <td>2.0</td>\n",
       "      <td>3.0</td>\n",
       "      <td>...</td>\n",
       "      <td>0</td>\n",
       "      <td>6</td>\n",
       "      <td>7</td>\n",
       "      <td>2010</td>\n",
       "      <td>5</td>\n",
       "      <td>7</td>\n",
       "      <td>2011</td>\n",
       "      <td>-1</td>\n",
       "      <td>0</td>\n",
       "      <td>1</td>\n",
       "    </tr>\n",
       "    <tr>\n",
       "      <th>9</th>\n",
       "      <td>58</td>\n",
       "      <td>14</td>\n",
       "      <td>1</td>\n",
       "      <td>0</td>\n",
       "      <td>39</td>\n",
       "      <td>4</td>\n",
       "      <td>70</td>\n",
       "      <td>0.0</td>\n",
       "      <td>0.0</td>\n",
       "      <td>0.0</td>\n",
       "      <td>...</td>\n",
       "      <td>0</td>\n",
       "      <td>18</td>\n",
       "      <td>12</td>\n",
       "      <td>2010</td>\n",
       "      <td>17</td>\n",
       "      <td>12</td>\n",
       "      <td>2011</td>\n",
       "      <td>-1</td>\n",
       "      <td>0</td>\n",
       "      <td>1</td>\n",
       "    </tr>\n",
       "  </tbody>\n",
       "</table>\n",
       "<p>10 rows × 28 columns</p>\n",
       "</div>"
      ],
      "text/plain": [
       "   Age  Car_Category  Gender  No_Pol  State  Subject_Car_Colour  \\\n",
       "0   30             8       3       0    110                   4   \n",
       "1   79             2       1       0    110                  26   \n",
       "2   43             8       3       0    110                  32   \n",
       "3    2            14       3       0    110                   4   \n",
       "4   20            14       0       2     74                   4   \n",
       "5   37            14       3       1    110                   4   \n",
       "6   40            14       1       2     74                   4   \n",
       "7   43             8       3       0    110                   4   \n",
       "8   71             2       1       1     23                   4   \n",
       "9   58            14       1       0     39                   4   \n",
       "\n",
       "   Subject_Car_Make  target  Cargo  Size  ...  ProductName_Muuve  start day  \\\n",
       "0                68     0.0    2.0   2.0  ...                  0         14   \n",
       "1                68     1.0    2.0   3.0  ...                  0         29   \n",
       "2                68     0.0    2.0   2.0  ...                  0         21   \n",
       "3                70     0.0    0.0   0.0  ...                  0         21   \n",
       "4                70     1.0    0.0   0.0  ...                  1         29   \n",
       "5                70     0.0    0.0   0.0  ...                  0         21   \n",
       "6                70     0.0    0.0   0.0  ...                  0          2   \n",
       "7                68     0.0    2.0   2.0  ...                  0         12   \n",
       "8                58     0.0    2.0   3.0  ...                  0          6   \n",
       "9                70     0.0    0.0   0.0  ...                  0         18   \n",
       "\n",
       "   start month  start year  end day  end month  end year  day  month  year  \n",
       "0            5        2010       13          5      2011   -1      0     1  \n",
       "1           11        2010       28         11      2011   -1      0     1  \n",
       "2            3        2010       20          3      2011   -1      0     1  \n",
       "3            8        2010       20          8      2011   -1      0     1  \n",
       "4            8        2010       31         12      2010    2      4     0  \n",
       "5           10        2010       20         10      2011   -1      0     1  \n",
       "6            8        2010        1          8      2011   -1      0     1  \n",
       "7            9        2010       11          9      2011   -1      0     1  \n",
       "8            7        2010        5          7      2011   -1      0     1  \n",
       "9           12        2010       17         12      2011   -1      0     1  \n",
       "\n",
       "[10 rows x 28 columns]"
      ]
     },
     "execution_count": 42,
     "metadata": {},
     "output_type": "execute_result"
    }
   ],
   "source": [
    "data.head(10)"
   ]
  },
  {
   "cell_type": "code",
   "execution_count": 43,
   "metadata": {
    "ExecuteTime": {
     "end_time": "2020-11-28T18:42:10.848995Z",
     "start_time": "2020-11-28T18:42:10.784882Z"
    }
   },
   "outputs": [],
   "source": [
    "train = data.iloc[0:12079, :]\n",
    "test = data.iloc[12079:, :].drop('target', axis=1)"
   ]
  },
  {
   "cell_type": "code",
   "execution_count": 44,
   "metadata": {
    "ExecuteTime": {
     "end_time": "2020-11-28T18:42:10.996424Z",
     "start_time": "2020-11-28T18:42:10.848995Z"
    }
   },
   "outputs": [
    {
     "name": "stdout",
     "output_type": "stream",
     "text": [
      "<class 'pandas.core.frame.DataFrame'>\n",
      "RangeIndex: 12079 entries, 0 to 12078\n",
      "Data columns (total 28 columns):\n",
      "Age                             12079 non-null int64\n",
      "Car_Category                    12079 non-null int32\n",
      "Gender                          12079 non-null int32\n",
      "No_Pol                          12079 non-null int64\n",
      "State                           12079 non-null int32\n",
      "Subject_Car_Colour              12079 non-null int32\n",
      "Subject_Car_Make                12079 non-null int32\n",
      "target                          12079 non-null float64\n",
      "Cargo                           12079 non-null float64\n",
      "Size                            12079 non-null float64\n",
      "ProductName_CVTP                12079 non-null uint8\n",
      "ProductName_Car Classic         12079 non-null uint8\n",
      "ProductName_Car Plus            12079 non-null uint8\n",
      "ProductName_Car Vintage         12079 non-null uint8\n",
      "ProductName_CarFlex             12079 non-null uint8\n",
      "ProductName_CarSafe             12079 non-null uint8\n",
      "ProductName_Customized Motor    12079 non-null uint8\n",
      "ProductName_Motor Cycle         12079 non-null uint8\n",
      "ProductName_Muuve               12079 non-null uint8\n",
      "start day                       12079 non-null int64\n",
      "start month                     12079 non-null int64\n",
      "start year                      12079 non-null int64\n",
      "end day                         12079 non-null int64\n",
      "end month                       12079 non-null int64\n",
      "end year                        12079 non-null int64\n",
      "day                             12079 non-null int64\n",
      "month                           12079 non-null int64\n",
      "year                            12079 non-null int64\n",
      "dtypes: float64(3), int32(5), int64(11), uint8(9)\n",
      "memory usage: 1.6 MB\n"
     ]
    }
   ],
   "source": [
    "train.info()"
   ]
  },
  {
   "cell_type": "code",
   "execution_count": 45,
   "metadata": {
    "ExecuteTime": {
     "end_time": "2020-11-28T18:42:11.062739Z",
     "start_time": "2020-11-28T18:42:11.006735Z"
    }
   },
   "outputs": [
    {
     "name": "stdout",
     "output_type": "stream",
     "text": [
      "<class 'pandas.core.frame.DataFrame'>\n",
      "RangeIndex: 5177 entries, 12079 to 17255\n",
      "Data columns (total 27 columns):\n",
      "Age                             5177 non-null int64\n",
      "Car_Category                    5177 non-null int32\n",
      "Gender                          5177 non-null int32\n",
      "No_Pol                          5177 non-null int64\n",
      "State                           5177 non-null int32\n",
      "Subject_Car_Colour              5177 non-null int32\n",
      "Subject_Car_Make                5177 non-null int32\n",
      "Cargo                           5177 non-null float64\n",
      "Size                            5177 non-null float64\n",
      "ProductName_CVTP                5177 non-null uint8\n",
      "ProductName_Car Classic         5177 non-null uint8\n",
      "ProductName_Car Plus            5177 non-null uint8\n",
      "ProductName_Car Vintage         5177 non-null uint8\n",
      "ProductName_CarFlex             5177 non-null uint8\n",
      "ProductName_CarSafe             5177 non-null uint8\n",
      "ProductName_Customized Motor    5177 non-null uint8\n",
      "ProductName_Motor Cycle         5177 non-null uint8\n",
      "ProductName_Muuve               5177 non-null uint8\n",
      "start day                       5177 non-null int64\n",
      "start month                     5177 non-null int64\n",
      "start year                      5177 non-null int64\n",
      "end day                         5177 non-null int64\n",
      "end month                       5177 non-null int64\n",
      "end year                        5177 non-null int64\n",
      "day                             5177 non-null int64\n",
      "month                           5177 non-null int64\n",
      "year                            5177 non-null int64\n",
      "dtypes: float64(2), int32(5), int64(11), uint8(9)\n",
      "memory usage: 672.5 KB\n"
     ]
    }
   ],
   "source": [
    "test.info()"
   ]
  },
  {
   "cell_type": "code",
   "execution_count": 46,
   "metadata": {
    "ExecuteTime": {
     "end_time": "2020-11-28T18:42:11.142737Z",
     "start_time": "2020-11-28T18:42:11.078773Z"
    }
   },
   "outputs": [],
   "source": [
    "X_train = train.drop(['target'], axis=1)\n",
    "y_train = train['target']"
   ]
  },
  {
   "cell_type": "code",
   "execution_count": 47,
   "metadata": {
    "ExecuteTime": {
     "end_time": "2020-11-28T18:42:11.241357Z",
     "start_time": "2020-11-28T18:42:11.150738Z"
    }
   },
   "outputs": [
    {
     "data": {
      "text/plain": [
       "((12079, 27), (12079,))"
      ]
     },
     "execution_count": 47,
     "metadata": {},
     "output_type": "execute_result"
    }
   ],
   "source": [
    "X_train.shape, y_train.shape"
   ]
  },
  {
   "cell_type": "code",
   "execution_count": 48,
   "metadata": {
    "ExecuteTime": {
     "end_time": "2020-11-28T18:42:11.329348Z",
     "start_time": "2020-11-28T18:42:11.249341Z"
    }
   },
   "outputs": [],
   "source": [
    "from sklearn.preprocessing import StandardScaler, MinMaxScaler"
   ]
  },
  {
   "cell_type": "code",
   "execution_count": 49,
   "metadata": {
    "ExecuteTime": {
     "end_time": "2020-11-28T18:42:11.413529Z",
     "start_time": "2020-11-28T18:42:11.342462Z"
    }
   },
   "outputs": [],
   "source": [
    "#X_train = StandardScaler().fit_transform(X_train)\n",
    "#test = StandardScaler().fit_transform(test)"
   ]
  },
  {
   "cell_type": "markdown",
   "metadata": {},
   "source": [
    "# Models"
   ]
  },
  {
   "cell_type": "code",
   "execution_count": 50,
   "metadata": {
    "ExecuteTime": {
     "end_time": "2020-11-28T18:42:11.877549Z",
     "start_time": "2020-11-28T18:42:11.421532Z"
    }
   },
   "outputs": [],
   "source": [
    "from catboost import CatBoostClassifier\n",
    "from xgboost import XGBClassifier\n",
    "from sklearn.ensemble import RandomForestClassifier\n",
    "from sklearn.linear_model import LogisticRegression\n",
    "from lightgbm import LGBMClassifier"
   ]
  },
  {
   "cell_type": "code",
   "execution_count": 51,
   "metadata": {
    "ExecuteTime": {
     "end_time": "2020-11-28T18:42:11.901520Z",
     "start_time": "2020-11-28T18:42:11.877549Z"
    }
   },
   "outputs": [
    {
     "data": {
      "text/plain": [
       "'from sklearn.model_selection import StratifiedShuffleSplit\\n\\nss = StratifiedShuffleSplit(n_splits=1, test_size=0.2, random_state=10)\\n\\nfor train_index, test_index in ss.split(X_train, y_train):\\n    X_train, X_test = X_train.iloc[train_index], X_train.iloc[test_index]\\n    y_train, y_test = y_train.iloc[train_index], y_train.iloc[test_index]'"
      ]
     },
     "execution_count": 51,
     "metadata": {},
     "output_type": "execute_result"
    }
   ],
   "source": [
    "'''from sklearn.model_selection import StratifiedShuffleSplit\n",
    "\n",
    "ss = StratifiedShuffleSplit(n_splits=1, test_size=0.2, random_state=10)\n",
    "\n",
    "for train_index, test_index in ss.split(X_train, y_train):\n",
    "    X_train, X_test = X_train.iloc[train_index], X_train.iloc[test_index]\n",
    "    y_train, y_test = y_train.iloc[train_index], y_train.iloc[test_index]'''"
   ]
  },
  {
   "cell_type": "code",
   "execution_count": 52,
   "metadata": {
    "ExecuteTime": {
     "end_time": "2020-11-28T18:42:14.092254Z",
     "start_time": "2020-11-28T18:42:11.901520Z"
    }
   },
   "outputs": [],
   "source": [
    "model = RandomForestClassifier(random_state=10)\n",
    "model.fit(X_train, y_train)\n",
    "\n",
    "\n",
    "pred = model.predict(test)"
   ]
  },
  {
   "cell_type": "code",
   "execution_count": 53,
   "metadata": {
    "ExecuteTime": {
     "end_time": "2020-11-28T18:42:14.108256Z",
     "start_time": "2020-11-28T18:42:14.092254Z"
    }
   },
   "outputs": [],
   "source": [
    "from sklearn.metrics import f1_score"
   ]
  },
  {
   "cell_type": "code",
   "execution_count": 54,
   "metadata": {
    "ExecuteTime": {
     "end_time": "2020-11-28T18:42:14.220251Z",
     "start_time": "2020-11-28T18:42:14.108256Z"
    }
   },
   "outputs": [
    {
     "data": {
      "text/html": [
       "<div>\n",
       "<style scoped>\n",
       "    .dataframe tbody tr th:only-of-type {\n",
       "        vertical-align: middle;\n",
       "    }\n",
       "\n",
       "    .dataframe tbody tr th {\n",
       "        vertical-align: top;\n",
       "    }\n",
       "\n",
       "    .dataframe thead th {\n",
       "        text-align: right;\n",
       "    }\n",
       "</style>\n",
       "<table border=\"1\" class=\"dataframe\">\n",
       "  <thead>\n",
       "    <tr style=\"text-align: right;\">\n",
       "      <th></th>\n",
       "      <th>ID</th>\n",
       "      <th>target</th>\n",
       "    </tr>\n",
       "  </thead>\n",
       "  <tbody>\n",
       "    <tr>\n",
       "      <th>0</th>\n",
       "      <td>009D84L</td>\n",
       "      <td>0</td>\n",
       "    </tr>\n",
       "    <tr>\n",
       "      <th>1</th>\n",
       "      <td>01DO2EQ</td>\n",
       "      <td>0</td>\n",
       "    </tr>\n",
       "    <tr>\n",
       "      <th>2</th>\n",
       "      <td>01QM0NU</td>\n",
       "      <td>0</td>\n",
       "    </tr>\n",
       "    <tr>\n",
       "      <th>3</th>\n",
       "      <td>024NJLZ</td>\n",
       "      <td>0</td>\n",
       "    </tr>\n",
       "    <tr>\n",
       "      <th>4</th>\n",
       "      <td>02BYET3</td>\n",
       "      <td>0</td>\n",
       "    </tr>\n",
       "  </tbody>\n",
       "</table>\n",
       "</div>"
      ],
      "text/plain": [
       "        ID  target\n",
       "0  009D84L       0\n",
       "1  01DO2EQ       0\n",
       "2  01QM0NU       0\n",
       "3  024NJLZ       0\n",
       "4  02BYET3       0"
      ]
     },
     "execution_count": 54,
     "metadata": {},
     "output_type": "execute_result"
    }
   ],
   "source": [
    "submit.head()"
   ]
  },
  {
   "cell_type": "code",
   "execution_count": 55,
   "metadata": {
    "ExecuteTime": {
     "end_time": "2020-11-28T18:42:14.293802Z",
     "start_time": "2020-11-28T18:42:14.220251Z"
    }
   },
   "outputs": [],
   "source": [
    "submit.target = pred"
   ]
  },
  {
   "cell_type": "code",
   "execution_count": 56,
   "metadata": {
    "ExecuteTime": {
     "end_time": "2020-11-28T18:42:14.421541Z",
     "start_time": "2020-11-28T18:42:14.293802Z"
    }
   },
   "outputs": [
    {
     "data": {
      "text/html": [
       "<div>\n",
       "<style scoped>\n",
       "    .dataframe tbody tr th:only-of-type {\n",
       "        vertical-align: middle;\n",
       "    }\n",
       "\n",
       "    .dataframe tbody tr th {\n",
       "        vertical-align: top;\n",
       "    }\n",
       "\n",
       "    .dataframe thead th {\n",
       "        text-align: right;\n",
       "    }\n",
       "</style>\n",
       "<table border=\"1\" class=\"dataframe\">\n",
       "  <thead>\n",
       "    <tr style=\"text-align: right;\">\n",
       "      <th></th>\n",
       "      <th>ID</th>\n",
       "      <th>target</th>\n",
       "    </tr>\n",
       "  </thead>\n",
       "  <tbody>\n",
       "    <tr>\n",
       "      <th>0</th>\n",
       "      <td>009D84L</td>\n",
       "      <td>1.0</td>\n",
       "    </tr>\n",
       "    <tr>\n",
       "      <th>1</th>\n",
       "      <td>01DO2EQ</td>\n",
       "      <td>0.0</td>\n",
       "    </tr>\n",
       "    <tr>\n",
       "      <th>2</th>\n",
       "      <td>01QM0NU</td>\n",
       "      <td>0.0</td>\n",
       "    </tr>\n",
       "    <tr>\n",
       "      <th>3</th>\n",
       "      <td>024NJLZ</td>\n",
       "      <td>0.0</td>\n",
       "    </tr>\n",
       "    <tr>\n",
       "      <th>4</th>\n",
       "      <td>02BYET3</td>\n",
       "      <td>1.0</td>\n",
       "    </tr>\n",
       "  </tbody>\n",
       "</table>\n",
       "</div>"
      ],
      "text/plain": [
       "        ID  target\n",
       "0  009D84L     1.0\n",
       "1  01DO2EQ     0.0\n",
       "2  01QM0NU     0.0\n",
       "3  024NJLZ     0.0\n",
       "4  02BYET3     1.0"
      ]
     },
     "execution_count": 56,
     "metadata": {},
     "output_type": "execute_result"
    }
   ],
   "source": [
    "submit.head()"
   ]
  },
  {
   "cell_type": "code",
   "execution_count": 57,
   "metadata": {
    "ExecuteTime": {
     "end_time": "2020-11-28T18:42:14.501549Z",
     "start_time": "2020-11-28T18:42:14.429555Z"
    }
   },
   "outputs": [],
   "source": [
    "ss = submit.copy()"
   ]
  },
  {
   "cell_type": "code",
   "execution_count": 58,
   "metadata": {
    "ExecuteTime": {
     "end_time": "2020-11-28T18:42:14.613528Z",
     "start_time": "2020-11-28T18:42:14.509536Z"
    }
   },
   "outputs": [],
   "source": [
    "ss.to_csv('5th submission.csv', index=False)"
   ]
  },
  {
   "cell_type": "code",
   "execution_count": null,
   "metadata": {},
   "outputs": [],
   "source": []
  }
 ],
 "metadata": {
  "kernelspec": {
   "display_name": "Python [conda env:tf_gpu]",
   "language": "python",
   "name": "conda-env-tf_gpu-py"
  },
  "language_info": {
   "codemirror_mode": {
    "name": "ipython",
    "version": 3
   },
   "file_extension": ".py",
   "mimetype": "text/x-python",
   "name": "python",
   "nbconvert_exporter": "python",
   "pygments_lexer": "ipython3",
   "version": "3.7.8"
  },
  "toc": {
   "base_numbering": 1,
   "nav_menu": {},
   "number_sections": true,
   "sideBar": true,
   "skip_h1_title": false,
   "title_cell": "Table of Contents",
   "title_sidebar": "Contents",
   "toc_cell": false,
   "toc_position": {},
   "toc_section_display": true,
   "toc_window_display": false
  },
  "varInspector": {
   "cols": {
    "lenName": 16,
    "lenType": 16,
    "lenVar": 40
   },
   "kernels_config": {
    "python": {
     "delete_cmd_postfix": "",
     "delete_cmd_prefix": "del ",
     "library": "var_list.py",
     "varRefreshCmd": "print(var_dic_list())"
    },
    "r": {
     "delete_cmd_postfix": ") ",
     "delete_cmd_prefix": "rm(",
     "library": "var_list.r",
     "varRefreshCmd": "cat(var_dic_list()) "
    }
   },
   "types_to_exclude": [
    "module",
    "function",
    "builtin_function_or_method",
    "instance",
    "_Feature"
   ],
   "window_display": false
  }
 },
 "nbformat": 4,
 "nbformat_minor": 4
}
