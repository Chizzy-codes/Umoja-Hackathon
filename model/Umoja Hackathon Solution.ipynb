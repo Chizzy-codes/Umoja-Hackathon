{
 "cells": [
  {
   "cell_type": "markdown",
   "metadata": {},
   "source": [
    "# Importing the needed libraries"
   ]
  },
  {
   "cell_type": "code",
   "execution_count": 1,
   "metadata": {
    "ExecuteTime": {
     "end_time": "2020-12-08T19:28:33.615460Z",
     "start_time": "2020-12-08T19:27:57.998164Z"
    }
   },
   "outputs": [],
   "source": [
    "import pandas as pd\n",
    "import numpy as np\n",
    "import seaborn as sns\n",
    "import matplotlib.pyplot as plt\n",
    "\n",
    "%matplotlib inline\n",
    "sns.set()"
   ]
  },
  {
   "cell_type": "markdown",
   "metadata": {},
   "source": [
    "# Importing the data"
   ]
  },
  {
   "cell_type": "code",
   "execution_count": 2,
   "metadata": {
    "ExecuteTime": {
     "end_time": "2020-12-08T19:28:34.621423Z",
     "start_time": "2020-12-08T19:28:33.615460Z"
    }
   },
   "outputs": [],
   "source": [
    "train = pd.read_csv('../data/Train.csv')\n",
    "test = pd.read_csv('../data/Test.csv')\n",
    "submit = pd.read_csv('../data/SampleSubmission.csv')\n",
    "variable = pd.read_csv('../data/VariableDefinitions.csv')"
   ]
  },
  {
   "cell_type": "code",
   "execution_count": 3,
   "metadata": {
    "ExecuteTime": {
     "end_time": "2020-12-08T19:28:34.699989Z",
     "start_time": "2020-12-08T19:28:34.621423Z"
    },
    "scrolled": true
   },
   "outputs": [
    {
     "name": "stdout",
     "output_type": "stream",
     "text": [
      "<class 'pandas.core.frame.DataFrame'>\n",
      "RangeIndex: 12079 entries, 0 to 12078\n",
      "Data columns (total 14 columns):\n",
      "ID                        12079 non-null object\n",
      "Policy Start Date         12079 non-null object\n",
      "Policy End Date           12079 non-null object\n",
      "Gender                    11720 non-null object\n",
      "Age                       12079 non-null int64\n",
      "First Transaction Date    12079 non-null object\n",
      "No_Pol                    12079 non-null int64\n",
      "Car_Category              8341 non-null object\n",
      "Subject_Car_Colour        5117 non-null object\n",
      "Subject_Car_Make          9603 non-null object\n",
      "LGA_Name                  5603 non-null object\n",
      "State                     5591 non-null object\n",
      "ProductName               12079 non-null object\n",
      "target                    12079 non-null int64\n",
      "dtypes: int64(3), object(11)\n",
      "memory usage: 1.3+ MB\n"
     ]
    }
   ],
   "source": [
    "train.info()"
   ]
  },
  {
   "cell_type": "code",
   "execution_count": 4,
   "metadata": {
    "ExecuteTime": {
     "end_time": "2020-12-08T19:28:34.891554Z",
     "start_time": "2020-12-08T19:28:34.702931Z"
    },
    "scrolled": true
   },
   "outputs": [
    {
     "name": "stdout",
     "output_type": "stream",
     "text": [
      "<class 'pandas.core.frame.DataFrame'>\n",
      "RangeIndex: 5177 entries, 0 to 5176\n",
      "Data columns (total 13 columns):\n",
      "ID                        5177 non-null object\n",
      "Policy Start Date         5177 non-null object\n",
      "Policy End Date           5177 non-null object\n",
      "Gender                    5021 non-null object\n",
      "Age                       5177 non-null int64\n",
      "First Transaction Date    5177 non-null object\n",
      "No_Pol                    5177 non-null int64\n",
      "Car_Category              3539 non-null object\n",
      "Subject_Car_Colour        2172 non-null object\n",
      "Subject_Car_Make          4116 non-null object\n",
      "LGA_Name                  2395 non-null object\n",
      "State                     2389 non-null object\n",
      "ProductName               5177 non-null object\n",
      "dtypes: int64(2), object(11)\n",
      "memory usage: 525.9+ KB\n"
     ]
    }
   ],
   "source": [
    "test.info()"
   ]
  },
  {
   "cell_type": "code",
   "execution_count": 5,
   "metadata": {
    "ExecuteTime": {
     "end_time": "2020-12-08T19:28:35.160040Z",
     "start_time": "2020-12-08T19:28:34.893557Z"
    }
   },
   "outputs": [
    {
     "data": {
      "text/html": [
       "<div>\n",
       "<style scoped>\n",
       "    .dataframe tbody tr th:only-of-type {\n",
       "        vertical-align: middle;\n",
       "    }\n",
       "\n",
       "    .dataframe tbody tr th {\n",
       "        vertical-align: top;\n",
       "    }\n",
       "\n",
       "    .dataframe thead th {\n",
       "        text-align: right;\n",
       "    }\n",
       "</style>\n",
       "<table border=\"1\" class=\"dataframe\">\n",
       "  <thead>\n",
       "    <tr style=\"text-align: right;\">\n",
       "      <th></th>\n",
       "      <th>ID</th>\n",
       "      <th>Policy Start Date</th>\n",
       "      <th>Policy End Date</th>\n",
       "      <th>Gender</th>\n",
       "      <th>Age</th>\n",
       "      <th>First Transaction Date</th>\n",
       "      <th>No_Pol</th>\n",
       "      <th>Car_Category</th>\n",
       "      <th>Subject_Car_Colour</th>\n",
       "      <th>Subject_Car_Make</th>\n",
       "      <th>LGA_Name</th>\n",
       "      <th>State</th>\n",
       "      <th>ProductName</th>\n",
       "      <th>target</th>\n",
       "    </tr>\n",
       "  </thead>\n",
       "  <tbody>\n",
       "    <tr>\n",
       "      <th>0</th>\n",
       "      <td>0040R73</td>\n",
       "      <td>2010-05-14</td>\n",
       "      <td>2011-05-13</td>\n",
       "      <td>Male</td>\n",
       "      <td>30</td>\n",
       "      <td>2010-05-14</td>\n",
       "      <td>1</td>\n",
       "      <td>Saloon</td>\n",
       "      <td>Black</td>\n",
       "      <td>TOYOTA</td>\n",
       "      <td>NaN</td>\n",
       "      <td>NaN</td>\n",
       "      <td>Car Classic</td>\n",
       "      <td>0</td>\n",
       "    </tr>\n",
       "    <tr>\n",
       "      <th>1</th>\n",
       "      <td>0046BNK</td>\n",
       "      <td>2010-11-29</td>\n",
       "      <td>2011-11-28</td>\n",
       "      <td>Female</td>\n",
       "      <td>79</td>\n",
       "      <td>2010-11-29</td>\n",
       "      <td>1</td>\n",
       "      <td>JEEP</td>\n",
       "      <td>Grey</td>\n",
       "      <td>TOYOTA</td>\n",
       "      <td>NaN</td>\n",
       "      <td>NaN</td>\n",
       "      <td>Car Classic</td>\n",
       "      <td>1</td>\n",
       "    </tr>\n",
       "    <tr>\n",
       "      <th>2</th>\n",
       "      <td>005QMC3</td>\n",
       "      <td>2010-03-21</td>\n",
       "      <td>2011-03-20</td>\n",
       "      <td>Male</td>\n",
       "      <td>43</td>\n",
       "      <td>2010-03-21</td>\n",
       "      <td>1</td>\n",
       "      <td>Saloon</td>\n",
       "      <td>Red</td>\n",
       "      <td>TOYOTA</td>\n",
       "      <td>NaN</td>\n",
       "      <td>NaN</td>\n",
       "      <td>Car Classic</td>\n",
       "      <td>0</td>\n",
       "    </tr>\n",
       "    <tr>\n",
       "      <th>3</th>\n",
       "      <td>0079OHW</td>\n",
       "      <td>2010-08-21</td>\n",
       "      <td>2011-08-20</td>\n",
       "      <td>Male</td>\n",
       "      <td>2</td>\n",
       "      <td>2010-08-21</td>\n",
       "      <td>1</td>\n",
       "      <td>NaN</td>\n",
       "      <td>NaN</td>\n",
       "      <td>NaN</td>\n",
       "      <td>NaN</td>\n",
       "      <td>NaN</td>\n",
       "      <td>CarSafe</td>\n",
       "      <td>0</td>\n",
       "    </tr>\n",
       "    <tr>\n",
       "      <th>4</th>\n",
       "      <td>00BRP63</td>\n",
       "      <td>2010-08-29</td>\n",
       "      <td>2010-12-31</td>\n",
       "      <td>Entity</td>\n",
       "      <td>20</td>\n",
       "      <td>2010-08-29</td>\n",
       "      <td>3</td>\n",
       "      <td>NaN</td>\n",
       "      <td>NaN</td>\n",
       "      <td>NaN</td>\n",
       "      <td>Lagos</td>\n",
       "      <td>Lagos</td>\n",
       "      <td>Muuve</td>\n",
       "      <td>1</td>\n",
       "    </tr>\n",
       "  </tbody>\n",
       "</table>\n",
       "</div>"
      ],
      "text/plain": [
       "        ID Policy Start Date Policy End Date  Gender  Age  \\\n",
       "0  0040R73        2010-05-14      2011-05-13    Male   30   \n",
       "1  0046BNK        2010-11-29      2011-11-28  Female   79   \n",
       "2  005QMC3        2010-03-21      2011-03-20    Male   43   \n",
       "3  0079OHW        2010-08-21      2011-08-20    Male    2   \n",
       "4  00BRP63        2010-08-29      2010-12-31  Entity   20   \n",
       "\n",
       "  First Transaction Date  No_Pol Car_Category Subject_Car_Colour  \\\n",
       "0             2010-05-14       1       Saloon              Black   \n",
       "1             2010-11-29       1         JEEP               Grey   \n",
       "2             2010-03-21       1       Saloon                Red   \n",
       "3             2010-08-21       1          NaN                NaN   \n",
       "4             2010-08-29       3          NaN                NaN   \n",
       "\n",
       "  Subject_Car_Make LGA_Name  State  ProductName  target  \n",
       "0           TOYOTA      NaN    NaN  Car Classic       0  \n",
       "1           TOYOTA      NaN    NaN  Car Classic       1  \n",
       "2           TOYOTA      NaN    NaN  Car Classic       0  \n",
       "3              NaN      NaN    NaN      CarSafe       0  \n",
       "4              NaN    Lagos  Lagos        Muuve       1  "
      ]
     },
     "execution_count": 5,
     "metadata": {},
     "output_type": "execute_result"
    }
   ],
   "source": [
    "train.head()"
   ]
  },
  {
   "cell_type": "code",
   "execution_count": 6,
   "metadata": {
    "ExecuteTime": {
     "end_time": "2020-12-08T19:28:35.317812Z",
     "start_time": "2020-12-08T19:28:35.164041Z"
    }
   },
   "outputs": [
    {
     "data": {
      "text/plain": [
       "0    10624\n",
       "1     1455\n",
       "Name: target, dtype: int64"
      ]
     },
     "execution_count": 6,
     "metadata": {},
     "output_type": "execute_result"
    }
   ],
   "source": [
    "train['target'].value_counts()"
   ]
  },
  {
   "cell_type": "code",
   "execution_count": 7,
   "metadata": {
    "ExecuteTime": {
     "end_time": "2020-12-08T19:28:35.540534Z",
     "start_time": "2020-12-08T19:28:35.322772Z"
    }
   },
   "outputs": [
    {
     "data": {
      "text/html": [
       "<div>\n",
       "<style scoped>\n",
       "    .dataframe tbody tr th:only-of-type {\n",
       "        vertical-align: middle;\n",
       "    }\n",
       "\n",
       "    .dataframe tbody tr th {\n",
       "        vertical-align: top;\n",
       "    }\n",
       "\n",
       "    .dataframe thead th {\n",
       "        text-align: right;\n",
       "    }\n",
       "</style>\n",
       "<table border=\"1\" class=\"dataframe\">\n",
       "  <thead>\n",
       "    <tr style=\"text-align: right;\">\n",
       "      <th></th>\n",
       "      <th>ID</th>\n",
       "      <th>target</th>\n",
       "    </tr>\n",
       "  </thead>\n",
       "  <tbody>\n",
       "    <tr>\n",
       "      <th>0</th>\n",
       "      <td>009D84L</td>\n",
       "      <td>0</td>\n",
       "    </tr>\n",
       "    <tr>\n",
       "      <th>1</th>\n",
       "      <td>01DO2EQ</td>\n",
       "      <td>0</td>\n",
       "    </tr>\n",
       "    <tr>\n",
       "      <th>2</th>\n",
       "      <td>01QM0NU</td>\n",
       "      <td>0</td>\n",
       "    </tr>\n",
       "    <tr>\n",
       "      <th>3</th>\n",
       "      <td>024NJLZ</td>\n",
       "      <td>0</td>\n",
       "    </tr>\n",
       "    <tr>\n",
       "      <th>4</th>\n",
       "      <td>02BYET3</td>\n",
       "      <td>0</td>\n",
       "    </tr>\n",
       "  </tbody>\n",
       "</table>\n",
       "</div>"
      ],
      "text/plain": [
       "        ID  target\n",
       "0  009D84L       0\n",
       "1  01DO2EQ       0\n",
       "2  01QM0NU       0\n",
       "3  024NJLZ       0\n",
       "4  02BYET3       0"
      ]
     },
     "execution_count": 7,
     "metadata": {},
     "output_type": "execute_result"
    }
   ],
   "source": [
    "submit.head()"
   ]
  },
  {
   "cell_type": "code",
   "execution_count": 8,
   "metadata": {
    "ExecuteTime": {
     "end_time": "2020-12-08T19:28:35.728928Z",
     "start_time": "2020-12-08T19:28:35.556527Z"
    }
   },
   "outputs": [
    {
     "data": {
      "text/html": [
       "<div>\n",
       "<style scoped>\n",
       "    .dataframe tbody tr th:only-of-type {\n",
       "        vertical-align: middle;\n",
       "    }\n",
       "\n",
       "    .dataframe tbody tr th {\n",
       "        vertical-align: top;\n",
       "    }\n",
       "\n",
       "    .dataframe thead th {\n",
       "        text-align: right;\n",
       "    }\n",
       "</style>\n",
       "<table border=\"1\" class=\"dataframe\">\n",
       "  <thead>\n",
       "    <tr style=\"text-align: right;\">\n",
       "      <th></th>\n",
       "      <th>ID</th>\n",
       "      <th>Unique ID for the customer</th>\n",
       "    </tr>\n",
       "  </thead>\n",
       "  <tbody>\n",
       "    <tr>\n",
       "      <th>0</th>\n",
       "      <td>Policy Start Date</td>\n",
       "      <td>Date policy started</td>\n",
       "    </tr>\n",
       "    <tr>\n",
       "      <th>1</th>\n",
       "      <td>Policy End Date</td>\n",
       "      <td>Date policy ended</td>\n",
       "    </tr>\n",
       "    <tr>\n",
       "      <th>2</th>\n",
       "      <td>Gender</td>\n",
       "      <td>Gender of the customer</td>\n",
       "    </tr>\n",
       "    <tr>\n",
       "      <th>3</th>\n",
       "      <td>Age</td>\n",
       "      <td>Age of the customer</td>\n",
       "    </tr>\n",
       "    <tr>\n",
       "      <th>4</th>\n",
       "      <td>ProductName</td>\n",
       "      <td>Name of Insurance policy</td>\n",
       "    </tr>\n",
       "    <tr>\n",
       "      <th>5</th>\n",
       "      <td>First Transaction Date</td>\n",
       "      <td>First date payment was made</td>\n",
       "    </tr>\n",
       "    <tr>\n",
       "      <th>6</th>\n",
       "      <td>No_Pol</td>\n",
       "      <td>Number of policies the customer has</td>\n",
       "    </tr>\n",
       "    <tr>\n",
       "      <th>7</th>\n",
       "      <td>Car_Category</td>\n",
       "      <td>Type of car</td>\n",
       "    </tr>\n",
       "    <tr>\n",
       "      <th>8</th>\n",
       "      <td>Subject_Car_Colour</td>\n",
       "      <td>Car colour</td>\n",
       "    </tr>\n",
       "    <tr>\n",
       "      <th>9</th>\n",
       "      <td>Subject_Car_Make</td>\n",
       "      <td>Car make</td>\n",
       "    </tr>\n",
       "    <tr>\n",
       "      <th>10</th>\n",
       "      <td>LGA_Name</td>\n",
       "      <td>City where policy was purchased</td>\n",
       "    </tr>\n",
       "    <tr>\n",
       "      <th>11</th>\n",
       "      <td>State</td>\n",
       "      <td>State where policy was purchased</td>\n",
       "    </tr>\n",
       "    <tr>\n",
       "      <th>12</th>\n",
       "      <td>No_of_claims_3_mon_period</td>\n",
       "      <td>Wether the customer claimed within a 3 month p...</td>\n",
       "    </tr>\n",
       "  </tbody>\n",
       "</table>\n",
       "</div>"
      ],
      "text/plain": [
       "                           ID  \\\n",
       "0           Policy Start Date   \n",
       "1             Policy End Date   \n",
       "2                      Gender   \n",
       "3                         Age   \n",
       "4                 ProductName   \n",
       "5      First Transaction Date   \n",
       "6                      No_Pol   \n",
       "7                Car_Category   \n",
       "8          Subject_Car_Colour   \n",
       "9            Subject_Car_Make   \n",
       "10                   LGA_Name   \n",
       "11                      State   \n",
       "12  No_of_claims_3_mon_period   \n",
       "\n",
       "                           Unique ID for the customer  \n",
       "0                                 Date policy started  \n",
       "1                                   Date policy ended  \n",
       "2                              Gender of the customer  \n",
       "3                                 Age of the customer  \n",
       "4                            Name of Insurance policy  \n",
       "5                         First date payment was made  \n",
       "6                 Number of policies the customer has  \n",
       "7                                         Type of car  \n",
       "8                                          Car colour  \n",
       "9                                            Car make  \n",
       "10                    City where policy was purchased  \n",
       "11                   State where policy was purchased  \n",
       "12  Wether the customer claimed within a 3 month p...  "
      ]
     },
     "execution_count": 8,
     "metadata": {},
     "output_type": "execute_result"
    }
   ],
   "source": [
    "variable"
   ]
  },
  {
   "cell_type": "markdown",
   "metadata": {
    "ExecuteTime": {
     "end_time": "2020-11-28T09:54:16.820080Z",
     "start_time": "2020-11-28T09:54:16.796098Z"
    }
   },
   "source": [
    "## Combining the test and train data"
   ]
  },
  {
   "cell_type": "code",
   "execution_count": 9,
   "metadata": {
    "ExecuteTime": {
     "end_time": "2020-12-08T19:28:35.951720Z",
     "start_time": "2020-12-08T19:28:35.733932Z"
    }
   },
   "outputs": [
    {
     "name": "stderr",
     "output_type": "stream",
     "text": [
      "C:\\Users\\Chizurum_Olorondu\\anaconda3\\envs\\tf_gpu\\lib\\site-packages\\ipykernel_launcher.py:1: FutureWarning: Sorting because non-concatenation axis is not aligned. A future version\n",
      "of pandas will change to not sort by default.\n",
      "\n",
      "To accept the future behavior, pass 'sort=False'.\n",
      "\n",
      "To retain the current behavior and silence the warning, pass 'sort=True'.\n",
      "\n",
      "  \"\"\"Entry point for launching an IPython kernel.\n"
     ]
    }
   ],
   "source": [
    "data = pd.concat([train, test], axis=0).reset_index(drop=True)"
   ]
  },
  {
   "cell_type": "code",
   "execution_count": 10,
   "metadata": {
    "ExecuteTime": {
     "end_time": "2020-12-08T19:28:36.173146Z",
     "start_time": "2020-12-08T19:28:35.954689Z"
    },
    "scrolled": false
   },
   "outputs": [
    {
     "name": "stdout",
     "output_type": "stream",
     "text": [
      "<class 'pandas.core.frame.DataFrame'>\n",
      "RangeIndex: 17256 entries, 0 to 17255\n",
      "Data columns (total 14 columns):\n",
      "Age                       17256 non-null int64\n",
      "Car_Category              11880 non-null object\n",
      "First Transaction Date    17256 non-null object\n",
      "Gender                    16741 non-null object\n",
      "ID                        17256 non-null object\n",
      "LGA_Name                  7998 non-null object\n",
      "No_Pol                    17256 non-null int64\n",
      "Policy End Date           17256 non-null object\n",
      "Policy Start Date         17256 non-null object\n",
      "ProductName               17256 non-null object\n",
      "State                     7980 non-null object\n",
      "Subject_Car_Colour        7289 non-null object\n",
      "Subject_Car_Make          13719 non-null object\n",
      "target                    12079 non-null float64\n",
      "dtypes: float64(1), int64(2), object(11)\n",
      "memory usage: 1.8+ MB\n"
     ]
    }
   ],
   "source": [
    "data.info()"
   ]
  },
  {
   "cell_type": "code",
   "execution_count": 11,
   "metadata": {
    "ExecuteTime": {
     "end_time": "2020-12-08T19:28:36.379905Z",
     "start_time": "2020-12-08T19:28:36.175900Z"
    },
    "scrolled": false
   },
   "outputs": [
    {
     "data": {
      "text/html": [
       "<div>\n",
       "<style scoped>\n",
       "    .dataframe tbody tr th:only-of-type {\n",
       "        vertical-align: middle;\n",
       "    }\n",
       "\n",
       "    .dataframe tbody tr th {\n",
       "        vertical-align: top;\n",
       "    }\n",
       "\n",
       "    .dataframe thead th {\n",
       "        text-align: right;\n",
       "    }\n",
       "</style>\n",
       "<table border=\"1\" class=\"dataframe\">\n",
       "  <thead>\n",
       "    <tr style=\"text-align: right;\">\n",
       "      <th></th>\n",
       "      <th>Age</th>\n",
       "      <th>Car_Category</th>\n",
       "      <th>First Transaction Date</th>\n",
       "      <th>Gender</th>\n",
       "      <th>ID</th>\n",
       "      <th>LGA_Name</th>\n",
       "      <th>No_Pol</th>\n",
       "      <th>Policy End Date</th>\n",
       "      <th>Policy Start Date</th>\n",
       "      <th>ProductName</th>\n",
       "      <th>State</th>\n",
       "      <th>Subject_Car_Colour</th>\n",
       "      <th>Subject_Car_Make</th>\n",
       "      <th>target</th>\n",
       "    </tr>\n",
       "  </thead>\n",
       "  <tbody>\n",
       "    <tr>\n",
       "      <th>0</th>\n",
       "      <td>30</td>\n",
       "      <td>Saloon</td>\n",
       "      <td>2010-05-14</td>\n",
       "      <td>Male</td>\n",
       "      <td>0040R73</td>\n",
       "      <td>NaN</td>\n",
       "      <td>1</td>\n",
       "      <td>2011-05-13</td>\n",
       "      <td>2010-05-14</td>\n",
       "      <td>Car Classic</td>\n",
       "      <td>NaN</td>\n",
       "      <td>Black</td>\n",
       "      <td>TOYOTA</td>\n",
       "      <td>0.0</td>\n",
       "    </tr>\n",
       "    <tr>\n",
       "      <th>1</th>\n",
       "      <td>79</td>\n",
       "      <td>JEEP</td>\n",
       "      <td>2010-11-29</td>\n",
       "      <td>Female</td>\n",
       "      <td>0046BNK</td>\n",
       "      <td>NaN</td>\n",
       "      <td>1</td>\n",
       "      <td>2011-11-28</td>\n",
       "      <td>2010-11-29</td>\n",
       "      <td>Car Classic</td>\n",
       "      <td>NaN</td>\n",
       "      <td>Grey</td>\n",
       "      <td>TOYOTA</td>\n",
       "      <td>1.0</td>\n",
       "    </tr>\n",
       "    <tr>\n",
       "      <th>2</th>\n",
       "      <td>43</td>\n",
       "      <td>Saloon</td>\n",
       "      <td>2010-03-21</td>\n",
       "      <td>Male</td>\n",
       "      <td>005QMC3</td>\n",
       "      <td>NaN</td>\n",
       "      <td>1</td>\n",
       "      <td>2011-03-20</td>\n",
       "      <td>2010-03-21</td>\n",
       "      <td>Car Classic</td>\n",
       "      <td>NaN</td>\n",
       "      <td>Red</td>\n",
       "      <td>TOYOTA</td>\n",
       "      <td>0.0</td>\n",
       "    </tr>\n",
       "    <tr>\n",
       "      <th>3</th>\n",
       "      <td>2</td>\n",
       "      <td>NaN</td>\n",
       "      <td>2010-08-21</td>\n",
       "      <td>Male</td>\n",
       "      <td>0079OHW</td>\n",
       "      <td>NaN</td>\n",
       "      <td>1</td>\n",
       "      <td>2011-08-20</td>\n",
       "      <td>2010-08-21</td>\n",
       "      <td>CarSafe</td>\n",
       "      <td>NaN</td>\n",
       "      <td>NaN</td>\n",
       "      <td>NaN</td>\n",
       "      <td>0.0</td>\n",
       "    </tr>\n",
       "    <tr>\n",
       "      <th>4</th>\n",
       "      <td>20</td>\n",
       "      <td>NaN</td>\n",
       "      <td>2010-08-29</td>\n",
       "      <td>Entity</td>\n",
       "      <td>00BRP63</td>\n",
       "      <td>Lagos</td>\n",
       "      <td>3</td>\n",
       "      <td>2010-12-31</td>\n",
       "      <td>2010-08-29</td>\n",
       "      <td>Muuve</td>\n",
       "      <td>Lagos</td>\n",
       "      <td>NaN</td>\n",
       "      <td>NaN</td>\n",
       "      <td>1.0</td>\n",
       "    </tr>\n",
       "    <tr>\n",
       "      <th>5</th>\n",
       "      <td>37</td>\n",
       "      <td>NaN</td>\n",
       "      <td>2010-10-21</td>\n",
       "      <td>Male</td>\n",
       "      <td>00D3EF6</td>\n",
       "      <td>NaN</td>\n",
       "      <td>2</td>\n",
       "      <td>2011-10-20</td>\n",
       "      <td>2010-10-21</td>\n",
       "      <td>Car Classic</td>\n",
       "      <td>NaN</td>\n",
       "      <td>NaN</td>\n",
       "      <td>NaN</td>\n",
       "      <td>0.0</td>\n",
       "    </tr>\n",
       "    <tr>\n",
       "      <th>6</th>\n",
       "      <td>40</td>\n",
       "      <td>NaN</td>\n",
       "      <td>2010-08-02</td>\n",
       "      <td>Female</td>\n",
       "      <td>00HHZ8Y</td>\n",
       "      <td>Ikeja</td>\n",
       "      <td>3</td>\n",
       "      <td>2011-08-01</td>\n",
       "      <td>2010-08-02</td>\n",
       "      <td>CVTP</td>\n",
       "      <td>Lagos</td>\n",
       "      <td>NaN</td>\n",
       "      <td>NaN</td>\n",
       "      <td>0.0</td>\n",
       "    </tr>\n",
       "    <tr>\n",
       "      <th>7</th>\n",
       "      <td>43</td>\n",
       "      <td>Saloon</td>\n",
       "      <td>2010-09-12</td>\n",
       "      <td>Male</td>\n",
       "      <td>00M1X6U</td>\n",
       "      <td>NaN</td>\n",
       "      <td>1</td>\n",
       "      <td>2011-09-11</td>\n",
       "      <td>2010-09-12</td>\n",
       "      <td>CarSafe</td>\n",
       "      <td>NaN</td>\n",
       "      <td>NaN</td>\n",
       "      <td>TOYOTA</td>\n",
       "      <td>0.0</td>\n",
       "    </tr>\n",
       "    <tr>\n",
       "      <th>8</th>\n",
       "      <td>71</td>\n",
       "      <td>JEEP</td>\n",
       "      <td>2010-07-06</td>\n",
       "      <td>Female</td>\n",
       "      <td>00N7XT1</td>\n",
       "      <td>Badagry</td>\n",
       "      <td>2</td>\n",
       "      <td>2011-07-05</td>\n",
       "      <td>2010-07-06</td>\n",
       "      <td>Car Classic</td>\n",
       "      <td>Benue</td>\n",
       "      <td>Black</td>\n",
       "      <td>REXTON</td>\n",
       "      <td>0.0</td>\n",
       "    </tr>\n",
       "    <tr>\n",
       "      <th>9</th>\n",
       "      <td>58</td>\n",
       "      <td>NaN</td>\n",
       "      <td>2010-12-18</td>\n",
       "      <td>Female</td>\n",
       "      <td>00QF156</td>\n",
       "      <td>Eti-Osa</td>\n",
       "      <td>1</td>\n",
       "      <td>2011-12-17</td>\n",
       "      <td>2010-12-18</td>\n",
       "      <td>Car Classic</td>\n",
       "      <td>Eti-Osa</td>\n",
       "      <td>NaN</td>\n",
       "      <td>NaN</td>\n",
       "      <td>0.0</td>\n",
       "    </tr>\n",
       "  </tbody>\n",
       "</table>\n",
       "</div>"
      ],
      "text/plain": [
       "   Age Car_Category First Transaction Date  Gender       ID LGA_Name  No_Pol  \\\n",
       "0   30       Saloon             2010-05-14    Male  0040R73      NaN       1   \n",
       "1   79         JEEP             2010-11-29  Female  0046BNK      NaN       1   \n",
       "2   43       Saloon             2010-03-21    Male  005QMC3      NaN       1   \n",
       "3    2          NaN             2010-08-21    Male  0079OHW      NaN       1   \n",
       "4   20          NaN             2010-08-29  Entity  00BRP63    Lagos       3   \n",
       "5   37          NaN             2010-10-21    Male  00D3EF6      NaN       2   \n",
       "6   40          NaN             2010-08-02  Female  00HHZ8Y    Ikeja       3   \n",
       "7   43       Saloon             2010-09-12    Male  00M1X6U      NaN       1   \n",
       "8   71         JEEP             2010-07-06  Female  00N7XT1  Badagry       2   \n",
       "9   58          NaN             2010-12-18  Female  00QF156  Eti-Osa       1   \n",
       "\n",
       "  Policy End Date Policy Start Date  ProductName    State Subject_Car_Colour  \\\n",
       "0      2011-05-13        2010-05-14  Car Classic      NaN              Black   \n",
       "1      2011-11-28        2010-11-29  Car Classic      NaN               Grey   \n",
       "2      2011-03-20        2010-03-21  Car Classic      NaN                Red   \n",
       "3      2011-08-20        2010-08-21      CarSafe      NaN                NaN   \n",
       "4      2010-12-31        2010-08-29        Muuve    Lagos                NaN   \n",
       "5      2011-10-20        2010-10-21  Car Classic      NaN                NaN   \n",
       "6      2011-08-01        2010-08-02         CVTP    Lagos                NaN   \n",
       "7      2011-09-11        2010-09-12      CarSafe      NaN                NaN   \n",
       "8      2011-07-05        2010-07-06  Car Classic    Benue              Black   \n",
       "9      2011-12-17        2010-12-18  Car Classic  Eti-Osa                NaN   \n",
       "\n",
       "  Subject_Car_Make  target  \n",
       "0           TOYOTA     0.0  \n",
       "1           TOYOTA     1.0  \n",
       "2           TOYOTA     0.0  \n",
       "3              NaN     0.0  \n",
       "4              NaN     1.0  \n",
       "5              NaN     0.0  \n",
       "6              NaN     0.0  \n",
       "7           TOYOTA     0.0  \n",
       "8           REXTON     0.0  \n",
       "9              NaN     0.0  "
      ]
     },
     "execution_count": 11,
     "metadata": {},
     "output_type": "execute_result"
    }
   ],
   "source": [
    "data.head(10)"
   ]
  },
  {
   "cell_type": "code",
   "execution_count": 12,
   "metadata": {
    "ExecuteTime": {
     "end_time": "2020-12-08T19:28:36.660829Z",
     "start_time": "2020-12-08T19:28:36.383870Z"
    }
   },
   "outputs": [
    {
     "data": {
      "text/plain": [
       "Age                          0\n",
       "Car_Category              5376\n",
       "First Transaction Date       0\n",
       "Gender                     515\n",
       "ID                           0\n",
       "LGA_Name                  9258\n",
       "No_Pol                       0\n",
       "Policy End Date              0\n",
       "Policy Start Date            0\n",
       "ProductName                  0\n",
       "State                     9276\n",
       "Subject_Car_Colour        9967\n",
       "Subject_Car_Make          3537\n",
       "target                    5177\n",
       "dtype: int64"
      ]
     },
     "execution_count": 12,
     "metadata": {},
     "output_type": "execute_result"
    }
   ],
   "source": [
    "data.isna().sum()"
   ]
  },
  {
   "cell_type": "code",
   "execution_count": 13,
   "metadata": {
    "ExecuteTime": {
     "end_time": "2020-12-08T19:28:36.897560Z",
     "start_time": "2020-12-08T19:28:36.666846Z"
    }
   },
   "outputs": [
    {
     "data": {
      "text/plain": [
       "Saloon                     8612\n",
       "JEEP                       2868\n",
       "Truck                       135\n",
       "Bus                          66\n",
       "Mini Bus                     55\n",
       "Pick Up                      45\n",
       "Motorcycle                   24\n",
       "Sedan                        19\n",
       "Mini Van                     18\n",
       "Wagon                        13\n",
       "Shape Of Vehicle Chasis       8\n",
       "Station 4 Wheel               7\n",
       "Van                           5\n",
       "Pick Up > 3 Tons              3\n",
       "Tipper Truck                  1\n",
       "CAMRY CAR HIRE                1\n",
       "Name: Car_Category, dtype: int64"
      ]
     },
     "execution_count": 13,
     "metadata": {},
     "output_type": "execute_result"
    }
   ],
   "source": [
    "data['Car_Category'].value_counts()\n"
   ]
  },
  {
   "cell_type": "code",
   "execution_count": 14,
   "metadata": {
    "ExecuteTime": {
     "end_time": "2020-12-08T19:28:37.072446Z",
     "start_time": "2020-12-08T19:28:36.902526Z"
    }
   },
   "outputs": [
    {
     "data": {
      "text/plain": [
       "Car Classic         9264\n",
       "CarSafe             5385\n",
       "Customized Motor     786\n",
       "CVTP                 681\n",
       "Car Plus             672\n",
       "CarFlex              253\n",
       "Muuve                148\n",
       "Motor Cycle           61\n",
       "Car Vintage            6\n",
       "Name: ProductName, dtype: int64"
      ]
     },
     "execution_count": 14,
     "metadata": {},
     "output_type": "execute_result"
    }
   ],
   "source": [
    "data['ProductName'].value_counts()"
   ]
  },
  {
   "cell_type": "markdown",
   "metadata": {
    "ExecuteTime": {
     "end_time": "2020-11-28T10:03:58.241816Z",
     "start_time": "2020-11-28T10:03:58.217805Z"
    }
   },
   "source": [
    "## Identifying the various column types"
   ]
  },
  {
   "cell_type": "code",
   "execution_count": 15,
   "metadata": {
    "ExecuteTime": {
     "end_time": "2020-12-08T19:28:37.244219Z",
     "start_time": "2020-12-08T19:28:37.074406Z"
    }
   },
   "outputs": [],
   "source": [
    "date_col = ['Policy Start Date','Policy End Date','First Transaction Date']\n",
    "num_col = ['Age']\n",
    "cat_col = [col for col in test.columns if col not in date_col+num_col]"
   ]
  },
  {
   "cell_type": "code",
   "execution_count": 16,
   "metadata": {
    "ExecuteTime": {
     "end_time": "2020-12-08T19:28:37.432938Z",
     "start_time": "2020-12-08T19:28:37.248223Z"
    }
   },
   "outputs": [
    {
     "data": {
      "text/plain": [
       "['ID',\n",
       " 'Gender',\n",
       " 'No_Pol',\n",
       " 'Car_Category',\n",
       " 'Subject_Car_Colour',\n",
       " 'Subject_Car_Make',\n",
       " 'LGA_Name',\n",
       " 'State',\n",
       " 'ProductName']"
      ]
     },
     "execution_count": 16,
     "metadata": {},
     "output_type": "execute_result"
    }
   ],
   "source": [
    "cat_col"
   ]
  },
  {
   "cell_type": "code",
   "execution_count": 17,
   "metadata": {
    "ExecuteTime": {
     "end_time": "2020-12-08T19:28:37.668068Z",
     "start_time": "2020-12-08T19:28:37.435941Z"
    }
   },
   "outputs": [],
   "source": [
    "one = list(data['Policy Start Date'])\n",
    "two = list(data['First Transaction Date'])\n",
    "\n",
    "check = []\n",
    "\n",
    "for x in range(len(one)):\n",
    "    check.append((one[x], two[x]))"
   ]
  },
  {
   "cell_type": "code",
   "execution_count": 18,
   "metadata": {
    "ExecuteTime": {
     "end_time": "2020-12-08T19:28:37.953684Z",
     "start_time": "2020-12-08T19:28:37.672031Z"
    }
   },
   "outputs": [],
   "source": [
    "check2 = []\n",
    "for x in check:\n",
    "    if x[0] != x[1]:\n",
    "        check2.append(x[0])"
   ]
  },
  {
   "cell_type": "code",
   "execution_count": 19,
   "metadata": {
    "ExecuteTime": {
     "end_time": "2020-12-08T19:28:38.125071Z",
     "start_time": "2020-12-08T19:28:37.956683Z"
    }
   },
   "outputs": [
    {
     "data": {
      "text/plain": [
       "0"
      ]
     },
     "execution_count": 19,
     "metadata": {},
     "output_type": "execute_result"
    }
   ],
   "source": [
    "len(check2)"
   ]
  },
  {
   "cell_type": "markdown",
   "metadata": {},
   "source": [
    "### This means that the Policy start date and First transactional date are equal so we should drop one of them"
   ]
  },
  {
   "cell_type": "code",
   "execution_count": 20,
   "metadata": {
    "ExecuteTime": {
     "end_time": "2020-12-08T19:28:38.332360Z",
     "start_time": "2020-12-08T19:28:38.128035Z"
    }
   },
   "outputs": [
    {
     "data": {
      "text/plain": [
       "TOYOTA            7099\n",
       "Honda             1484\n",
       "Lexus              856\n",
       "Mercedes           754\n",
       "Hyundai            654\n",
       "Kia                484\n",
       "Ford               402\n",
       "Nissan             344\n",
       "Volkswagen         177\n",
       "Iveco              172\n",
       "Range Rover        162\n",
       "Mitsubishi         131\n",
       "ACURA               96\n",
       "Land Rover          92\n",
       "BMW                 87\n",
       "Peugeot             64\n",
       ".                   63\n",
       "Mazda               63\n",
       "Mack                54\n",
       "Volvo               50\n",
       "Audi                41\n",
       "Pontiac             37\n",
       "Infiniti            36\n",
       "Chevrolet           32\n",
       "DAF                 27\n",
       "Skoda               25\n",
       "Jeep                24\n",
       "Porsche             22\n",
       "As Attached         17\n",
       "Scania              15\n",
       "                  ... \n",
       "Innson               3\n",
       "Grand Cherokee       3\n",
       "Hummer               3\n",
       "Seat                 3\n",
       "Wrangler Jeep        3\n",
       "FOTON                3\n",
       "Fiat                 2\n",
       "KA                   2\n",
       "MG                   2\n",
       "Astra                2\n",
       "Buik                 2\n",
       "Jincheng             1\n",
       "Datsun               1\n",
       "Raston               1\n",
       "Ashok Leyland        1\n",
       "ABG                  1\n",
       "Motorcycle           1\n",
       "BRILLIANCE           1\n",
       "Yamaha               1\n",
       "Rols Royce           1\n",
       "Bajaj                1\n",
       "Tata                 1\n",
       "Howo                 1\n",
       "Caddillac            1\n",
       "Lincoln              1\n",
       "ZOYTE                1\n",
       "REXTON               1\n",
       "COMMANDER            1\n",
       "CHANGAN              1\n",
       "Geely                1\n",
       "Name: Subject_Car_Make, Length: 75, dtype: int64"
      ]
     },
     "execution_count": 20,
     "metadata": {},
     "output_type": "execute_result"
    }
   ],
   "source": [
    "data['Subject_Car_Make'].value_counts()"
   ]
  },
  {
   "cell_type": "code",
   "execution_count": 21,
   "metadata": {
    "ExecuteTime": {
     "end_time": "2020-12-08T19:28:38.570604Z",
     "start_time": "2020-12-08T19:28:38.336359Z"
    }
   },
   "outputs": [],
   "source": [
    "\n",
    "data['Car_Category'] = data['Car_Category'].fillna(value='Saloon')\n",
    "\n",
    "data['Gender'] = data['Gender'].fillna(value='NOT STATED')\n",
    "\n",
    "data['LGA_Name'] = data['LGA_Name'].fillna(value='Victoria Island')\n",
    "\n",
    "data['State'] = data['State'].fillna(value='Lagos')\n",
    "\n",
    "data['Subject_Car_Colour'] = data['Subject_Car_Colour'].fillna(value='Black')\n",
    "\n",
    "data['Subject_Car_Make'] = data['Subject_Car_Make'].fillna(value='TOYOTA')"
   ]
  },
  {
   "cell_type": "code",
   "execution_count": 22,
   "metadata": {
    "ExecuteTime": {
     "end_time": "2020-12-08T19:28:38.806414Z",
     "start_time": "2020-12-08T19:28:38.575559Z"
    }
   },
   "outputs": [
    {
     "data": {
      "text/plain": [
       "Age                          0\n",
       "Car_Category                 0\n",
       "First Transaction Date       0\n",
       "Gender                       0\n",
       "ID                           0\n",
       "LGA_Name                     0\n",
       "No_Pol                       0\n",
       "Policy End Date              0\n",
       "Policy Start Date            0\n",
       "ProductName                  0\n",
       "State                        0\n",
       "Subject_Car_Colour           0\n",
       "Subject_Car_Make             0\n",
       "target                    5177\n",
       "dtype: int64"
      ]
     },
     "execution_count": 22,
     "metadata": {},
     "output_type": "execute_result"
    }
   ],
   "source": [
    "data.isna().sum()"
   ]
  },
  {
   "cell_type": "code",
   "execution_count": 23,
   "metadata": {
    "ExecuteTime": {
     "end_time": "2020-12-08T19:28:38.981618Z",
     "start_time": "2020-12-08T19:28:38.819348Z"
    },
    "scrolled": true
   },
   "outputs": [
    {
     "data": {
      "text/plain": [
       "Saloon                     13988\n",
       "JEEP                        2868\n",
       "Truck                        135\n",
       "Bus                           66\n",
       "Mini Bus                      55\n",
       "Pick Up                       45\n",
       "Motorcycle                    24\n",
       "Sedan                         19\n",
       "Mini Van                      18\n",
       "Wagon                         13\n",
       "Shape Of Vehicle Chasis        8\n",
       "Station 4 Wheel                7\n",
       "Van                            5\n",
       "Pick Up > 3 Tons               3\n",
       "Tipper Truck                   1\n",
       "CAMRY CAR HIRE                 1\n",
       "Name: Car_Category, dtype: int64"
      ]
     },
     "execution_count": 23,
     "metadata": {},
     "output_type": "execute_result"
    }
   ],
   "source": [
    "data['Car_Category'].value_counts()"
   ]
  },
  {
   "cell_type": "code",
   "execution_count": 24,
   "metadata": {
    "ExecuteTime": {
     "end_time": "2020-12-08T19:28:39.851036Z",
     "start_time": "2020-12-08T19:28:38.984585Z"
    }
   },
   "outputs": [
    {
     "data": {
      "text/plain": [
       "<matplotlib.axes._subplots.AxesSubplot at 0x237a57662c8>"
      ]
     },
     "execution_count": 24,
     "metadata": {},
     "output_type": "execute_result"
    },
    {
     "data": {
      "image/png": "[encoded data removed]",
      "text/plain": [
       "<Figure size 1080x720 with 1 Axes>"
      ]
     },
     "metadata": {
      "needs_background": "light"
     },
     "output_type": "display_data"
    }
   ],
   "source": [
    "plt.figure(figsize=(15, 10))\n",
    "sns.barplot(x='Gender', y='target', data=data)"
   ]
  },
  {
   "cell_type": "code",
   "execution_count": 25,
   "metadata": {
    "ExecuteTime": {
     "end_time": "2020-12-08T19:28:46.391793Z",
     "start_time": "2020-12-08T19:28:39.858040Z"
    }
   },
   "outputs": [
    {
     "data": {
      "text/plain": [
       "<matplotlib.axes._subplots.AxesSubplot at 0x237a60a6708>"
      ]
     },
     "execution_count": 25,
     "metadata": {},
     "output_type": "execute_result"
    },
    {
     "data": {
      "image/png": "[encoded data removed]",
      "text/plain": [
       "<Figure size 1080x720 with 1 Axes>"
      ]
     },
     "metadata": {
      "needs_background": "light"
     },
     "output_type": "display_data"
    }
   ],
   "source": [
    "plt.figure(figsize=(15, 10))\n",
    "sns.barplot(x='Age', y='target', data=data)"
   ]
  },
  {
   "cell_type": "markdown",
   "metadata": {},
   "source": [
    "# Feature Engineering"
   ]
  },
  {
   "cell_type": "markdown",
   "metadata": {},
   "source": [
    "## creating features that speak to the risk associated with the individual themselves using\n",
    "- Age\n",
    "- Gender\n",
    "- Number of policies (We can create a separate colum from this that identifies wether or not each customer has more than one policies)"
   ]
  },
  {
   "cell_type": "markdown",
   "metadata": {},
   "source": [
    "# We also need to create features that would speak to the \n",
    "- Risk depending on the type of vehicle being insured (Car Category)\n",
    "- Type of Insurance (ProductName)"
   ]
  },
  {
   "cell_type": "code",
   "execution_count": 26,
   "metadata": {
    "ExecuteTime": {
     "end_time": "2020-12-08T19:28:46.433970Z",
     "start_time": "2020-12-08T19:28:46.393462Z"
    }
   },
   "outputs": [],
   "source": [
    "# Fixing the age column as it contains a lot of illegal values\n",
    "\n",
    "def fix_age(x):\n",
    "    if x < 18:\n",
    "        return 0\n",
    "    elif x >= 18 and x <20:\n",
    "        return 1\n",
    "    elif x >=20 and x < 30:\n",
    "        return 2\n",
    "    elif x >= 30 and x < 40:\n",
    "        return 3\n",
    "    elif x >= 40 and x < 50:\n",
    "        return 4\n",
    "    elif x >= 50 and x < 60:\n",
    "        return 5\n",
    "    elif x >= 60 and x < 70:\n",
    "        return 6\n",
    "    elif x >= 70 and x < 80:\n",
    "        return 7\n",
    "    elif x >=80:\n",
    "        return 8\n",
    "    \n",
    "data['Age'] = data['Age'].apply(fix_age)"
   ]
  },
  {
   "cell_type": "code",
   "execution_count": 27,
   "metadata": {
    "ExecuteTime": {
     "end_time": "2020-12-08T19:28:46.621245Z",
     "start_time": "2020-12-08T19:28:46.438977Z"
    }
   },
   "outputs": [
    {
     "data": {
      "text/plain": [
       "3    5492\n",
       "4    5152\n",
       "5    2485\n",
       "2    1157\n",
       "6    1035\n",
       "0     802\n",
       "8     678\n",
       "7     423\n",
       "1      32\n",
       "Name: Age, dtype: int64"
      ]
     },
     "execution_count": 27,
     "metadata": {},
     "output_type": "execute_result"
    }
   ],
   "source": [
    "data['Age'].value_counts()"
   ]
  },
  {
   "cell_type": "code",
   "execution_count": 28,
   "metadata": {
    "ExecuteTime": {
     "end_time": "2020-12-08T19:28:46.827949Z",
     "start_time": "2020-12-08T19:28:46.623208Z"
    }
   },
   "outputs": [],
   "source": [
    "def convert(x):\n",
    "    \n",
    "\n",
    "    load = ['Tipper Truck', 'Pick Up > 3 Tons', 'Wagon', 'Van', 'Truck']\n",
    "    people = ['Saloon', 'Motorcycle', 'JEEP', 'Mini Van', 'CAMRY CAR HIRE', 'Sedan', 'Bus', 'Mini Bus']\n",
    "    both = ['Station 4 Wheel', 'Pick Up']\n",
    "    body = ['Shape Of Vehicle Chasis']\n",
    "    unknown = ['Unknown']\n",
    "    \n",
    "    if x in load:\n",
    "        return 1.0\n",
    "    elif x in people:\n",
    "        return 2.0\n",
    "    elif x in both:\n",
    "        return 3.0\n",
    "    elif x in body:\n",
    "        return 4.0\n",
    "    elif x in unknown:\n",
    "        return 0.0\n",
    "\n",
    "data['Cargo'] = data['Car_Category'].apply(convert)"
   ]
  },
  {
   "cell_type": "code",
   "execution_count": 29,
   "metadata": {
    "ExecuteTime": {
     "end_time": "2020-12-08T19:28:47.031510Z",
     "start_time": "2020-12-08T19:28:46.830915Z"
    }
   },
   "outputs": [],
   "source": [
    "def sizze(x):\n",
    "    \n",
    "    small = ['Motorcycle']\n",
    "    medium = ['Saloon', 'Sedan', 'Shape Of Vehicle Chasis', 'CAMRY CAR HIRE', ]\n",
    "    large = ['JEEP', 'Mini Van',  'Mini Bus', 'Pick Up', 'Wagon']\n",
    "    extra_large = ['Van', 'Truck', 'Pick Up > 3 Tons', 'Tipper Truck', 'Bus', 'Station 4 Wheel']\n",
    "    unknown = ['Unknown']\n",
    "    \n",
    "    if x in small:\n",
    "        return 1.0\n",
    "    if x in medium:\n",
    "        return 2.0\n",
    "    if x in large:\n",
    "        return 3.0\n",
    "    if x in extra_large:\n",
    "        return 4.0\n",
    "    \n",
    "    if x in unknown:\n",
    "        return 0.0\n",
    "    \n",
    "data['Size'] = data['Car_Category'].apply(sizze)"
   ]
  },
  {
   "cell_type": "code",
   "execution_count": 30,
   "metadata": {
    "ExecuteTime": {
     "end_time": "2020-12-08T19:28:47.255509Z",
     "start_time": "2020-12-08T19:28:47.034511Z"
    }
   },
   "outputs": [
    {
     "data": {
      "text/plain": [
       "0"
      ]
     },
     "execution_count": 30,
     "metadata": {},
     "output_type": "execute_result"
    }
   ],
   "source": [
    "data['Size'].isna().sum()"
   ]
  },
  {
   "cell_type": "code",
   "execution_count": 31,
   "metadata": {
    "ExecuteTime": {
     "end_time": "2020-12-08T19:28:47.600019Z",
     "start_time": "2020-12-08T19:28:47.259510Z"
    }
   },
   "outputs": [
    {
     "data": {
      "text/plain": [
       "1     13685\n",
       "2      2399\n",
       "3       795\n",
       "4       299\n",
       "5        33\n",
       "7        24\n",
       "6        11\n",
       "10       10\n",
       "Name: No_Pol, dtype: int64"
      ]
     },
     "execution_count": 31,
     "metadata": {},
     "output_type": "execute_result"
    }
   ],
   "source": [
    "data['No_Pol'].value_counts()"
   ]
  },
  {
   "cell_type": "code",
   "execution_count": 32,
   "metadata": {
    "ExecuteTime": {
     "end_time": "2020-12-08T19:28:47.788978Z",
     "start_time": "2020-12-08T19:28:47.602987Z"
    }
   },
   "outputs": [],
   "source": [
    "def risk(x):\n",
    "    if x <= 1:\n",
    "        return 0\n",
    "    else:\n",
    "        return x\n",
    "data['Higher Risk'] = data['No_Pol'].apply(risk)"
   ]
  },
  {
   "cell_type": "code",
   "execution_count": 33,
   "metadata": {
    "ExecuteTime": {
     "end_time": "2020-12-08T19:28:47.994911Z",
     "start_time": "2020-12-08T19:28:47.794979Z"
    },
    "scrolled": true
   },
   "outputs": [
    {
     "data": {
      "text/plain": [
       "0     13685\n",
       "2      2399\n",
       "3       795\n",
       "4       299\n",
       "5        33\n",
       "7        24\n",
       "6        11\n",
       "10       10\n",
       "Name: Higher Risk, dtype: int64"
      ]
     },
     "execution_count": 33,
     "metadata": {},
     "output_type": "execute_result"
    }
   ],
   "source": [
    "data['Higher Risk'].value_counts()"
   ]
  },
  {
   "cell_type": "code",
   "execution_count": 34,
   "metadata": {
    "ExecuteTime": {
     "end_time": "2020-12-08T19:28:48.186469Z",
     "start_time": "2020-12-08T19:28:48.004915Z"
    }
   },
   "outputs": [],
   "source": [
    "data['Black'] = data['Subject_Car_Colour'].apply(lambda x: 1 if x=='Black' else 0)"
   ]
  },
  {
   "cell_type": "code",
   "execution_count": 35,
   "metadata": {
    "ExecuteTime": {
     "end_time": "2020-12-08T19:28:48.359610Z",
     "start_time": "2020-12-08T19:28:48.188597Z"
    }
   },
   "outputs": [
    {
     "data": {
      "text/plain": [
       "Index(['Age', 'Car_Category', 'First Transaction Date', 'Gender', 'ID',\n",
       "       'LGA_Name', 'No_Pol', 'Policy End Date', 'Policy Start Date',\n",
       "       'ProductName', 'State', 'Subject_Car_Colour', 'Subject_Car_Make',\n",
       "       'target', 'Cargo', 'Size', 'Higher Risk', 'Black'],\n",
       "      dtype='object')"
      ]
     },
     "execution_count": 35,
     "metadata": {},
     "output_type": "execute_result"
    }
   ],
   "source": [
    "data.columns"
   ]
  },
  {
   "cell_type": "code",
   "execution_count": null,
   "metadata": {},
   "outputs": [],
   "source": []
  },
  {
   "cell_type": "markdown",
   "metadata": {
    "ExecuteTime": {
     "end_time": "2020-11-30T13:08:26.089288Z",
     "start_time": "2020-11-30T13:08:26.073242Z"
    }
   },
   "source": [
    "# One Hot Encoding"
   ]
  },
  {
   "cell_type": "code",
   "execution_count": 36,
   "metadata": {
    "ExecuteTime": {
     "end_time": "2020-12-08T19:28:48.772503Z",
     "start_time": "2020-12-08T19:28:48.362609Z"
    }
   },
   "outputs": [],
   "source": [
    "#data = pd.get_dummies(data, columns=['Age'])\n",
    "#data = pd.get_dummies(data, columns=['Subject_Car_Colour'])\n",
    "#data = pd.get_dummies(data, columns=['Subject_Car_Make'])\n",
    "data = pd.get_dummies(data, columns=['Size'])\n",
    "data = pd.get_dummies(data, columns=['Cargo'])\n",
    "data = pd.get_dummies(data, columns=['Black'])\n",
    "data = pd.get_dummies(data, columns=['Higher Risk'])\n",
    "data = pd.get_dummies(data, columns= ['Car_Category'])\n",
    "data = pd.get_dummies(data, columns=['Gender'])\n",
    "data = pd.get_dummies(data, columns=['ProductName'])"
   ]
  },
  {
   "cell_type": "markdown",
   "metadata": {
    "ExecuteTime": {
     "end_time": "2020-11-28T13:44:58.657993Z",
     "start_time": "2020-11-28T13:44:58.633996Z"
    }
   },
   "source": [
    "# Categorical Encoder"
   ]
  },
  {
   "cell_type": "code",
   "execution_count": 37,
   "metadata": {
    "ExecuteTime": {
     "end_time": "2020-12-08T19:28:49.789535Z",
     "start_time": "2020-12-08T19:28:48.775522Z"
    }
   },
   "outputs": [],
   "source": [
    "from sklearn.preprocessing import LabelEncoder, OneHotEncoder"
   ]
  },
  {
   "cell_type": "code",
   "execution_count": 38,
   "metadata": {
    "ExecuteTime": {
     "end_time": "2020-12-08T19:28:49.819709Z",
     "start_time": "2020-12-08T19:28:49.796387Z"
    },
    "scrolled": true
   },
   "outputs": [
    {
     "data": {
      "text/plain": [
       "['ID',\n",
       " 'Gender',\n",
       " 'No_Pol',\n",
       " 'Car_Category',\n",
       " 'Subject_Car_Colour',\n",
       " 'Subject_Car_Make',\n",
       " 'LGA_Name',\n",
       " 'State',\n",
       " 'ProductName']"
      ]
     },
     "execution_count": 38,
     "metadata": {},
     "output_type": "execute_result"
    }
   ],
   "source": [
    "cat_col"
   ]
  },
  {
   "cell_type": "code",
   "execution_count": 39,
   "metadata": {
    "ExecuteTime": {
     "end_time": "2020-12-08T19:28:49.995510Z",
     "start_time": "2020-12-08T19:28:49.824683Z"
    }
   },
   "outputs": [
    {
     "data": {
      "text/plain": [
       "Index(['Age', 'First Transaction Date', 'ID', 'LGA_Name', 'No_Pol',\n",
       "       'Policy End Date', 'Policy Start Date', 'State', 'Subject_Car_Colour',\n",
       "       'Subject_Car_Make', 'target', 'Size_1.0', 'Size_2.0', 'Size_3.0',\n",
       "       'Size_4.0', 'Cargo_1.0', 'Cargo_2.0', 'Cargo_3.0', 'Cargo_4.0',\n",
       "       'Black_0', 'Black_1', 'Higher Risk_0', 'Higher Risk_2', 'Higher Risk_3',\n",
       "       'Higher Risk_4', 'Higher Risk_5', 'Higher Risk_6', 'Higher Risk_7',\n",
       "       'Higher Risk_10', 'Car_Category_Bus', 'Car_Category_CAMRY CAR HIRE',\n",
       "       'Car_Category_JEEP', 'Car_Category_Mini Bus', 'Car_Category_Mini Van',\n",
       "       'Car_Category_Motorcycle', 'Car_Category_Pick Up',\n",
       "       'Car_Category_Pick Up > 3 Tons', 'Car_Category_Saloon',\n",
       "       'Car_Category_Sedan', 'Car_Category_Shape Of Vehicle Chasis',\n",
       "       'Car_Category_Station 4 Wheel', 'Car_Category_Tipper Truck',\n",
       "       'Car_Category_Truck', 'Car_Category_Van', 'Car_Category_Wagon',\n",
       "       'Gender_Entity', 'Gender_Female', 'Gender_Joint Gender', 'Gender_Male',\n",
       "       'Gender_NO GENDER', 'Gender_NOT STATED', 'Gender_SEX',\n",
       "       'ProductName_CVTP', 'ProductName_Car Classic', 'ProductName_Car Plus',\n",
       "       'ProductName_Car Vintage', 'ProductName_CarFlex', 'ProductName_CarSafe',\n",
       "       'ProductName_Customized Motor', 'ProductName_Motor Cycle',\n",
       "       'ProductName_Muuve'],\n",
       "      dtype='object')"
      ]
     },
     "execution_count": 39,
     "metadata": {},
     "output_type": "execute_result"
    }
   ],
   "source": [
    "data.columns"
   ]
  },
  {
   "cell_type": "code",
   "execution_count": 40,
   "metadata": {
    "ExecuteTime": {
     "end_time": "2020-12-08T19:28:50.201514Z",
     "start_time": "2020-12-08T19:28:49.999514Z"
    },
    "scrolled": true
   },
   "outputs": [],
   "source": [
    "cat_col = ['ID',\n",
    " 'No_Pol','Subject_Car_Colour',\n",
    " 'LGA_Name','Subject_Car_Make',\n",
    " 'State']\n",
    "\n",
    "encoder = LabelEncoder()\n",
    "\n",
    "for col in cat_col:\n",
    "    \n",
    "    data[col] = encoder.fit_transform(data[col])"
   ]
  },
  {
   "cell_type": "code",
   "execution_count": 41,
   "metadata": {
    "ExecuteTime": {
     "end_time": "2020-12-08T19:28:50.389551Z",
     "start_time": "2020-12-08T19:28:50.211543Z"
    }
   },
   "outputs": [
    {
     "name": "stdout",
     "output_type": "stream",
     "text": [
      "<class 'pandas.core.frame.DataFrame'>\n",
      "RangeIndex: 17256 entries, 0 to 17255\n",
      "Data columns (total 61 columns):\n",
      "Age                                     17256 non-null int64\n",
      "First Transaction Date                  17256 non-null object\n",
      "ID                                      17256 non-null int32\n",
      "LGA_Name                                17256 non-null int32\n",
      "No_Pol                                  17256 non-null int64\n",
      "Policy End Date                         17256 non-null object\n",
      "Policy Start Date                       17256 non-null object\n",
      "State                                   17256 non-null int32\n",
      "Subject_Car_Colour                      17256 non-null int32\n",
      "Subject_Car_Make                        17256 non-null int32\n",
      "target                                  12079 non-null float64\n",
      "Size_1.0                                17256 non-null uint8\n",
      "Size_2.0                                17256 non-null uint8\n",
      "Size_3.0                                17256 non-null uint8\n",
      "Size_4.0                                17256 non-null uint8\n",
      "Cargo_1.0                               17256 non-null uint8\n",
      "Cargo_2.0                               17256 non-null uint8\n",
      "Cargo_3.0                               17256 non-null uint8\n",
      "Cargo_4.0                               17256 non-null uint8\n",
      "Black_0                                 17256 non-null uint8\n",
      "Black_1                                 17256 non-null uint8\n",
      "Higher Risk_0                           17256 non-null uint8\n",
      "Higher Risk_2                           17256 non-null uint8\n",
      "Higher Risk_3                           17256 non-null uint8\n",
      "Higher Risk_4                           17256 non-null uint8\n",
      "Higher Risk_5                           17256 non-null uint8\n",
      "Higher Risk_6                           17256 non-null uint8\n",
      "Higher Risk_7                           17256 non-null uint8\n",
      "Higher Risk_10                          17256 non-null uint8\n",
      "Car_Category_Bus                        17256 non-null uint8\n",
      "Car_Category_CAMRY CAR HIRE             17256 non-null uint8\n",
      "Car_Category_JEEP                       17256 non-null uint8\n",
      "Car_Category_Mini Bus                   17256 non-null uint8\n",
      "Car_Category_Mini Van                   17256 non-null uint8\n",
      "Car_Category_Motorcycle                 17256 non-null uint8\n",
      "Car_Category_Pick Up                    17256 non-null uint8\n",
      "Car_Category_Pick Up > 3 Tons           17256 non-null uint8\n",
      "Car_Category_Saloon                     17256 non-null uint8\n",
      "Car_Category_Sedan                      17256 non-null uint8\n",
      "Car_Category_Shape Of Vehicle Chasis    17256 non-null uint8\n",
      "Car_Category_Station 4 Wheel            17256 non-null uint8\n",
      "Car_Category_Tipper Truck               17256 non-null uint8\n",
      "Car_Category_Truck                      17256 non-null uint8\n",
      "Car_Category_Van                        17256 non-null uint8\n",
      "Car_Category_Wagon                      17256 non-null uint8\n",
      "Gender_Entity                           17256 non-null uint8\n",
      "Gender_Female                           17256 non-null uint8\n",
      "Gender_Joint Gender                     17256 non-null uint8\n",
      "Gender_Male                             17256 non-null uint8\n",
      "Gender_NO GENDER                        17256 non-null uint8\n",
      "Gender_NOT STATED                       17256 non-null uint8\n",
      "Gender_SEX                              17256 non-null uint8\n",
      "ProductName_CVTP                        17256 non-null uint8\n",
      "ProductName_Car Classic                 17256 non-null uint8\n",
      "ProductName_Car Plus                    17256 non-null uint8\n",
      "ProductName_Car Vintage                 17256 non-null uint8\n",
      "ProductName_CarFlex                     17256 non-null uint8\n",
      "ProductName_CarSafe                     17256 non-null uint8\n",
      "ProductName_Customized Motor            17256 non-null uint8\n",
      "ProductName_Motor Cycle                 17256 non-null uint8\n",
      "ProductName_Muuve                       17256 non-null uint8\n",
      "dtypes: float64(1), int32(5), int64(2), object(3), uint8(50)\n",
      "memory usage: 1.9+ MB\n"
     ]
    }
   ],
   "source": [
    "data.info()"
   ]
  },
  {
   "cell_type": "code",
   "execution_count": 42,
   "metadata": {
    "ExecuteTime": {
     "end_time": "2020-12-08T19:28:50.565323Z",
     "start_time": "2020-12-08T19:28:50.392513Z"
    }
   },
   "outputs": [],
   "source": [
    "# Convert to datatime features\n",
    "\n",
    "data['Policy Start Date'] = pd.to_datetime(data['Policy Start Date'])\n",
    "data['Policy End Date'] = pd.to_datetime(data['Policy End Date'])"
   ]
  },
  {
   "cell_type": "code",
   "execution_count": 43,
   "metadata": {
    "ExecuteTime": {
     "end_time": "2020-12-08T19:28:50.773319Z",
     "start_time": "2020-12-08T19:28:50.568324Z"
    }
   },
   "outputs": [
    {
     "name": "stdout",
     "output_type": "stream",
     "text": [
      "<class 'pandas.core.frame.DataFrame'>\n",
      "RangeIndex: 17256 entries, 0 to 17255\n",
      "Data columns (total 61 columns):\n",
      "Age                                     17256 non-null int64\n",
      "First Transaction Date                  17256 non-null object\n",
      "ID                                      17256 non-null int32\n",
      "LGA_Name                                17256 non-null int32\n",
      "No_Pol                                  17256 non-null int64\n",
      "Policy End Date                         17256 non-null datetime64[ns]\n",
      "Policy Start Date                       17256 non-null datetime64[ns]\n",
      "State                                   17256 non-null int32\n",
      "Subject_Car_Colour                      17256 non-null int32\n",
      "Subject_Car_Make                        17256 non-null int32\n",
      "target                                  12079 non-null float64\n",
      "Size_1.0                                17256 non-null uint8\n",
      "Size_2.0                                17256 non-null uint8\n",
      "Size_3.0                                17256 non-null uint8\n",
      "Size_4.0                                17256 non-null uint8\n",
      "Cargo_1.0                               17256 non-null uint8\n",
      "Cargo_2.0                               17256 non-null uint8\n",
      "Cargo_3.0                               17256 non-null uint8\n",
      "Cargo_4.0                               17256 non-null uint8\n",
      "Black_0                                 17256 non-null uint8\n",
      "Black_1                                 17256 non-null uint8\n",
      "Higher Risk_0                           17256 non-null uint8\n",
      "Higher Risk_2                           17256 non-null uint8\n",
      "Higher Risk_3                           17256 non-null uint8\n",
      "Higher Risk_4                           17256 non-null uint8\n",
      "Higher Risk_5                           17256 non-null uint8\n",
      "Higher Risk_6                           17256 non-null uint8\n",
      "Higher Risk_7                           17256 non-null uint8\n",
      "Higher Risk_10                          17256 non-null uint8\n",
      "Car_Category_Bus                        17256 non-null uint8\n",
      "Car_Category_CAMRY CAR HIRE             17256 non-null uint8\n",
      "Car_Category_JEEP                       17256 non-null uint8\n",
      "Car_Category_Mini Bus                   17256 non-null uint8\n",
      "Car_Category_Mini Van                   17256 non-null uint8\n",
      "Car_Category_Motorcycle                 17256 non-null uint8\n",
      "Car_Category_Pick Up                    17256 non-null uint8\n",
      "Car_Category_Pick Up > 3 Tons           17256 non-null uint8\n",
      "Car_Category_Saloon                     17256 non-null uint8\n",
      "Car_Category_Sedan                      17256 non-null uint8\n",
      "Car_Category_Shape Of Vehicle Chasis    17256 non-null uint8\n",
      "Car_Category_Station 4 Wheel            17256 non-null uint8\n",
      "Car_Category_Tipper Truck               17256 non-null uint8\n",
      "Car_Category_Truck                      17256 non-null uint8\n",
      "Car_Category_Van                        17256 non-null uint8\n",
      "Car_Category_Wagon                      17256 non-null uint8\n",
      "Gender_Entity                           17256 non-null uint8\n",
      "Gender_Female                           17256 non-null uint8\n",
      "Gender_Joint Gender                     17256 non-null uint8\n",
      "Gender_Male                             17256 non-null uint8\n",
      "Gender_NO GENDER                        17256 non-null uint8\n",
      "Gender_NOT STATED                       17256 non-null uint8\n",
      "Gender_SEX                              17256 non-null uint8\n",
      "ProductName_CVTP                        17256 non-null uint8\n",
      "ProductName_Car Classic                 17256 non-null uint8\n",
      "ProductName_Car Plus                    17256 non-null uint8\n",
      "ProductName_Car Vintage                 17256 non-null uint8\n",
      "ProductName_CarFlex                     17256 non-null uint8\n",
      "ProductName_CarSafe                     17256 non-null uint8\n",
      "ProductName_Customized Motor            17256 non-null uint8\n",
      "ProductName_Motor Cycle                 17256 non-null uint8\n",
      "ProductName_Muuve                       17256 non-null uint8\n",
      "dtypes: datetime64[ns](2), float64(1), int32(5), int64(2), object(1), uint8(50)\n",
      "memory usage: 1.9+ MB\n"
     ]
    }
   ],
   "source": [
    "data.info()"
   ]
  },
  {
   "cell_type": "markdown",
   "metadata": {},
   "source": [
    "# Expanding the date time objects, additional feature creation"
   ]
  },
  {
   "cell_type": "code",
   "execution_count": 44,
   "metadata": {
    "ExecuteTime": {
     "end_time": "2020-12-08T19:28:50.978182Z",
     "start_time": "2020-12-08T19:28:50.777330Z"
    }
   },
   "outputs": [],
   "source": [
    "# Start\n",
    "data['start day'] = data['Policy Start Date'].dt.day\n",
    "data['start month'] = data['Policy Start Date'].dt.month\n",
    "data['start year'] = data['Policy Start Date'].dt.year\n",
    "\n",
    "# End\n",
    "data['end day'] = data['Policy End Date'].dt.day\n",
    "data['end month'] = data['Policy End Date'].dt.month\n",
    "data['end year'] = data['Policy End Date'].dt.year"
   ]
  },
  {
   "cell_type": "code",
   "execution_count": 45,
   "metadata": {
    "ExecuteTime": {
     "end_time": "2020-12-08T19:28:51.120171Z",
     "start_time": "2020-12-08T19:28:50.985178Z"
    },
    "scrolled": true
   },
   "outputs": [
    {
     "data": {
      "text/plain": [
       "2011    16997\n",
       "2010      250\n",
       "2012        3\n",
       "2041        2\n",
       "2016        2\n",
       "2037        1\n",
       "2034        1\n",
       "Name: end year, dtype: int64"
      ]
     },
     "execution_count": 45,
     "metadata": {},
     "output_type": "execute_result"
    }
   ],
   "source": [
    "data['end year'].value_counts()"
   ]
  },
  {
   "cell_type": "code",
   "execution_count": 46,
   "metadata": {
    "ExecuteTime": {
     "end_time": "2020-12-08T19:28:51.337616Z",
     "start_time": "2020-12-08T19:28:51.123176Z"
    }
   },
   "outputs": [
    {
     "data": {
      "text/plain": [
       "2010    17241\n",
       "2009        7\n",
       "2006        2\n",
       "2003        2\n",
       "2007        1\n",
       "2005        1\n",
       "2002        1\n",
       "2001        1\n",
       "Name: start year, dtype: int64"
      ]
     },
     "execution_count": 46,
     "metadata": {},
     "output_type": "execute_result"
    }
   ],
   "source": [
    "data['start year'].value_counts()"
   ]
  },
  {
   "cell_type": "code",
   "execution_count": 47,
   "metadata": {
    "ExecuteTime": {
     "end_time": "2020-12-08T19:28:51.667035Z",
     "start_time": "2020-12-08T19:28:51.340585Z"
    }
   },
   "outputs": [],
   "source": [
    "# Caution\n",
    "\n",
    "data['day'] = data['end day'] - data['start day']\n",
    "data['month'] = data['end month'] - data['start month']\n",
    "data['year'] = data['end year'] - data['start year']\n",
    "\n",
    "#data.drop(['end day', 'end month', 'end year', 'start day', 'start year', 'start month'], axis=1, inplace=True)"
   ]
  },
  {
   "cell_type": "code",
   "execution_count": 48,
   "metadata": {
    "ExecuteTime": {
     "end_time": "2020-12-08T19:28:51.792781Z",
     "start_time": "2020-12-08T19:28:51.676758Z"
    }
   },
   "outputs": [
    {
     "data": {
      "text/html": [
       "<div>\n",
       "<style scoped>\n",
       "    .dataframe tbody tr th:only-of-type {\n",
       "        vertical-align: middle;\n",
       "    }\n",
       "\n",
       "    .dataframe tbody tr th {\n",
       "        vertical-align: top;\n",
       "    }\n",
       "\n",
       "    .dataframe thead th {\n",
       "        text-align: right;\n",
       "    }\n",
       "</style>\n",
       "<table border=\"1\" class=\"dataframe\">\n",
       "  <thead>\n",
       "    <tr style=\"text-align: right;\">\n",
       "      <th></th>\n",
       "      <th>Age</th>\n",
       "      <th>First Transaction Date</th>\n",
       "      <th>ID</th>\n",
       "      <th>LGA_Name</th>\n",
       "      <th>No_Pol</th>\n",
       "      <th>Policy End Date</th>\n",
       "      <th>Policy Start Date</th>\n",
       "      <th>State</th>\n",
       "      <th>Subject_Car_Colour</th>\n",
       "      <th>Subject_Car_Make</th>\n",
       "      <th>...</th>\n",
       "      <th>ProductName_Muuve</th>\n",
       "      <th>start day</th>\n",
       "      <th>start month</th>\n",
       "      <th>start year</th>\n",
       "      <th>end day</th>\n",
       "      <th>end month</th>\n",
       "      <th>end year</th>\n",
       "      <th>day</th>\n",
       "      <th>month</th>\n",
       "      <th>year</th>\n",
       "    </tr>\n",
       "  </thead>\n",
       "  <tbody>\n",
       "    <tr>\n",
       "      <th>0</th>\n",
       "      <td>3</td>\n",
       "      <td>2010-05-14</td>\n",
       "      <td>0</td>\n",
       "      <td>258</td>\n",
       "      <td>0</td>\n",
       "      <td>2011-05-13</td>\n",
       "      <td>2010-05-14</td>\n",
       "      <td>74</td>\n",
       "      <td>4</td>\n",
       "      <td>68</td>\n",
       "      <td>...</td>\n",
       "      <td>0</td>\n",
       "      <td>14</td>\n",
       "      <td>5</td>\n",
       "      <td>2010</td>\n",
       "      <td>13</td>\n",
       "      <td>5</td>\n",
       "      <td>2011</td>\n",
       "      <td>-1</td>\n",
       "      <td>0</td>\n",
       "      <td>1</td>\n",
       "    </tr>\n",
       "    <tr>\n",
       "      <th>1</th>\n",
       "      <td>7</td>\n",
       "      <td>2010-11-29</td>\n",
       "      <td>1</td>\n",
       "      <td>258</td>\n",
       "      <td>0</td>\n",
       "      <td>2011-11-28</td>\n",
       "      <td>2010-11-29</td>\n",
       "      <td>74</td>\n",
       "      <td>26</td>\n",
       "      <td>68</td>\n",
       "      <td>...</td>\n",
       "      <td>0</td>\n",
       "      <td>29</td>\n",
       "      <td>11</td>\n",
       "      <td>2010</td>\n",
       "      <td>28</td>\n",
       "      <td>11</td>\n",
       "      <td>2011</td>\n",
       "      <td>-1</td>\n",
       "      <td>0</td>\n",
       "      <td>1</td>\n",
       "    </tr>\n",
       "    <tr>\n",
       "      <th>2</th>\n",
       "      <td>4</td>\n",
       "      <td>2010-03-21</td>\n",
       "      <td>2</td>\n",
       "      <td>258</td>\n",
       "      <td>0</td>\n",
       "      <td>2011-03-20</td>\n",
       "      <td>2010-03-21</td>\n",
       "      <td>74</td>\n",
       "      <td>32</td>\n",
       "      <td>68</td>\n",
       "      <td>...</td>\n",
       "      <td>0</td>\n",
       "      <td>21</td>\n",
       "      <td>3</td>\n",
       "      <td>2010</td>\n",
       "      <td>20</td>\n",
       "      <td>3</td>\n",
       "      <td>2011</td>\n",
       "      <td>-1</td>\n",
       "      <td>0</td>\n",
       "      <td>1</td>\n",
       "    </tr>\n",
       "    <tr>\n",
       "      <th>3</th>\n",
       "      <td>0</td>\n",
       "      <td>2010-08-21</td>\n",
       "      <td>3</td>\n",
       "      <td>258</td>\n",
       "      <td>0</td>\n",
       "      <td>2011-08-20</td>\n",
       "      <td>2010-08-21</td>\n",
       "      <td>74</td>\n",
       "      <td>4</td>\n",
       "      <td>68</td>\n",
       "      <td>...</td>\n",
       "      <td>0</td>\n",
       "      <td>21</td>\n",
       "      <td>8</td>\n",
       "      <td>2010</td>\n",
       "      <td>20</td>\n",
       "      <td>8</td>\n",
       "      <td>2011</td>\n",
       "      <td>-1</td>\n",
       "      <td>0</td>\n",
       "      <td>1</td>\n",
       "    </tr>\n",
       "    <tr>\n",
       "      <th>4</th>\n",
       "      <td>2</td>\n",
       "      <td>2010-08-29</td>\n",
       "      <td>5</td>\n",
       "      <td>165</td>\n",
       "      <td>2</td>\n",
       "      <td>2010-12-31</td>\n",
       "      <td>2010-08-29</td>\n",
       "      <td>74</td>\n",
       "      <td>4</td>\n",
       "      <td>68</td>\n",
       "      <td>...</td>\n",
       "      <td>1</td>\n",
       "      <td>29</td>\n",
       "      <td>8</td>\n",
       "      <td>2010</td>\n",
       "      <td>31</td>\n",
       "      <td>12</td>\n",
       "      <td>2010</td>\n",
       "      <td>2</td>\n",
       "      <td>4</td>\n",
       "      <td>0</td>\n",
       "    </tr>\n",
       "  </tbody>\n",
       "</table>\n",
       "<p>5 rows × 70 columns</p>\n",
       "</div>"
      ],
      "text/plain": [
       "   Age First Transaction Date  ID  LGA_Name  No_Pol Policy End Date  \\\n",
       "0    3             2010-05-14   0       258       0      2011-05-13   \n",
       "1    7             2010-11-29   1       258       0      2011-11-28   \n",
       "2    4             2010-03-21   2       258       0      2011-03-20   \n",
       "3    0             2010-08-21   3       258       0      2011-08-20   \n",
       "4    2             2010-08-29   5       165       2      2010-12-31   \n",
       "\n",
       "  Policy Start Date  State  Subject_Car_Colour  Subject_Car_Make  ...  \\\n",
       "0        2010-05-14     74                   4                68  ...   \n",
       "1        2010-11-29     74                  26                68  ...   \n",
       "2        2010-03-21     74                  32                68  ...   \n",
       "3        2010-08-21     74                   4                68  ...   \n",
       "4        2010-08-29     74                   4                68  ...   \n",
       "\n",
       "   ProductName_Muuve  start day  start month  start year  end day  end month  \\\n",
       "0                  0         14            5        2010       13          5   \n",
       "1                  0         29           11        2010       28         11   \n",
       "2                  0         21            3        2010       20          3   \n",
       "3                  0         21            8        2010       20          8   \n",
       "4                  1         29            8        2010       31         12   \n",
       "\n",
       "   end year  day  month  year  \n",
       "0      2011   -1      0     1  \n",
       "1      2011   -1      0     1  \n",
       "2      2011   -1      0     1  \n",
       "3      2011   -1      0     1  \n",
       "4      2010    2      4     0  \n",
       "\n",
       "[5 rows x 70 columns]"
      ]
     },
     "execution_count": 48,
     "metadata": {},
     "output_type": "execute_result"
    }
   ],
   "source": [
    "data.head()"
   ]
  },
  {
   "cell_type": "code",
   "execution_count": 49,
   "metadata": {
    "ExecuteTime": {
     "end_time": "2020-12-08T19:28:51.967790Z",
     "start_time": "2020-12-08T19:28:51.796784Z"
    }
   },
   "outputs": [],
   "source": [
    "data.drop(['First Transaction Date', 'No_Pol','Policy End Date', 'Policy Start Date', 'ID'], axis=1, inplace=True)\n",
    "# data.drop(['First Transaction Date', 'Policy End Date', 'Policy Start Date', 'LGA_Name', 'ID'], axis=1, inplace=True)"
   ]
  },
  {
   "cell_type": "markdown",
   "metadata": {
    "ExecuteTime": {
     "end_time": "2020-11-28T14:55:12.470551Z",
     "start_time": "2020-11-28T14:55:12.448562Z"
    }
   },
   "source": [
    "# Exploratory Data Analysis"
   ]
  },
  {
   "cell_type": "code",
   "execution_count": 50,
   "metadata": {
    "ExecuteTime": {
     "end_time": "2020-12-08T19:28:52.142633Z",
     "start_time": "2020-12-08T19:28:51.969793Z"
    }
   },
   "outputs": [],
   "source": [
    "#plt.figure(figsize=(20,15))\n",
    "\n",
    "#sns.heatmap(data.corr(), cmap='coolwarm')"
   ]
  },
  {
   "cell_type": "code",
   "execution_count": 51,
   "metadata": {
    "ExecuteTime": {
     "end_time": "2020-12-08T19:28:52.442739Z",
     "start_time": "2020-12-08T19:28:52.145352Z"
    }
   },
   "outputs": [
    {
     "data": {
      "text/html": [
       "<div>\n",
       "<style scoped>\n",
       "    .dataframe tbody tr th:only-of-type {\n",
       "        vertical-align: middle;\n",
       "    }\n",
       "\n",
       "    .dataframe tbody tr th {\n",
       "        vertical-align: top;\n",
       "    }\n",
       "\n",
       "    .dataframe thead th {\n",
       "        text-align: right;\n",
       "    }\n",
       "</style>\n",
       "<table border=\"1\" class=\"dataframe\">\n",
       "  <thead>\n",
       "    <tr style=\"text-align: right;\">\n",
       "      <th></th>\n",
       "      <th>Age</th>\n",
       "      <th>LGA_Name</th>\n",
       "      <th>State</th>\n",
       "      <th>Subject_Car_Colour</th>\n",
       "      <th>Subject_Car_Make</th>\n",
       "      <th>target</th>\n",
       "      <th>Size_1.0</th>\n",
       "      <th>Size_2.0</th>\n",
       "      <th>Size_3.0</th>\n",
       "      <th>Size_4.0</th>\n",
       "      <th>...</th>\n",
       "      <th>ProductName_Muuve</th>\n",
       "      <th>start day</th>\n",
       "      <th>start month</th>\n",
       "      <th>start year</th>\n",
       "      <th>end day</th>\n",
       "      <th>end month</th>\n",
       "      <th>end year</th>\n",
       "      <th>day</th>\n",
       "      <th>month</th>\n",
       "      <th>year</th>\n",
       "    </tr>\n",
       "  </thead>\n",
       "  <tbody>\n",
       "    <tr>\n",
       "      <th>0</th>\n",
       "      <td>3</td>\n",
       "      <td>258</td>\n",
       "      <td>74</td>\n",
       "      <td>4</td>\n",
       "      <td>68</td>\n",
       "      <td>0.0</td>\n",
       "      <td>0</td>\n",
       "      <td>1</td>\n",
       "      <td>0</td>\n",
       "      <td>0</td>\n",
       "      <td>...</td>\n",
       "      <td>0</td>\n",
       "      <td>14</td>\n",
       "      <td>5</td>\n",
       "      <td>2010</td>\n",
       "      <td>13</td>\n",
       "      <td>5</td>\n",
       "      <td>2011</td>\n",
       "      <td>-1</td>\n",
       "      <td>0</td>\n",
       "      <td>1</td>\n",
       "    </tr>\n",
       "    <tr>\n",
       "      <th>1</th>\n",
       "      <td>7</td>\n",
       "      <td>258</td>\n",
       "      <td>74</td>\n",
       "      <td>26</td>\n",
       "      <td>68</td>\n",
       "      <td>1.0</td>\n",
       "      <td>0</td>\n",
       "      <td>0</td>\n",
       "      <td>1</td>\n",
       "      <td>0</td>\n",
       "      <td>...</td>\n",
       "      <td>0</td>\n",
       "      <td>29</td>\n",
       "      <td>11</td>\n",
       "      <td>2010</td>\n",
       "      <td>28</td>\n",
       "      <td>11</td>\n",
       "      <td>2011</td>\n",
       "      <td>-1</td>\n",
       "      <td>0</td>\n",
       "      <td>1</td>\n",
       "    </tr>\n",
       "    <tr>\n",
       "      <th>2</th>\n",
       "      <td>4</td>\n",
       "      <td>258</td>\n",
       "      <td>74</td>\n",
       "      <td>32</td>\n",
       "      <td>68</td>\n",
       "      <td>0.0</td>\n",
       "      <td>0</td>\n",
       "      <td>1</td>\n",
       "      <td>0</td>\n",
       "      <td>0</td>\n",
       "      <td>...</td>\n",
       "      <td>0</td>\n",
       "      <td>21</td>\n",
       "      <td>3</td>\n",
       "      <td>2010</td>\n",
       "      <td>20</td>\n",
       "      <td>3</td>\n",
       "      <td>2011</td>\n",
       "      <td>-1</td>\n",
       "      <td>0</td>\n",
       "      <td>1</td>\n",
       "    </tr>\n",
       "    <tr>\n",
       "      <th>3</th>\n",
       "      <td>0</td>\n",
       "      <td>258</td>\n",
       "      <td>74</td>\n",
       "      <td>4</td>\n",
       "      <td>68</td>\n",
       "      <td>0.0</td>\n",
       "      <td>0</td>\n",
       "      <td>1</td>\n",
       "      <td>0</td>\n",
       "      <td>0</td>\n",
       "      <td>...</td>\n",
       "      <td>0</td>\n",
       "      <td>21</td>\n",
       "      <td>8</td>\n",
       "      <td>2010</td>\n",
       "      <td>20</td>\n",
       "      <td>8</td>\n",
       "      <td>2011</td>\n",
       "      <td>-1</td>\n",
       "      <td>0</td>\n",
       "      <td>1</td>\n",
       "    </tr>\n",
       "    <tr>\n",
       "      <th>4</th>\n",
       "      <td>2</td>\n",
       "      <td>165</td>\n",
       "      <td>74</td>\n",
       "      <td>4</td>\n",
       "      <td>68</td>\n",
       "      <td>1.0</td>\n",
       "      <td>0</td>\n",
       "      <td>1</td>\n",
       "      <td>0</td>\n",
       "      <td>0</td>\n",
       "      <td>...</td>\n",
       "      <td>1</td>\n",
       "      <td>29</td>\n",
       "      <td>8</td>\n",
       "      <td>2010</td>\n",
       "      <td>31</td>\n",
       "      <td>12</td>\n",
       "      <td>2010</td>\n",
       "      <td>2</td>\n",
       "      <td>4</td>\n",
       "      <td>0</td>\n",
       "    </tr>\n",
       "    <tr>\n",
       "      <th>5</th>\n",
       "      <td>3</td>\n",
       "      <td>258</td>\n",
       "      <td>74</td>\n",
       "      <td>4</td>\n",
       "      <td>68</td>\n",
       "      <td>0.0</td>\n",
       "      <td>0</td>\n",
       "      <td>1</td>\n",
       "      <td>0</td>\n",
       "      <td>0</td>\n",
       "      <td>...</td>\n",
       "      <td>0</td>\n",
       "      <td>21</td>\n",
       "      <td>10</td>\n",
       "      <td>2010</td>\n",
       "      <td>20</td>\n",
       "      <td>10</td>\n",
       "      <td>2011</td>\n",
       "      <td>-1</td>\n",
       "      <td>0</td>\n",
       "      <td>1</td>\n",
       "    </tr>\n",
       "    <tr>\n",
       "      <th>6</th>\n",
       "      <td>4</td>\n",
       "      <td>123</td>\n",
       "      <td>74</td>\n",
       "      <td>4</td>\n",
       "      <td>68</td>\n",
       "      <td>0.0</td>\n",
       "      <td>0</td>\n",
       "      <td>1</td>\n",
       "      <td>0</td>\n",
       "      <td>0</td>\n",
       "      <td>...</td>\n",
       "      <td>0</td>\n",
       "      <td>2</td>\n",
       "      <td>8</td>\n",
       "      <td>2010</td>\n",
       "      <td>1</td>\n",
       "      <td>8</td>\n",
       "      <td>2011</td>\n",
       "      <td>-1</td>\n",
       "      <td>0</td>\n",
       "      <td>1</td>\n",
       "    </tr>\n",
       "    <tr>\n",
       "      <th>7</th>\n",
       "      <td>4</td>\n",
       "      <td>258</td>\n",
       "      <td>74</td>\n",
       "      <td>4</td>\n",
       "      <td>68</td>\n",
       "      <td>0.0</td>\n",
       "      <td>0</td>\n",
       "      <td>1</td>\n",
       "      <td>0</td>\n",
       "      <td>0</td>\n",
       "      <td>...</td>\n",
       "      <td>0</td>\n",
       "      <td>12</td>\n",
       "      <td>9</td>\n",
       "      <td>2010</td>\n",
       "      <td>11</td>\n",
       "      <td>9</td>\n",
       "      <td>2011</td>\n",
       "      <td>-1</td>\n",
       "      <td>0</td>\n",
       "      <td>1</td>\n",
       "    </tr>\n",
       "    <tr>\n",
       "      <th>8</th>\n",
       "      <td>7</td>\n",
       "      <td>52</td>\n",
       "      <td>23</td>\n",
       "      <td>4</td>\n",
       "      <td>58</td>\n",
       "      <td>0.0</td>\n",
       "      <td>0</td>\n",
       "      <td>0</td>\n",
       "      <td>1</td>\n",
       "      <td>0</td>\n",
       "      <td>...</td>\n",
       "      <td>0</td>\n",
       "      <td>6</td>\n",
       "      <td>7</td>\n",
       "      <td>2010</td>\n",
       "      <td>5</td>\n",
       "      <td>7</td>\n",
       "      <td>2011</td>\n",
       "      <td>-1</td>\n",
       "      <td>0</td>\n",
       "      <td>1</td>\n",
       "    </tr>\n",
       "    <tr>\n",
       "      <th>9</th>\n",
       "      <td>5</td>\n",
       "      <td>89</td>\n",
       "      <td>39</td>\n",
       "      <td>4</td>\n",
       "      <td>68</td>\n",
       "      <td>0.0</td>\n",
       "      <td>0</td>\n",
       "      <td>1</td>\n",
       "      <td>0</td>\n",
       "      <td>0</td>\n",
       "      <td>...</td>\n",
       "      <td>0</td>\n",
       "      <td>18</td>\n",
       "      <td>12</td>\n",
       "      <td>2010</td>\n",
       "      <td>17</td>\n",
       "      <td>12</td>\n",
       "      <td>2011</td>\n",
       "      <td>-1</td>\n",
       "      <td>0</td>\n",
       "      <td>1</td>\n",
       "    </tr>\n",
       "  </tbody>\n",
       "</table>\n",
       "<p>10 rows × 65 columns</p>\n",
       "</div>"
      ],
      "text/plain": [
       "   Age  LGA_Name  State  Subject_Car_Colour  Subject_Car_Make  target  \\\n",
       "0    3       258     74                   4                68     0.0   \n",
       "1    7       258     74                  26                68     1.0   \n",
       "2    4       258     74                  32                68     0.0   \n",
       "3    0       258     74                   4                68     0.0   \n",
       "4    2       165     74                   4                68     1.0   \n",
       "5    3       258     74                   4                68     0.0   \n",
       "6    4       123     74                   4                68     0.0   \n",
       "7    4       258     74                   4                68     0.0   \n",
       "8    7        52     23                   4                58     0.0   \n",
       "9    5        89     39                   4                68     0.0   \n",
       "\n",
       "   Size_1.0  Size_2.0  Size_3.0  Size_4.0  ...  ProductName_Muuve  start day  \\\n",
       "0         0         1         0         0  ...                  0         14   \n",
       "1         0         0         1         0  ...                  0         29   \n",
       "2         0         1         0         0  ...                  0         21   \n",
       "3         0         1         0         0  ...                  0         21   \n",
       "4         0         1         0         0  ...                  1         29   \n",
       "5         0         1         0         0  ...                  0         21   \n",
       "6         0         1         0         0  ...                  0          2   \n",
       "7         0         1         0         0  ...                  0         12   \n",
       "8         0         0         1         0  ...                  0          6   \n",
       "9         0         1         0         0  ...                  0         18   \n",
       "\n",
       "   start month  start year  end day  end month  end year  day  month  year  \n",
       "0            5        2010       13          5      2011   -1      0     1  \n",
       "1           11        2010       28         11      2011   -1      0     1  \n",
       "2            3        2010       20          3      2011   -1      0     1  \n",
       "3            8        2010       20          8      2011   -1      0     1  \n",
       "4            8        2010       31         12      2010    2      4     0  \n",
       "5           10        2010       20         10      2011   -1      0     1  \n",
       "6            8        2010        1          8      2011   -1      0     1  \n",
       "7            9        2010       11          9      2011   -1      0     1  \n",
       "8            7        2010        5          7      2011   -1      0     1  \n",
       "9           12        2010       17         12      2011   -1      0     1  \n",
       "\n",
       "[10 rows x 65 columns]"
      ]
     },
     "execution_count": 51,
     "metadata": {},
     "output_type": "execute_result"
    }
   ],
   "source": [
    "data.head(10)"
   ]
  },
  {
   "cell_type": "code",
   "execution_count": 52,
   "metadata": {
    "ExecuteTime": {
     "end_time": "2020-12-08T19:28:52.618613Z",
     "start_time": "2020-12-08T19:28:52.447734Z"
    }
   },
   "outputs": [
    {
     "data": {
      "text/plain": [
       "0.0    10624\n",
       "1.0     1455\n",
       "Name: target, dtype: int64"
      ]
     },
     "execution_count": 52,
     "metadata": {},
     "output_type": "execute_result"
    }
   ],
   "source": [
    "data['target'].value_counts()"
   ]
  },
  {
   "cell_type": "code",
   "execution_count": null,
   "metadata": {},
   "outputs": [],
   "source": []
  },
  {
   "cell_type": "markdown",
   "metadata": {},
   "source": [
    "# Spliting and Scaling the data"
   ]
  },
  {
   "cell_type": "code",
   "execution_count": 53,
   "metadata": {
    "ExecuteTime": {
     "end_time": "2020-12-08T19:28:52.822746Z",
     "start_time": "2020-12-08T19:28:52.625570Z"
    }
   },
   "outputs": [],
   "source": [
    "train = data.iloc[0:12079, :]\n",
    "test = data.iloc[12079:, :].drop('target', axis=1)"
   ]
  },
  {
   "cell_type": "code",
   "execution_count": 54,
   "metadata": {
    "ExecuteTime": {
     "end_time": "2020-12-08T19:28:52.995793Z",
     "start_time": "2020-12-08T19:28:52.828741Z"
    }
   },
   "outputs": [
    {
     "name": "stdout",
     "output_type": "stream",
     "text": [
      "<class 'pandas.core.frame.DataFrame'>\n",
      "RangeIndex: 12079 entries, 0 to 12078\n",
      "Data columns (total 65 columns):\n",
      "Age                                     12079 non-null int64\n",
      "LGA_Name                                12079 non-null int32\n",
      "State                                   12079 non-null int32\n",
      "Subject_Car_Colour                      12079 non-null int32\n",
      "Subject_Car_Make                        12079 non-null int32\n",
      "target                                  12079 non-null float64\n",
      "Size_1.0                                12079 non-null uint8\n",
      "Size_2.0                                12079 non-null uint8\n",
      "Size_3.0                                12079 non-null uint8\n",
      "Size_4.0                                12079 non-null uint8\n",
      "Cargo_1.0                               12079 non-null uint8\n",
      "Cargo_2.0                               12079 non-null uint8\n",
      "Cargo_3.0                               12079 non-null uint8\n",
      "Cargo_4.0                               12079 non-null uint8\n",
      "Black_0                                 12079 non-null uint8\n",
      "Black_1                                 12079 non-null uint8\n",
      "Higher Risk_0                           12079 non-null uint8\n",
      "Higher Risk_2                           12079 non-null uint8\n",
      "Higher Risk_3                           12079 non-null uint8\n",
      "Higher Risk_4                           12079 non-null uint8\n",
      "Higher Risk_5                           12079 non-null uint8\n",
      "Higher Risk_6                           12079 non-null uint8\n",
      "Higher Risk_7                           12079 non-null uint8\n",
      "Higher Risk_10                          12079 non-null uint8\n",
      "Car_Category_Bus                        12079 non-null uint8\n",
      "Car_Category_CAMRY CAR HIRE             12079 non-null uint8\n",
      "Car_Category_JEEP                       12079 non-null uint8\n",
      "Car_Category_Mini Bus                   12079 non-null uint8\n",
      "Car_Category_Mini Van                   12079 non-null uint8\n",
      "Car_Category_Motorcycle                 12079 non-null uint8\n",
      "Car_Category_Pick Up                    12079 non-null uint8\n",
      "Car_Category_Pick Up > 3 Tons           12079 non-null uint8\n",
      "Car_Category_Saloon                     12079 non-null uint8\n",
      "Car_Category_Sedan                      12079 non-null uint8\n",
      "Car_Category_Shape Of Vehicle Chasis    12079 non-null uint8\n",
      "Car_Category_Station 4 Wheel            12079 non-null uint8\n",
      "Car_Category_Tipper Truck               12079 non-null uint8\n",
      "Car_Category_Truck                      12079 non-null uint8\n",
      "Car_Category_Van                        12079 non-null uint8\n",
      "Car_Category_Wagon                      12079 non-null uint8\n",
      "Gender_Entity                           12079 non-null uint8\n",
      "Gender_Female                           12079 non-null uint8\n",
      "Gender_Joint Gender                     12079 non-null uint8\n",
      "Gender_Male                             12079 non-null uint8\n",
      "Gender_NO GENDER                        12079 non-null uint8\n",
      "Gender_NOT STATED                       12079 non-null uint8\n",
      "Gender_SEX                              12079 non-null uint8\n",
      "ProductName_CVTP                        12079 non-null uint8\n",
      "ProductName_Car Classic                 12079 non-null uint8\n",
      "ProductName_Car Plus                    12079 non-null uint8\n",
      "ProductName_Car Vintage                 12079 non-null uint8\n",
      "ProductName_CarFlex                     12079 non-null uint8\n",
      "ProductName_CarSafe                     12079 non-null uint8\n",
      "ProductName_Customized Motor            12079 non-null uint8\n",
      "ProductName_Motor Cycle                 12079 non-null uint8\n",
      "ProductName_Muuve                       12079 non-null uint8\n",
      "start day                               12079 non-null int64\n",
      "start month                             12079 non-null int64\n",
      "start year                              12079 non-null int64\n",
      "end day                                 12079 non-null int64\n",
      "end month                               12079 non-null int64\n",
      "end year                                12079 non-null int64\n",
      "day                                     12079 non-null int64\n",
      "month                                   12079 non-null int64\n",
      "year                                    12079 non-null int64\n",
      "dtypes: float64(1), int32(4), int64(10), uint8(50)\n",
      "memory usage: 1.8 MB\n"
     ]
    }
   ],
   "source": [
    "train.info()"
   ]
  },
  {
   "cell_type": "code",
   "execution_count": 55,
   "metadata": {
    "ExecuteTime": {
     "end_time": "2020-12-08T19:28:53.170863Z",
     "start_time": "2020-12-08T19:28:52.998800Z"
    },
    "scrolled": false
   },
   "outputs": [
    {
     "name": "stdout",
     "output_type": "stream",
     "text": [
      "<class 'pandas.core.frame.DataFrame'>\n",
      "RangeIndex: 5177 entries, 12079 to 17255\n",
      "Data columns (total 64 columns):\n",
      "Age                                     5177 non-null int64\n",
      "LGA_Name                                5177 non-null int32\n",
      "State                                   5177 non-null int32\n",
      "Subject_Car_Colour                      5177 non-null int32\n",
      "Subject_Car_Make                        5177 non-null int32\n",
      "Size_1.0                                5177 non-null uint8\n",
      "Size_2.0                                5177 non-null uint8\n",
      "Size_3.0                                5177 non-null uint8\n",
      "Size_4.0                                5177 non-null uint8\n",
      "Cargo_1.0                               5177 non-null uint8\n",
      "Cargo_2.0                               5177 non-null uint8\n",
      "Cargo_3.0                               5177 non-null uint8\n",
      "Cargo_4.0                               5177 non-null uint8\n",
      "Black_0                                 5177 non-null uint8\n",
      "Black_1                                 5177 non-null uint8\n",
      "Higher Risk_0                           5177 non-null uint8\n",
      "Higher Risk_2                           5177 non-null uint8\n",
      "Higher Risk_3                           5177 non-null uint8\n",
      "Higher Risk_4                           5177 non-null uint8\n",
      "Higher Risk_5                           5177 non-null uint8\n",
      "Higher Risk_6                           5177 non-null uint8\n",
      "Higher Risk_7                           5177 non-null uint8\n",
      "Higher Risk_10                          5177 non-null uint8\n",
      "Car_Category_Bus                        5177 non-null uint8\n",
      "Car_Category_CAMRY CAR HIRE             5177 non-null uint8\n",
      "Car_Category_JEEP                       5177 non-null uint8\n",
      "Car_Category_Mini Bus                   5177 non-null uint8\n",
      "Car_Category_Mini Van                   5177 non-null uint8\n",
      "Car_Category_Motorcycle                 5177 non-null uint8\n",
      "Car_Category_Pick Up                    5177 non-null uint8\n",
      "Car_Category_Pick Up > 3 Tons           5177 non-null uint8\n",
      "Car_Category_Saloon                     5177 non-null uint8\n",
      "Car_Category_Sedan                      5177 non-null uint8\n",
      "Car_Category_Shape Of Vehicle Chasis    5177 non-null uint8\n",
      "Car_Category_Station 4 Wheel            5177 non-null uint8\n",
      "Car_Category_Tipper Truck               5177 non-null uint8\n",
      "Car_Category_Truck                      5177 non-null uint8\n",
      "Car_Category_Van                        5177 non-null uint8\n",
      "Car_Category_Wagon                      5177 non-null uint8\n",
      "Gender_Entity                           5177 non-null uint8\n",
      "Gender_Female                           5177 non-null uint8\n",
      "Gender_Joint Gender                     5177 non-null uint8\n",
      "Gender_Male                             5177 non-null uint8\n",
      "Gender_NO GENDER                        5177 non-null uint8\n",
      "Gender_NOT STATED                       5177 non-null uint8\n",
      "Gender_SEX                              5177 non-null uint8\n",
      "ProductName_CVTP                        5177 non-null uint8\n",
      "ProductName_Car Classic                 5177 non-null uint8\n",
      "ProductName_Car Plus                    5177 non-null uint8\n",
      "ProductName_Car Vintage                 5177 non-null uint8\n",
      "ProductName_CarFlex                     5177 non-null uint8\n",
      "ProductName_CarSafe                     5177 non-null uint8\n",
      "ProductName_Customized Motor            5177 non-null uint8\n",
      "ProductName_Motor Cycle                 5177 non-null uint8\n",
      "ProductName_Muuve                       5177 non-null uint8\n",
      "start day                               5177 non-null int64\n",
      "start month                             5177 non-null int64\n",
      "start year                              5177 non-null int64\n",
      "end day                                 5177 non-null int64\n",
      "end month                               5177 non-null int64\n",
      "end year                                5177 non-null int64\n",
      "day                                     5177 non-null int64\n",
      "month                                   5177 non-null int64\n",
      "year                                    5177 non-null int64\n",
      "dtypes: int32(4), int64(10), uint8(50)\n",
      "memory usage: 738.2 KB\n"
     ]
    }
   ],
   "source": [
    "test.info()"
   ]
  },
  {
   "cell_type": "code",
   "execution_count": null,
   "metadata": {},
   "outputs": [],
   "source": []
  },
  {
   "cell_type": "markdown",
   "metadata": {},
   "source": [
    "# Fixing the class imbalance"
   ]
  },
  {
   "cell_type": "code",
   "execution_count": 56,
   "metadata": {
    "ExecuteTime": {
     "end_time": "2020-12-08T19:28:53.344845Z",
     "start_time": "2020-12-08T19:28:53.174865Z"
    }
   },
   "outputs": [],
   "source": [
    "X_train = train.drop(['target'], axis=1).copy()\n",
    "y_train = train['target'].copy()"
   ]
  },
  {
   "cell_type": "code",
   "execution_count": 57,
   "metadata": {
    "ExecuteTime": {
     "end_time": "2020-12-08T19:28:53.598471Z",
     "start_time": "2020-12-08T19:28:53.347846Z"
    }
   },
   "outputs": [
    {
     "data": {
      "text/plain": [
       "((12079, 64), (12079,))"
      ]
     },
     "execution_count": 57,
     "metadata": {},
     "output_type": "execute_result"
    }
   ],
   "source": [
    "X_train.shape, y_train.shape"
   ]
  },
  {
   "cell_type": "code",
   "execution_count": 58,
   "metadata": {
    "ExecuteTime": {
     "end_time": "2020-12-08T19:28:53.801619Z",
     "start_time": "2020-12-08T19:28:53.609473Z"
    }
   },
   "outputs": [
    {
     "data": {
      "text/plain": [
       "0        0.0\n",
       "1        1.0\n",
       "2        0.0\n",
       "3        0.0\n",
       "4        1.0\n",
       "5        0.0\n",
       "6        0.0\n",
       "7        0.0\n",
       "8        0.0\n",
       "9        0.0\n",
       "10       0.0\n",
       "11       0.0\n",
       "12       1.0\n",
       "13       0.0\n",
       "14       0.0\n",
       "15       0.0\n",
       "16       0.0\n",
       "17       0.0\n",
       "18       0.0\n",
       "19       0.0\n",
       "20       0.0\n",
       "21       0.0\n",
       "22       1.0\n",
       "23       0.0\n",
       "24       0.0\n",
       "25       0.0\n",
       "26       0.0\n",
       "27       0.0\n",
       "28       0.0\n",
       "29       0.0\n",
       "        ... \n",
       "12049    0.0\n",
       "12050    0.0\n",
       "12051    0.0\n",
       "12052    0.0\n",
       "12053    0.0\n",
       "12054    0.0\n",
       "12055    0.0\n",
       "12056    0.0\n",
       "12057    0.0\n",
       "12058    0.0\n",
       "12059    0.0\n",
       "12060    0.0\n",
       "12061    0.0\n",
       "12062    1.0\n",
       "12063    0.0\n",
       "12064    0.0\n",
       "12065    0.0\n",
       "12066    0.0\n",
       "12067    0.0\n",
       "12068    0.0\n",
       "12069    0.0\n",
       "12070    1.0\n",
       "12071    0.0\n",
       "12072    0.0\n",
       "12073    0.0\n",
       "12074    1.0\n",
       "12075    0.0\n",
       "12076    0.0\n",
       "12077    0.0\n",
       "12078    0.0\n",
       "Name: target, Length: 12079, dtype: float64"
      ]
     },
     "execution_count": 58,
     "metadata": {},
     "output_type": "execute_result"
    }
   ],
   "source": [
    "y_train"
   ]
  },
  {
   "cell_type": "code",
   "execution_count": 59,
   "metadata": {
    "ExecuteTime": {
     "end_time": "2020-12-08T19:28:58.188813Z",
     "start_time": "2020-12-08T19:28:53.810616Z"
    }
   },
   "outputs": [
    {
     "name": "stdout",
     "output_type": "stream",
     "text": [
      "(12079, 64) (12079,)\n",
      "(15936, 64) (15936,)\n"
     ]
    },
    {
     "name": "stderr",
     "output_type": "stream",
     "text": [
      "C:\\Users\\Chizurum_Olorondu\\anaconda3\\envs\\tf_gpu\\lib\\site-packages\\imblearn\\utils\\_validation.py:638: FutureWarning: Pass sampling_strategy=0.5 as keyword args. From version 0.9 passing these as positional arguments will result in an error\n",
      "  FutureWarning)\n"
     ]
    }
   ],
   "source": [
    "from imblearn.over_sampling import ADASYN, BorderlineSMOTE, RandomOverSampler, SMOTE\n",
    "\n",
    "os = RandomOverSampler(0.5, random_state=10)\n",
    "print(X_train.shape, y_train.shape)\n",
    "X_train, y_train = os.fit_sample(X_train, y_train)\n",
    "print(X_train.shape, y_train.shape)"
   ]
  },
  {
   "cell_type": "code",
   "execution_count": 60,
   "metadata": {
    "ExecuteTime": {
     "end_time": "2020-12-08T19:28:58.204818Z",
     "start_time": "2020-12-08T19:28:58.192811Z"
    }
   },
   "outputs": [],
   "source": [
    "from sklearn.preprocessing import StandardScaler, MinMaxScaler"
   ]
  },
  {
   "cell_type": "code",
   "execution_count": 61,
   "metadata": {
    "ExecuteTime": {
     "end_time": "2020-12-08T19:28:58.378807Z",
     "start_time": "2020-12-08T19:28:58.213881Z"
    }
   },
   "outputs": [],
   "source": [
    "#X_train = StandardScaler().fit_transform(X_train)\n",
    "#test = StandardScaler().fit_transform(test)"
   ]
  },
  {
   "cell_type": "markdown",
   "metadata": {},
   "source": [
    "# Feature Selection"
   ]
  },
  {
   "cell_type": "code",
   "execution_count": 62,
   "metadata": {
    "ExecuteTime": {
     "end_time": "2020-12-08T19:28:58.885915Z",
     "start_time": "2020-12-08T19:28:58.381775Z"
    }
   },
   "outputs": [],
   "source": [
    "from sklearn.feature_selection import SelectKBest\n",
    "from sklearn.feature_selection import chi2\n",
    "\n",
    "from sklearn.feature_selection import VarianceThreshold\n"
   ]
  },
  {
   "cell_type": "code",
   "execution_count": null,
   "metadata": {},
   "outputs": [],
   "source": []
  },
  {
   "cell_type": "code",
   "execution_count": null,
   "metadata": {},
   "outputs": [],
   "source": []
  },
  {
   "cell_type": "markdown",
   "metadata": {},
   "source": [
    "# Models"
   ]
  },
  {
   "cell_type": "code",
   "execution_count": 63,
   "metadata": {
    "ExecuteTime": {
     "end_time": "2020-12-08T19:28:59.792595Z",
     "start_time": "2020-12-08T19:28:58.893760Z"
    }
   },
   "outputs": [],
   "source": [
    "from catboost import CatBoostClassifier\n",
    "from xgboost import XGBClassifier\n",
    "from sklearn.ensemble import RandomForestClassifier\n",
    "from sklearn.linear_model import LogisticRegression\n",
    "from lightgbm import LGBMClassifier\n",
    "from sklearn.tree import DecisionTreeClassifier"
   ]
  },
  {
   "cell_type": "code",
   "execution_count": 64,
   "metadata": {
    "ExecuteTime": {
     "end_time": "2020-12-08T19:28:59.838560Z",
     "start_time": "2020-12-08T19:28:59.792595Z"
    }
   },
   "outputs": [
    {
     "data": {
      "text/plain": [
       "'from sklearn.model_selection import StratifiedShuffleSplit\\n\\nss = StratifiedShuffleSplit(n_splits=1, test_size=0.1, random_state=10)\\n\\nfor train_index, test_index in ss.split(X_train, y_train):\\n    X_train, X_test = X_train.iloc[train_index], X_train.iloc[test_index]\\n    y_train, y_test = y_train.iloc[train_index], y_train.iloc[test_index]'"
      ]
     },
     "execution_count": 64,
     "metadata": {},
     "output_type": "execute_result"
    }
   ],
   "source": [
    "'''from sklearn.model_selection import StratifiedShuffleSplit\n",
    "\n",
    "ss = StratifiedShuffleSplit(n_splits=1, test_size=0.1, random_state=10)\n",
    "\n",
    "for train_index, test_index in ss.split(X_train, y_train):\n",
    "    X_train, X_test = X_train.iloc[train_index], X_train.iloc[test_index]\n",
    "    y_train, y_test = y_train.iloc[train_index], y_train.iloc[test_index]'''"
   ]
  },
  {
   "cell_type": "code",
   "execution_count": 65,
   "metadata": {
    "ExecuteTime": {
     "end_time": "2020-12-08T19:29:00.021705Z",
     "start_time": "2020-12-08T19:28:59.851557Z"
    }
   },
   "outputs": [],
   "source": [
    "from sklearn.metrics import f1_score"
   ]
  },
  {
   "cell_type": "code",
   "execution_count": 66,
   "metadata": {
    "ExecuteTime": {
     "end_time": "2020-12-08T19:29:23.201232Z",
     "start_time": "2020-12-08T19:29:00.026707Z"
    }
   },
   "outputs": [],
   "source": [
    "from sklearn.feature_selection import RFECV\n",
    "from sklearn.feature_selection import SelectFromModel\n",
    "\n",
    "#model = RandomForestClassifier(random_state=10)\n",
    "#model =  RFECV(RandomForestClassifier(random_state=10, verbose=5), scoring='f1')\n",
    "#m = SelectFromModel(RandomForestClassifier(random_state=10))\n",
    "\n",
    "\n",
    "#m.fit(X_train, y_train)\n",
    "#X_train = m.transform(X_train)\n",
    "#print(X_train.head)\n",
    "\n",
    "model = RandomForestClassifier(n_estimators=1000, random_state=10)\n",
    "model.fit(X_train, y_train)\n",
    "\n",
    "#pred1 = model.predict(X_test)\n",
    "pred = model.predict(test)"
   ]
  },
  {
   "cell_type": "code",
   "execution_count": 67,
   "metadata": {
    "ExecuteTime": {
     "end_time": "2020-12-08T19:29:23.218375Z",
     "start_time": "2020-12-08T19:29:23.202262Z"
    }
   },
   "outputs": [],
   "source": [
    "#print(f1_score(pred1, y_test))"
   ]
  },
  {
   "cell_type": "code",
   "execution_count": 68,
   "metadata": {
    "ExecuteTime": {
     "end_time": "2020-12-08T19:29:23.574069Z",
     "start_time": "2020-12-08T19:29:23.228327Z"
    }
   },
   "outputs": [
    {
     "data": {
      "text/html": [
       "<div>\n",
       "<style scoped>\n",
       "    .dataframe tbody tr th:only-of-type {\n",
       "        vertical-align: middle;\n",
       "    }\n",
       "\n",
       "    .dataframe tbody tr th {\n",
       "        vertical-align: top;\n",
       "    }\n",
       "\n",
       "    .dataframe thead th {\n",
       "        text-align: right;\n",
       "    }\n",
       "</style>\n",
       "<table border=\"1\" class=\"dataframe\">\n",
       "  <thead>\n",
       "    <tr style=\"text-align: right;\">\n",
       "      <th></th>\n",
       "      <th>ID</th>\n",
       "      <th>target</th>\n",
       "    </tr>\n",
       "  </thead>\n",
       "  <tbody>\n",
       "    <tr>\n",
       "      <th>0</th>\n",
       "      <td>009D84L</td>\n",
       "      <td>0</td>\n",
       "    </tr>\n",
       "    <tr>\n",
       "      <th>1</th>\n",
       "      <td>01DO2EQ</td>\n",
       "      <td>0</td>\n",
       "    </tr>\n",
       "    <tr>\n",
       "      <th>2</th>\n",
       "      <td>01QM0NU</td>\n",
       "      <td>0</td>\n",
       "    </tr>\n",
       "    <tr>\n",
       "      <th>3</th>\n",
       "      <td>024NJLZ</td>\n",
       "      <td>0</td>\n",
       "    </tr>\n",
       "    <tr>\n",
       "      <th>4</th>\n",
       "      <td>02BYET3</td>\n",
       "      <td>0</td>\n",
       "    </tr>\n",
       "  </tbody>\n",
       "</table>\n",
       "</div>"
      ],
      "text/plain": [
       "        ID  target\n",
       "0  009D84L       0\n",
       "1  01DO2EQ       0\n",
       "2  01QM0NU       0\n",
       "3  024NJLZ       0\n",
       "4  02BYET3       0"
      ]
     },
     "execution_count": 68,
     "metadata": {},
     "output_type": "execute_result"
    }
   ],
   "source": [
    "submit.head()"
   ]
  },
  {
   "cell_type": "code",
   "execution_count": 69,
   "metadata": {
    "ExecuteTime": {
     "end_time": "2020-12-08T19:29:23.763632Z",
     "start_time": "2020-12-08T19:29:23.577092Z"
    }
   },
   "outputs": [],
   "source": [
    "submit.target = pred"
   ]
  },
  {
   "cell_type": "code",
   "execution_count": 70,
   "metadata": {
    "ExecuteTime": {
     "end_time": "2020-12-08T19:29:23.969823Z",
     "start_time": "2020-12-08T19:29:23.774649Z"
    }
   },
   "outputs": [
    {
     "data": {
      "text/html": [
       "<div>\n",
       "<style scoped>\n",
       "    .dataframe tbody tr th:only-of-type {\n",
       "        vertical-align: middle;\n",
       "    }\n",
       "\n",
       "    .dataframe tbody tr th {\n",
       "        vertical-align: top;\n",
       "    }\n",
       "\n",
       "    .dataframe thead th {\n",
       "        text-align: right;\n",
       "    }\n",
       "</style>\n",
       "<table border=\"1\" class=\"dataframe\">\n",
       "  <thead>\n",
       "    <tr style=\"text-align: right;\">\n",
       "      <th></th>\n",
       "      <th>ID</th>\n",
       "      <th>target</th>\n",
       "    </tr>\n",
       "  </thead>\n",
       "  <tbody>\n",
       "    <tr>\n",
       "      <th>0</th>\n",
       "      <td>009D84L</td>\n",
       "      <td>1.0</td>\n",
       "    </tr>\n",
       "    <tr>\n",
       "      <th>1</th>\n",
       "      <td>01DO2EQ</td>\n",
       "      <td>1.0</td>\n",
       "    </tr>\n",
       "    <tr>\n",
       "      <th>2</th>\n",
       "      <td>01QM0NU</td>\n",
       "      <td>0.0</td>\n",
       "    </tr>\n",
       "    <tr>\n",
       "      <th>3</th>\n",
       "      <td>024NJLZ</td>\n",
       "      <td>0.0</td>\n",
       "    </tr>\n",
       "    <tr>\n",
       "      <th>4</th>\n",
       "      <td>02BYET3</td>\n",
       "      <td>1.0</td>\n",
       "    </tr>\n",
       "  </tbody>\n",
       "</table>\n",
       "</div>"
      ],
      "text/plain": [
       "        ID  target\n",
       "0  009D84L     1.0\n",
       "1  01DO2EQ     1.0\n",
       "2  01QM0NU     0.0\n",
       "3  024NJLZ     0.0\n",
       "4  02BYET3     1.0"
      ]
     },
     "execution_count": 70,
     "metadata": {},
     "output_type": "execute_result"
    }
   ],
   "source": [
    "submit.head()"
   ]
  },
  {
   "cell_type": "code",
   "execution_count": 71,
   "metadata": {
    "ExecuteTime": {
     "end_time": "2020-12-08T19:29:24.176945Z",
     "start_time": "2020-12-08T19:29:23.978823Z"
    }
   },
   "outputs": [],
   "source": [
    "ss = submit.copy()"
   ]
  },
  {
   "cell_type": "code",
   "execution_count": 72,
   "metadata": {
    "ExecuteTime": {
     "end_time": "2020-12-08T19:29:24.466957Z",
     "start_time": "2020-12-08T19:29:24.185758Z"
    }
   },
   "outputs": [],
   "source": [
    "ss.to_csv('5th submission.csv', index=False)"
   ]
  },
  {
   "cell_type": "code",
   "execution_count": null,
   "metadata": {},
   "outputs": [],
   "source": []
  }
 ],
 "metadata": {
  "kernelspec": {
   "display_name": "Python [conda env:tf_gpu]",
   "language": "python",
   "name": "conda-env-tf_gpu-py"
  },
  "language_info": {
   "codemirror_mode": {
    "name": "ipython",
    "version": 3
   },
   "file_extension": ".py",
   "mimetype": "text/x-python",
   "name": "python",
   "nbconvert_exporter": "python",
   "pygments_lexer": "ipython3",
   "version": "3.7.8"
  },
  "toc": {
   "base_numbering": 1,
   "nav_menu": {},
   "number_sections": true,
   "sideBar": true,
   "skip_h1_title": false,
   "title_cell": "Table of Contents",
   "title_sidebar": "Contents",
   "toc_cell": false,
   "toc_position": {},
   "toc_section_display": true,
   "toc_window_display": false
  },
  "varInspector": {
   "cols": {
    "lenName": 16,
    "lenType": 16,
    "lenVar": 40
   },
   "kernels_config": {
    "python": {
     "delete_cmd_postfix": "",
     "delete_cmd_prefix": "del ",
     "library": "var_list.py",
     "varRefreshCmd": "print(var_dic_list())"
    },
    "r": {
     "delete_cmd_postfix": ") ",
     "delete_cmd_prefix": "rm(",
     "library": "var_list.r",
     "varRefreshCmd": "cat(var_dic_list()) "
    }
   },
   "types_to_exclude": [
    "module",
    "function",
    "builtin_function_or_method",
    "instance",
    "_Feature"
   ],
   "window_display": false
  }
 },
 "nbformat": 4,
 "nbformat_minor": 4
}
